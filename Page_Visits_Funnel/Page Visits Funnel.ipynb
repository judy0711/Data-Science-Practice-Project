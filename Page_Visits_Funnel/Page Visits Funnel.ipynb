{
 "metadata": {
  "language_info": {
   "codemirror_mode": {
    "name": "ipython",
    "version": 3
   },
   "file_extension": ".py",
   "mimetype": "text/x-python",
   "name": "python",
   "nbconvert_exporter": "python",
   "pygments_lexer": "ipython3",
   "version": "3.9.4"
  },
  "orig_nbformat": 2,
  "kernelspec": {
   "name": "python394jvsc74a57bd0aee8b7b246df8f9039afb4144a1f6fd8d2ca17a180786b69acc140d282b71a49",
   "display_name": "Python 3.9.4 64-bit"
  }
 },
 "nbformat": 4,
 "nbformat_minor": 2,
 "cells": [
  {
   "source": [
    "# Page Visits Funnel\n",
    "#### Cool T-Shirts Inc. has asked you to analyze data on visits to their website. Your job is to build a funnel, which is a description of how many people continue to the next step of a multi-step process.\n",
    "\n",
    "In this case, our funnel is going to describe the following process:\n",
    "\n",
    "A user visits CoolTShirts.com\n",
    "A user adds a t-shirt to their cart\n",
    "A user clicks “checkout”\n",
    "A user actually purchases a t-shirt"
   ],
   "cell_type": "markdown",
   "metadata": {}
  },
  {
   "cell_type": "code",
   "execution_count": 5,
   "metadata": {},
   "outputs": [],
   "source": [
    "import pandas as pd"
   ]
  },
  {
   "cell_type": "code",
   "execution_count": 6,
   "metadata": {},
   "outputs": [],
   "source": [
    "visits = pd.read_csv('visits.csv')\n",
    "cart = pd.read_csv('cart.csv')\n",
    "checkout = pd.read_csv('checkout.csv')\n",
    "purchase = pd.read_csv('purchase.csv')"
   ]
  },
  {
   "source": [
    "1.\n",
    "Inspect the DataFrames using print and head:\n",
    "\n",
    "- visits lists all of the users who have visited the website\n",
    "- cart lists all of the users who have added a t-shirt to their cart\n",
    "- checkout lists all of the users who have started the checkout\n",
    "- purchase lists all of the users who have purchased a t-shirt"
   ],
   "cell_type": "markdown",
   "metadata": {}
  },
  {
   "cell_type": "code",
   "execution_count": 7,
   "metadata": {},
   "outputs": [
    {
     "output_type": "stream",
     "name": "stdout",
     "text": [
      "                                user_id           visit_time\n0  943647ef-3682-4750-a2e1-918ba6f16188  2017-04-07 15:14:00\n1  0c3a3dd0-fb64-4eac-bf84-ba069ce409f2  2017-01-26 14:24:00\n2  6e0b2d60-4027-4d9a-babd-0e7d40859fb1  2017-08-20 08:23:00\n3  6879527e-c5a6-4d14-b2da-50b85212b0ab  2017-11-04 18:15:00\n4  a84327ff-5daa-4ba1-b789-d5b4caf81e96  2017-02-27 11:25:00\n5  7bc62113-d51d-4e6b-85e0-1cf29e3de74a  2017-06-03 20:05:00\n6  6f22cd44-bc63-4449-a9af-2651859da2f9  2017-03-18 23:09:00\n7  49a6399b-c095-4e42-92eb-af90abe2bb6a  2017-01-10 12:09:00\n8  653c095d-fd74-40dd-ae3b-5a69a2613629  2017-06-27 19:21:00\n9  3d9fdac1-aae3-4a01-b448-934d12047468  2017-09-24 06:43:00\n"
     ]
    }
   ],
   "source": [
    "print(visits.head(10))"
   ]
  },
  {
   "cell_type": "code",
   "execution_count": 8,
   "metadata": {},
   "outputs": [
    {
     "output_type": "stream",
     "name": "stdout",
     "text": [
      "                                user_id            cart_time\n0  2be90e7c-9cca-44e0-bcc5-124b945ff168  2017-11-07 20:45:00\n1  4397f73f-1da3-4ab3-91af-762792e25973  2017-05-27 01:35:00\n2  a9db3d4b-0a0a-4398-a55a-ebb2c7adf663  2017-03-04 10:38:00\n3  b594862a-36c5-47d5-b818-6e9512b939b3  2017-09-27 08:22:00\n4  a68a16e2-94f0-4ce8-8ce3-784af0bbb974  2017-07-26 15:48:00\n5  0c998868-9961-490b-8ec2-9981ba667027  2017-11-27 08:54:00\n6  f783c680-1d9a-437d-9f45-7827299b78fa  2017-06-25 08:08:00\n7  f3dd7631-3cf6-4d49-9c6e-b48eda4432b5  2017-01-04 09:57:00\n8  4cdd357a-199e-4d81-ae9e-7252fa34ee0f  2017-05-23 22:25:00\n9  3c3460b3-a56d-4d92-908d-29dcca34db18  2017-01-06 14:56:00\n"
     ]
    }
   ],
   "source": [
    "print(cart.head(10))"
   ]
  },
  {
   "cell_type": "code",
   "execution_count": 9,
   "metadata": {},
   "outputs": [
    {
     "output_type": "stream",
     "name": "stdout",
     "text": [
      "                                user_id        checkout_time\n0  d33bdc47-4afa-45bc-b4e4-dbe948e34c0d  2017-06-25 09:29:00\n1  4ac186f0-9954-4fea-8a27-c081e428e34e  2017-04-07 20:11:00\n2  3c9c78a7-124a-4b77-8d2e-e1926e011e7d  2017-07-13 11:38:00\n3  89fe330a-8966-4756-8f7c-3bdbcd47279a  2017-04-20 16:15:00\n4  3ccdaf69-2d30-40de-b083-51372881aedd  2017-01-08 20:52:00\n5  a25aad6a-55af-4ddc-92d1-e8c58f855329  2017-01-05 20:07:00\n6  3327f8fb-c5a0-421e-a0d1-fb619b79ab45  2017-08-17 04:20:00\n7  9c3ea739-7968-429c-87f6-f213ef7b9fcb  2017-04-16 21:22:00\n8  cb3ad392-baeb-4e28-a673-eaaf4bac68a4  2017-04-10 21:09:00\n9  fc3bd8b7-4ce7-4c46-90a7-373d0a8a3e00  2017-10-03 16:53:00\n"
     ]
    }
   ],
   "source": [
    "print(checkout.head(10))"
   ]
  },
  {
   "cell_type": "code",
   "execution_count": 10,
   "metadata": {},
   "outputs": [
    {
     "output_type": "stream",
     "name": "stdout",
     "text": [
      "                                user_id        purchase_time\n0  4b44ace4-2721-47a0-b24b-15fbfa2abf85  2017-05-11 04:25:00\n1  02e684ae-a448-408f-a9ff-dcb4a5c99aac  2017-09-05 08:45:00\n2  4b4bc391-749e-4b90-ab8f-4f6e3c84d6dc  2017-11-20 20:49:00\n3  a5dbb25f-3c36-4103-9030-9f7c6241cd8d  2017-01-22 15:18:00\n4  46a3186d-7f5a-4ab9-87af-84d05bfd4867  2017-06-11 11:32:00\n5  5ae833dc-8866-4baa-9617-2009d6474ffa  2017-07-26 16:46:00\n6  70688015-a755-4b8a-a963-3528d85c8048  2017-09-24 08:05:00\n7  c504ff0d-eefe-472b-826c-471142311857  2017-05-02 07:56:00\n8  99ad37b5-30b1-4a06-ad47-d9d2d60cdb07  2017-02-20 11:11:00\n9  4b44ace4-2721-47a0-b24b-15fbfa2abf85  2017-05-11 04:18:00\n"
     ]
    }
   ],
   "source": [
    "print(purchase.head(10))"
   ]
  },
  {
   "source": [
    "2. Combine visits and cart using a left merge."
   ],
   "cell_type": "markdown",
   "metadata": {}
  },
  {
   "cell_type": "code",
   "execution_count": 25,
   "metadata": {},
   "outputs": [],
   "source": [
    "visits_cart = pd.merge(visits, cart, how = 'left')\n"
   ]
  },
  {
   "source": [
    "3. How long is your merged DataFrame?"
   ],
   "cell_type": "markdown",
   "metadata": {}
  },
  {
   "cell_type": "code",
   "execution_count": 27,
   "metadata": {},
   "outputs": [
    {
     "output_type": "stream",
     "name": "stdout",
     "text": [
      "2000\n"
     ]
    }
   ],
   "source": [
    "people_who_visit = len(visits_cart)\n",
    "print(people_who_visit)"
   ]
  },
  {
   "source": [
    "4.\n",
    "How many of the timestamps are null for the column cart_time?\n",
    "\n",
    "What do these null rows mean?"
   ],
   "cell_type": "markdown",
   "metadata": {}
  },
  {
   "cell_type": "code",
   "execution_count": 28,
   "metadata": {},
   "outputs": [
    {
     "output_type": "stream",
     "name": "stdout",
     "text": [
      "1652\n"
     ]
    }
   ],
   "source": [
    "is_null = visits_cart[visits_cart.cart_time.isnull()]\n",
    "people_no_cart = len(is_null)\n",
    "print(people_no_cart)"
   ]
  },
  {
   "source": [
    "5.\n",
    "What percent of users who visited Cool T-Shirts Inc. ended up not placing a t-shirt in their cart?\n",
    "\n",
    "Note: To calculate percentages, it will be helpful to turn either the numerator or the denominator into a float, by using float(), with the number to convert passed in as input. Otherwise, Python will use integer division, which truncates decimal points."
   ],
   "cell_type": "markdown",
   "metadata": {}
  },
  {
   "source": [
    "the number of people whos cart time is null / the number of people who visit\n"
   ],
   "cell_type": "markdown",
   "metadata": {}
  },
  {
   "cell_type": "code",
   "execution_count": 32,
   "metadata": {},
   "outputs": [
    {
     "output_type": "stream",
     "name": "stdout",
     "text": [
      "0.826\n"
     ]
    }
   ],
   "source": [
    "print(float(people_no_cart / people_who_visit))"
   ]
  },
  {
   "source": [
    "6.\n",
    "Repeat the left merge for cart and checkout and count null values. What percentage of users put items in their cart, but did not proceed to checkout?"
   ],
   "cell_type": "markdown",
   "metadata": {}
  },
  {
   "cell_type": "code",
   "execution_count": 37,
   "metadata": {},
   "outputs": [
    {
     "output_type": "stream",
     "name": "stdout",
     "text": [
      "0.25311203319502074\n"
     ]
    }
   ],
   "source": [
    "cart_checkout = pd.merge(cart, checkout, how = 'left')\n",
    "no_checkout = cart_checkout[cart_checkout.checkout_time.isnull()]\n",
    "people_no_checkout = len(no_checkout)\n",
    "num_cart = len(cart_checkout)\n",
    "\n",
    "percentage_cart_checkout = float(people_no_checkout/num_cart)\n",
    "print(percentage_cart_checkout)"
   ]
  },
  {
   "source": [
    "7. Merge all four steps of the funnel, in order, using a series of left merges. Save the results to the variable all_data.\n",
    "\n",
    "Examine the result using print and head."
   ],
   "cell_type": "markdown",
   "metadata": {}
  },
  {
   "cell_type": "code",
   "execution_count": 39,
   "metadata": {},
   "outputs": [
    {
     "output_type": "stream",
     "name": "stdout",
     "text": [
      "                                user_id           visit_time  \\\n0  943647ef-3682-4750-a2e1-918ba6f16188  2017-04-07 15:14:00   \n1  0c3a3dd0-fb64-4eac-bf84-ba069ce409f2  2017-01-26 14:24:00   \n2  6e0b2d60-4027-4d9a-babd-0e7d40859fb1  2017-08-20 08:23:00   \n3  6879527e-c5a6-4d14-b2da-50b85212b0ab  2017-11-04 18:15:00   \n4  a84327ff-5daa-4ba1-b789-d5b4caf81e96  2017-02-27 11:25:00   \n\n             cart_time        checkout_time        purchase_time  \n0                  NaN                  NaN                  NaN  \n1  2017-01-26 14:44:00  2017-01-26 14:54:00  2017-01-26 15:08:00  \n2  2017-08-20 08:31:00                  NaN                  NaN  \n3                  NaN                  NaN                  NaN  \n4                  NaN                  NaN                  NaN  \n"
     ]
    }
   ],
   "source": [
    "all_data = visits.merge(cart, how='left').merge(checkout, how = 'left').merge(purchase, how = 'left')\n",
    "print(all_data.head())"
   ]
  },
  {
   "source": [
    "8.\n",
    "What percentage of users proceeded to checkout, but did not purchase a t-shirt?"
   ],
   "cell_type": "markdown",
   "metadata": {}
  },
  {
   "cell_type": "code",
   "execution_count": 48,
   "metadata": {},
   "outputs": [
    {
     "output_type": "stream",
     "name": "stdout",
     "text": [
      "0.1688963210702341\n"
     ]
    }
   ],
   "source": [
    "checkout_purchase = pd.merge(checkout, purchase, how = 'left')\n",
    "no_purchase = len(checkout_purchase[checkout_purchase.purchase_time.isnull()])\n",
    "num_checkout = len(checkout_purchase)\n",
    "percentage_checkout_purchase = float(no_purchase/num_checkout)\n",
    "print(percentage_checkout_purchase)"
   ]
  },
  {
   "cell_type": "code",
   "execution_count": null,
   "metadata": {},
   "outputs": [],
   "source": []
  }
 ]
}