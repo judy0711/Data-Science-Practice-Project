{
 "metadata": {
  "language_info": {
   "codemirror_mode": {
    "name": "ipython",
    "version": 3
   },
   "file_extension": ".py",
   "mimetype": "text/x-python",
   "name": "python",
   "nbconvert_exporter": "python",
   "pygments_lexer": "ipython3",
   "version": "3.9.4"
  },
  "orig_nbformat": 2,
  "kernelspec": {
   "name": "python394jvsc74a57bd07812ea015bdcee6f23a998adcdd2ef97c151c0c241b7b7070987d9313e41299d",
   "display_name": "Python 3.9.4 64-bit ('3.9')"
  }
 },
 "nbformat": 4,
 "nbformat_minor": 2,
 "cells": [
  {
   "source": [
    "# Familiar: A Study in Data Analysis\n",
    "### Familiar is a startup in the new market of blood transfusion. YOu've joined the team because you appreciate the flexible hours and extremely intelligent team, but the overager dorrman welcoming you into the office is a nice way to start your workday. It's your time to find out about some of their insights."
   ],
   "cell_type": "markdown",
   "metadata": {}
  },
  {
   "source": [
    "1.\n",
    "We’re going to start by including a data interface that a previous software engineer wrote for you, it’s aptly titled familiar, so just import that."
   ],
   "cell_type": "markdown",
   "metadata": {}
  },
  {
   "cell_type": "code",
   "execution_count": 28,
   "metadata": {},
   "outputs": [],
   "source": [
    "import familiar\n",
    "from scipy.stats import ttest_1samp\n",
    "from scipy.stats import ttest_ind\n",
    "from scipy.stats import chi2_contingency"
   ]
  },
  {
   "source": [
    "2.\n",
    "Perfect, now the first thing we want to show is that our most basic package, the Vein Pack, actually has a significant impact on the subscribers. It would be a marketing goldmine if we can show that subscribers to the Vein Pack live longer than other people.\n",
    "\n",
    "Lifespans of Vein Pack users are returned by the function lifespans(package='vein'), which is part of the familiar module. Call that function and save the data into a variable called vein_pack_lifespans."
   ],
   "cell_type": "markdown",
   "metadata": {}
  },
  {
   "cell_type": "code",
   "execution_count": 19,
   "metadata": {},
   "outputs": [],
   "source": [
    "vein_pack_lifespans = familiar.lifespans(package = 'vein')"
   ]
  },
  {
   "source": [
    "3.\n",
    "We’d like to find out if the average lifespan of a Vein Pack subscriber is significantly different from the average life expectancy of 71 years."
   ],
   "cell_type": "markdown",
   "metadata": {}
  },
  {
   "source": [
    "4.\n",
    "Now use the 1-Sample T-Test to compare vein_pack_lifespans to the average life expectancy 71. Save the result into a variable called vein_pack_test."
   ],
   "cell_type": "markdown",
   "metadata": {}
  },
  {
   "cell_type": "code",
   "execution_count": 20,
   "metadata": {},
   "outputs": [],
   "source": [
    "vein_pack_test = ttest_1samp(vein_pack_lifespans, 71)"
   ]
  },
  {
   "source": [
    "5.\n",
    "Let’s check if the results are significant! Check the pvalue of vein_pack_test. If it’s less than 0.05, we’ve got significance!"
   ],
   "cell_type": "markdown",
   "metadata": {}
  },
  {
   "cell_type": "code",
   "execution_count": 21,
   "metadata": {},
   "outputs": [
    {
     "output_type": "stream",
     "name": "stdout",
     "text": [
      "0.0000000003\n"
     ]
    }
   ],
   "source": [
    "print(format(vein_pack_test.pvalue, '0.10f'))"
   ]
  },
  {
   "source": [
    "6.\n",
    "We want to present this information to the CEO, Vlad, of this incredible finding. Let’s print some information out! If the test’s p-value is less than 0.05, print “The Vein Pack Is Proven To Make You Live Longer!”. Otherwise print “The Vein Pack Is Probably Good For You Somehow!”"
   ],
   "cell_type": "markdown",
   "metadata": {}
  },
  {
   "cell_type": "code",
   "execution_count": 22,
   "metadata": {},
   "outputs": [
    {
     "output_type": "stream",
     "name": "stdout",
     "text": [
      "The Vein Pack Is Proven To Make You Live Longer!\n"
     ]
    }
   ],
   "source": [
    "if vein_pack_test.pvalue<0.05:\n",
    "    print(\"The Vein Pack Is Proven To Make You Live Longer!\")\n",
    "else:\n",
    "    print (\"The Vein Pack Is Probably Good For You Somehow!\")"
   ]
  },
  {
   "source": [
    "7.\n",
    "In order to differentiate Familiar’s different product lines, we’d like to compare this lifespan data between our different packages. Our next step up from the Vein Pack is the Artery Pack. Let’s get the lifespans of Artery Pack subscribers using the same method, called with package='artery' instead. Save the value into a variable called artery_pack_lifespans."
   ],
   "cell_type": "markdown",
   "metadata": {}
  },
  {
   "cell_type": "code",
   "execution_count": 24,
   "metadata": {},
   "outputs": [],
   "source": [
    "artery_pack_lifespans = familiar.lifespans(package = 'artery')\n",
    "package_comparison_results = ttest_ind(vein_pack_lifespans, artery_pack_lifespans)"
   ]
  },
  {
   "cell_type": "code",
   "execution_count": 25,
   "metadata": {},
   "outputs": [
    {
     "output_type": "stream",
     "name": "stdout",
     "text": [
      "The artery Package gurantee stronger results!\n"
     ]
    }
   ],
   "source": [
    "if package_comparison_results.pvalue < 0.5:\n",
    "    print('The artery Package gurantee stronger results!')\n",
    "else:\n",
    "    print('The artery package is also a great product')"
   ]
  },
  {
   "cell_type": "code",
   "execution_count": 26,
   "metadata": {},
   "outputs": [],
   "source": [
    "iron_contigency_table = familiar.iron_counts_for_package()"
   ]
  },
  {
   "cell_type": "code",
   "execution_count": 27,
   "metadata": {},
   "outputs": [
    {
     "output_type": "stream",
     "name": "stdout",
     "text": [
      "[[140, 29], [40, 87], [20, 29]]\n"
     ]
    }
   ],
   "source": [
    "print(iron_contigency_table)"
   ]
  },
  {
   "source": [
    "## Chi Square Test"
   ],
   "cell_type": "markdown",
   "metadata": {}
  },
  {
   "cell_type": "code",
   "execution_count": 31,
   "metadata": {},
   "outputs": [
    {
     "output_type": "stream",
     "name": "stdout",
     "text": [
      "The artery package is proven to make you healthier\n"
     ]
    }
   ],
   "source": [
    "_, iron_pvalue, _, _ = chi2_contingency(iron_contigency_table)\n",
    "if iron_pvalue < 0.05:\n",
    "    print('The artery package is proven to make you healthier')\n",
    "else:print(\"While we can't say the artery package will help you. I bet it's nice!\")"
   ]
  },
  {
   "source": [
    "## What I learned from this project\n",
    "- I learned to determine what hypothesis test I should use for each scenario\n",
    "- I learned to work with the package and the data interface that is provided\n",
    "- I learned the general syntax of how to do hypothesis testing with SciPy"
   ],
   "cell_type": "markdown",
   "metadata": {}
  },
  {
   "cell_type": "code",
   "execution_count": null,
   "metadata": {},
   "outputs": [],
   "source": []
  }
 ]
}