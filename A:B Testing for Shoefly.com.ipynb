{
 "metadata": {
  "language_info": {
   "codemirror_mode": {
    "name": "ipython",
    "version": 3
   },
   "file_extension": ".py",
   "mimetype": "text/x-python",
   "name": "python",
   "nbconvert_exporter": "python",
   "pygments_lexer": "ipython3",
   "version": "3.9.4"
  },
  "orig_nbformat": 2,
  "kernelspec": {
   "name": "python394jvsc74a57bd07812ea015bdcee6f23a998adcdd2ef97c151c0c241b7b7070987d9313e41299d",
   "display_name": "Python 3.9.4 64-bit ('3.9')"
  }
 },
 "nbformat": 4,
 "nbformat_minor": 2,
 "cells": [
  {
   "cell_type": "code",
   "execution_count": 2,
   "metadata": {},
   "outputs": [],
   "source": [
    "import numpy as np\n",
    "import pandas as pd"
   ]
  },
  {
   "cell_type": "code",
   "execution_count": 3,
   "metadata": {},
   "outputs": [],
   "source": [
    "ad_clicks = pd.read_csv('ad_clicks.csv')"
   ]
  },
  {
   "source": [
    "1. Examine the first few rows of ad_clicks."
   ],
   "cell_type": "markdown",
   "metadata": {}
  },
  {
   "cell_type": "code",
   "execution_count": 4,
   "metadata": {},
   "outputs": [
    {
     "output_type": "execute_result",
     "data": {
      "text/plain": [
       "                                user_id utm_source           day  \\\n",
       "0  008b7c6c-7272-471e-b90e-930d548bd8d7     google  6 - Saturday   \n",
       "1  009abb94-5e14-4b6c-bb1c-4f4df7aa7557   facebook    7 - Sunday   \n",
       "2  00f5d532-ed58-4570-b6d2-768df5f41aed    twitter   2 - Tuesday   \n",
       "3  011adc64-0f44-4fd9-a0bb-f1506d2ad439     google   2 - Tuesday   \n",
       "4  012137e6-7ae7-4649-af68-205b4702169c   facebook    7 - Sunday   \n",
       "\n",
       "  ad_click_timestamp experimental_group  \n",
       "0               7:18                  A  \n",
       "1                NaN                  B  \n",
       "2                NaN                  A  \n",
       "3                NaN                  B  \n",
       "4                NaN                  B  "
      ],
      "text/html": "<div>\n<style scoped>\n    .dataframe tbody tr th:only-of-type {\n        vertical-align: middle;\n    }\n\n    .dataframe tbody tr th {\n        vertical-align: top;\n    }\n\n    .dataframe thead th {\n        text-align: right;\n    }\n</style>\n<table border=\"1\" class=\"dataframe\">\n  <thead>\n    <tr style=\"text-align: right;\">\n      <th></th>\n      <th>user_id</th>\n      <th>utm_source</th>\n      <th>day</th>\n      <th>ad_click_timestamp</th>\n      <th>experimental_group</th>\n    </tr>\n  </thead>\n  <tbody>\n    <tr>\n      <th>0</th>\n      <td>008b7c6c-7272-471e-b90e-930d548bd8d7</td>\n      <td>google</td>\n      <td>6 - Saturday</td>\n      <td>7:18</td>\n      <td>A</td>\n    </tr>\n    <tr>\n      <th>1</th>\n      <td>009abb94-5e14-4b6c-bb1c-4f4df7aa7557</td>\n      <td>facebook</td>\n      <td>7 - Sunday</td>\n      <td>NaN</td>\n      <td>B</td>\n    </tr>\n    <tr>\n      <th>2</th>\n      <td>00f5d532-ed58-4570-b6d2-768df5f41aed</td>\n      <td>twitter</td>\n      <td>2 - Tuesday</td>\n      <td>NaN</td>\n      <td>A</td>\n    </tr>\n    <tr>\n      <th>3</th>\n      <td>011adc64-0f44-4fd9-a0bb-f1506d2ad439</td>\n      <td>google</td>\n      <td>2 - Tuesday</td>\n      <td>NaN</td>\n      <td>B</td>\n    </tr>\n    <tr>\n      <th>4</th>\n      <td>012137e6-7ae7-4649-af68-205b4702169c</td>\n      <td>facebook</td>\n      <td>7 - Sunday</td>\n      <td>NaN</td>\n      <td>B</td>\n    </tr>\n  </tbody>\n</table>\n</div>"
     },
     "metadata": {},
     "execution_count": 4
    }
   ],
   "source": [
    "ad_clicks.head()"
   ]
  },
  {
   "source": [
    "2.Your manager wants to know which ad platform is getting you the most views.\n",
    "How many views (i.e., rows of the table) came from each utm_source?"
   ],
   "cell_type": "markdown",
   "metadata": {}
  },
  {
   "cell_type": "code",
   "execution_count": 9,
   "metadata": {},
   "outputs": [
    {
     "output_type": "stream",
     "name": "stdout",
     "text": [
      "  utm_source  user_id\n0      email      255\n1   facebook      504\n2     google      680\n3    twitter      215\n"
     ]
    }
   ],
   "source": [
    "view_each_source = ad_clicks.groupby('utm_source').user_id.count().reset_index()\n",
    "greatest_source = view_each_source.max().reset_index()\n",
    "print(view_each_source.head())"
   ]
  },
  {
   "source": [
    "3. If the column ad_click_timestamp is not null, then someone actually clicked on the ad that was displayed.\n",
    "Create a new column called is_click, which is True if ad_click_timestamp is not null and False otherwise."
   ],
   "cell_type": "markdown",
   "metadata": {}
  },
  {
   "cell_type": "code",
   "execution_count": 10,
   "metadata": {},
   "outputs": [],
   "source": [
    "ad_clicks['is_click'] = ~ad_clicks\\\n",
    "   .ad_click_timestamp.isnull()"
   ]
  },
  {
   "source": [
    "4.\n",
    "We want to know the percent of people who clicked on ads from each utm_source.\n",
    "\n",
    "Start by grouping by utm_source and is_click and counting the number of user_id‘s in each of those groups. Save your answer to the variable clicks_by_source."
   ],
   "cell_type": "markdown",
   "metadata": {}
  },
  {
   "cell_type": "code",
   "execution_count": 14,
   "metadata": {},
   "outputs": [
    {
     "output_type": "stream",
     "name": "stdout",
     "text": [
      "  utm_source  is_click  user_id\n0      email     False      175\n1      email      True       80\n2   facebook     False      324\n3   facebook      True      180\n4     google     False      441\n"
     ]
    }
   ],
   "source": [
    "click_by_source = ad_clicks.groupby(['utm_source', 'is_click']).user_id.count().reset_index()\n",
    "print(click_by_source.head())"
   ]
  },
  {
   "source": [
    "5. Now let’s pivot the data so that the columns are is_click (either True or False), the index is utm_source, and the values are user_id.\n",
    "\n",
    "Save your results to the variable clicks_pivot."
   ],
   "cell_type": "markdown",
   "metadata": {}
  },
  {
   "cell_type": "code",
   "execution_count": 16,
   "metadata": {},
   "outputs": [
    {
     "output_type": "stream",
     "name": "stdout",
     "text": [
      "is_click utm_source  False  True\n0             email    175    80\n1          facebook    324   180\n2            google    441   239\n3           twitter    149    66\n"
     ]
    }
   ],
   "source": [
    "clicks_pivot = click_by_source.pivot(\n",
    "    columns = 'is_click',\n",
    "    index = 'utm_source',\n",
    "    values = 'user_id'\n",
    ").reset_index()\n",
    "\n",
    "print(clicks_pivot.head())"
   ]
  },
  {
   "source": [
    "6. Create a new column in clicks_pivot called percent_clicked which is equal to the percent of users who clicked on the ad from each utm_source.\n",
    "\n",
    "Was there a difference in click rates for each source?\n",
    "\n",
    "> Hint:  ``clicks_pivot[True]`` is the number of people who clicked (because is_click was True for those users)\n",
    "\n",
    "> ``clicks_pivot[False]`` is the number of people who did not click (because is_click was False for those users)\n",
    "\n",
    ">    So, the percent of people who clicked would be (Total Who Clicked) / (Total Who Clicked + Total Who Did Not Click) "
   ],
   "cell_type": "markdown",
   "metadata": {}
  },
  {
   "cell_type": "code",
   "execution_count": 18,
   "metadata": {},
   "outputs": [],
   "source": [
    "clicks_pivot['percent_clicked'] = \\\n",
    "   clicks_pivot[True] / \\\n",
    "   (clicks_pivot[True] + \n",
    "    clicks_pivot[False])"
   ]
  },
  {
   "source": [
    "7. The column experimental_group tells us whether the user was shown Ad A or Ad B.\n",
    "\n",
    "Were approximately the same number of people shown both ads?"
   ],
   "cell_type": "markdown",
   "metadata": {}
  },
  {
   "cell_type": "code",
   "execution_count": 28,
   "metadata": {},
   "outputs": [
    {
     "output_type": "stream",
     "name": "stdout",
     "text": [
      "experimental_group\nA    827\nB    827\nName: user_id, dtype: int64\n"
     ]
    }
   ],
   "source": [
    "ads = ad_clicks.groupby('experimental_group').user_id.nunique()\n",
    "print(ads.head())\n"
   ]
  },
  {
   "cell_type": "code",
   "execution_count": null,
   "metadata": {},
   "outputs": [],
   "source": []
  }
 ]
}