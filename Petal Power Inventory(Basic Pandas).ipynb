{
 "metadata": {
  "language_info": {
   "codemirror_mode": {
    "name": "ipython",
    "version": 3
   },
   "file_extension": ".py",
   "mimetype": "text/x-python",
   "name": "python",
   "nbconvert_exporter": "python",
   "pygments_lexer": "ipython3",
   "version": "3.9.4"
  },
  "orig_nbformat": 2,
  "kernelspec": {
   "name": "python394jvsc74a57bd07812ea015bdcee6f23a998adcdd2ef97c151c0c241b7b7070987d9313e41299d",
   "display_name": "Python 3.9.4 64-bit ('3.9')"
  }
 },
 "nbformat": 4,
 "nbformat_minor": 2,
 "cells": [
  {
   "source": [
    "# Petal Power Inventory\n",
    "You’re the lead data analyst for a chain of gardening stores called Petal Power. Help them analyze their inventory!\n",
    "\n",
    "If you get stuck during this project or would like to see an experienced developer work through it, click “Get Unstuck“ to see a project walkthrough video. \n"
   ],
   "cell_type": "markdown",
   "metadata": {}
  },
  {
   "cell_type": "code",
   "execution_count": 3,
   "metadata": {},
   "outputs": [],
   "source": [
    "import pandas as pd"
   ]
  },
  {
   "cell_type": "code",
   "execution_count": 4,
   "metadata": {},
   "outputs": [],
   "source": [
    "inventory = pd.read_csv('inventory.csv')\n"
   ]
  },
  {
   "cell_type": "code",
   "execution_count": 5,
   "metadata": {},
   "outputs": [
    {
     "output_type": "execute_result",
     "data": {
      "text/plain": [
       "        location  product_type product_description  quantity  price\n",
       "0  Staten Island         seeds               daisy         4   6.99\n",
       "1  Staten Island         seeds          calla lily        46  19.99\n",
       "2  Staten Island         seeds              tomato        85  13.99\n",
       "3  Staten Island  garden tools                rake         4  13.99\n",
       "4  Staten Island  garden tools         wheelbarrow         0  89.99"
      ],
      "text/html": "<div>\n<style scoped>\n    .dataframe tbody tr th:only-of-type {\n        vertical-align: middle;\n    }\n\n    .dataframe tbody tr th {\n        vertical-align: top;\n    }\n\n    .dataframe thead th {\n        text-align: right;\n    }\n</style>\n<table border=\"1\" class=\"dataframe\">\n  <thead>\n    <tr style=\"text-align: right;\">\n      <th></th>\n      <th>location</th>\n      <th>product_type</th>\n      <th>product_description</th>\n      <th>quantity</th>\n      <th>price</th>\n    </tr>\n  </thead>\n  <tbody>\n    <tr>\n      <th>0</th>\n      <td>Staten Island</td>\n      <td>seeds</td>\n      <td>daisy</td>\n      <td>4</td>\n      <td>6.99</td>\n    </tr>\n    <tr>\n      <th>1</th>\n      <td>Staten Island</td>\n      <td>seeds</td>\n      <td>calla lily</td>\n      <td>46</td>\n      <td>19.99</td>\n    </tr>\n    <tr>\n      <th>2</th>\n      <td>Staten Island</td>\n      <td>seeds</td>\n      <td>tomato</td>\n      <td>85</td>\n      <td>13.99</td>\n    </tr>\n    <tr>\n      <th>3</th>\n      <td>Staten Island</td>\n      <td>garden tools</td>\n      <td>rake</td>\n      <td>4</td>\n      <td>13.99</td>\n    </tr>\n    <tr>\n      <th>4</th>\n      <td>Staten Island</td>\n      <td>garden tools</td>\n      <td>wheelbarrow</td>\n      <td>0</td>\n      <td>89.99</td>\n    </tr>\n  </tbody>\n</table>\n</div>"
     },
     "metadata": {},
     "execution_count": 5
    }
   ],
   "source": [
    "inventory.head()"
   ]
  },
  {
   "source": [
    "3. The first 10 rows represent data from your Staten Island location. Select these rows and save them to staten_island."
   ],
   "cell_type": "markdown",
   "metadata": {}
  },
  {
   "cell_type": "code",
   "execution_count": 6,
   "metadata": {},
   "outputs": [
    {
     "output_type": "stream",
     "name": "stdout",
     "text": [
      "        location  product_type         product_description  quantity  price\n0  Staten Island         seeds                       daisy         4   6.99\n1  Staten Island         seeds                  calla lily        46  19.99\n2  Staten Island         seeds                      tomato        85  13.99\n3  Staten Island  garden tools                        rake         4  13.99\n4  Staten Island  garden tools                 wheelbarrow         0  89.99\n5  Staten Island  garden tools                       spade        93  19.99\n6  Staten Island  pest_control               insect killer        74  12.99\n7  Staten Island  pest_control                 weed killer         8  23.99\n8  Staten Island       planter  20 inch terracotta planter         0  17.99\n9  Staten Island       planter      8 inch plastic planter        53   3.99\n"
     ]
    }
   ],
   "source": [
    "staten_island = inventory.iloc[:10]\n",
    "#staten_island = inventory.head(10)\n",
    "print(staten_island)"
   ]
  },
  {
   "source": [
    "4. A customer just emailed you asking what products are sold at your Staten Island location. Select the column product_description from staten_island and save it to the variable product_request."
   ],
   "cell_type": "markdown",
   "metadata": {}
  },
  {
   "cell_type": "code",
   "execution_count": 8,
   "metadata": {},
   "outputs": [
    {
     "output_type": "stream",
     "name": "stdout",
     "text": [
      "0                         daisy\n1                    calla lily\n2                        tomato\n3                          rake\n4                   wheelbarrow\n5                         spade\n6                 insect killer\n7                   weed killer\n8    20 inch terracotta planter\n9        8 inch plastic planter\nName: product_description, dtype: object\n"
     ]
    }
   ],
   "source": [
    "product_request = staten_island['product_description']\n",
    "print(product_request)"
   ]
  },
  {
   "source": [
    "5. Another customer emails to ask what types of seeds are sold at the Brooklyn location. Select all rows where location is equal to Brooklyn and product_type is equal to seeds and save them to the variable seed_request."
   ],
   "cell_type": "markdown",
   "metadata": {}
  },
  {
   "cell_type": "code",
   "execution_count": 34,
   "metadata": {},
   "outputs": [],
   "source": [
    "seed_request = inventory[(inventory.location == 'Brooklyn') & (inventory.product_type == 'seeds')]"
   ]
  },
  {
   "source": [
    "6. Add a column to inventory called in_stock which is True if quantity is greater than 0 and False if quantity equals 0."
   ],
   "cell_type": "markdown",
   "metadata": {}
  },
  {
   "cell_type": "code",
   "execution_count": 28,
   "metadata": {},
   "outputs": [
    {
     "output_type": "stream",
     "name": "stdout",
     "text": [
      "        location  product_type product_description  quantity  price  in_stock\n0  Staten Island         seeds               daisy         4   6.99      True\n1  Staten Island         seeds          calla lily        46  19.99      True\n2  Staten Island         seeds              tomato        85  13.99      True\n3  Staten Island  garden tools                rake         4  13.99      True\n4  Staten Island  garden tools         wheelbarrow         0  89.99     False\n"
     ]
    }
   ],
   "source": [
    "true_false_quantity = lambda x: True if x > 0 else False\n",
    "inventory['in_stock'] = inventory.quantity.apply(true_false_quantity)\n",
    "print(inventory.head())"
   ]
  },
  {
   "source": [
    "7. Petal Power wants to know how valuable their current inventory is.\n",
    "Create a column called total_value that is equal to price multiplied by quantity."
   ],
   "cell_type": "markdown",
   "metadata": {}
  },
  {
   "cell_type": "code",
   "execution_count": 30,
   "metadata": {},
   "outputs": [
    {
     "output_type": "stream",
     "name": "stdout",
     "text": [
      "        location  product_type product_description  quantity  price  in_stock  \\\n0  Staten Island         seeds               daisy         4   6.99      True   \n1  Staten Island         seeds          calla lily        46  19.99      True   \n2  Staten Island         seeds              tomato        85  13.99      True   \n3  Staten Island  garden tools                rake         4  13.99      True   \n4  Staten Island  garden tools         wheelbarrow         0  89.99     False   \n\n   total_value  \n0        27.96  \n1       919.54  \n2      1189.15  \n3        55.96  \n4         0.00  \n"
     ]
    }
   ],
   "source": [
    "inventory['total_value'] = inventory['price'] * inventory['quantity']\n",
    "print(inventory.head())"
   ]
  },
  {
   "source": [
    "8. The Marketing department wants a complete description of each product for their catalog. The following lambda function combines product_type and product_description into a single string:"
   ],
   "cell_type": "markdown",
   "metadata": {}
  },
  {
   "cell_type": "code",
   "execution_count": 32,
   "metadata": {},
   "outputs": [],
   "source": [
    "combine_lambda = lambda row: \\\n",
    "    '{} - {}'.format(row.product_type,\n",
    "                     row.product_description)"
   ]
  },
  {
   "source": [
    "9. Using combine_lambda, create a new column in inventory called full_description that has the complete description of each product."
   ],
   "cell_type": "markdown",
   "metadata": {}
  },
  {
   "cell_type": "code",
   "execution_count": 35,
   "metadata": {},
   "outputs": [],
   "source": [
    "inventory['full_description'] = inventory.apply(combine_lambda, axis = 1)"
   ]
  },
  {
   "cell_type": "code",
   "execution_count": 36,
   "metadata": {},
   "outputs": [
    {
     "output_type": "stream",
     "name": "stdout",
     "text": [
      "        location  product_type         product_description  quantity  price  \\\n0  Staten Island         seeds                       daisy         4   6.99   \n1  Staten Island         seeds                  calla lily        46  19.99   \n2  Staten Island         seeds                      tomato        85  13.99   \n3  Staten Island  garden tools                        rake         4  13.99   \n4  Staten Island  garden tools                 wheelbarrow         0  89.99   \n5  Staten Island  garden tools                       spade        93  19.99   \n6  Staten Island  pest_control               insect killer        74  12.99   \n7  Staten Island  pest_control                 weed killer         8  23.99   \n8  Staten Island       planter  20 inch terracotta planter         0  17.99   \n9  Staten Island       planter      8 inch plastic planter        53   3.99   \n\n   in_stock  total_value                      full_description  \n0      True        27.96                         seeds - daisy  \n1      True       919.54                    seeds - calla lily  \n2      True      1189.15                        seeds - tomato  \n3      True        55.96                   garden tools - rake  \n4     False         0.00            garden tools - wheelbarrow  \n5      True      1859.07                  garden tools - spade  \n6      True       961.26          pest_control - insect killer  \n7      True       191.92            pest_control - weed killer  \n8     False         0.00  planter - 20 inch terracotta planter  \n9      True       211.47      planter - 8 inch plastic planter  \n"
     ]
    }
   ],
   "source": [
    "print(inventory.head(10))"
   ]
  },
  {
   "cell_type": "code",
   "execution_count": null,
   "metadata": {},
   "outputs": [],
   "source": []
  }
 ]
}