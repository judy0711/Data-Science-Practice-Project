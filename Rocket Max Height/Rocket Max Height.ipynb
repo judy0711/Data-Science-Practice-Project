{
 "metadata": {
  "language_info": {
   "codemirror_mode": {
    "name": "ipython",
    "version": 3
   },
   "file_extension": ".py",
   "mimetype": "text/x-python",
   "name": "python",
   "nbconvert_exporter": "python",
   "pygments_lexer": "ipython3",
   "version": "3.9.4"
  },
  "orig_nbformat": 4,
  "kernelspec": {
   "name": "python3",
   "display_name": "Python 3.9.4 64-bit ('3.9')"
  },
  "interpreter": {
   "hash": "7812ea015bdcee6f23a998adcdd2ef97c151c0c241b7b7070987d9313e41299d"
  }
 },
 "nbformat": 4,
 "nbformat_minor": 2,
 "cells": [
  {
   "source": [
    "# Rocket Max Height"
   ],
   "cell_type": "markdown",
   "metadata": {}
  },
  {
   "cell_type": "code",
   "execution_count": 1,
   "metadata": {},
   "outputs": [],
   "source": [
    "import numpy as np\n",
    "import pandas as pd\n",
    "from matplotlib import pyplot as plt\n",
    "from sklearn import datasets, linear_model\n",
    "from sklearn.metrics import mean_squared_error, r2_score\n",
    "from numpy import cov\n",
    "from scipy.stats import pearsonr\n",
    "from statistics import stdev\n"
   ]
  },
  {
   "cell_type": "code",
   "execution_count": 2,
   "metadata": {},
   "outputs": [],
   "source": [
    "df = pd.read_csv('Estes_Engine_Chart.csv')"
   ]
  },
  {
   "cell_type": "code",
   "execution_count": 3,
   "metadata": {},
   "outputs": [
    {
     "output_type": "execute_result",
     "data": {
      "text/plain": [
       "   Prod Engine Type  Total Impulse (N/S) Time Delay(Sec.)  Max Lift Wt(g)  \\\n",
       "0  1502    1/4A3-3T                0.625                3              28   \n",
       "1  1503    1/2A3-2T                1.250                2              57   \n",
       "2  1507       A3-4T                2.500                4              57   \n",
       "3  1511      A10-3T                2.500                3              85   \n",
       "4  1593     1/2A6-2                1.250                2              57   \n",
       "\n",
       "   Max Thrust(newtons)  Thrust Duration(second)  Initial Weight(g)  \\\n",
       "0                  4.9                     0.25                5.6   \n",
       "1                  8.3                     0.30                5.6   \n",
       "2                  6.8                     0.60                7.6   \n",
       "3                 13.0                     0.80                7.9   \n",
       "4                  8.9                     0.30               15.0   \n",
       "\n",
       "   Propellant Weight(g)  \n",
       "0                  0.85  \n",
       "1                  1.75  \n",
       "2                  3.50  \n",
       "3                  3.78  \n",
       "4                  1.56  "
      ],
      "text/html": "<div>\n<style scoped>\n    .dataframe tbody tr th:only-of-type {\n        vertical-align: middle;\n    }\n\n    .dataframe tbody tr th {\n        vertical-align: top;\n    }\n\n    .dataframe thead th {\n        text-align: right;\n    }\n</style>\n<table border=\"1\" class=\"dataframe\">\n  <thead>\n    <tr style=\"text-align: right;\">\n      <th></th>\n      <th>Prod</th>\n      <th>Engine Type</th>\n      <th>Total Impulse (N/S)</th>\n      <th>Time Delay(Sec.)</th>\n      <th>Max Lift Wt(g)</th>\n      <th>Max Thrust(newtons)</th>\n      <th>Thrust Duration(second)</th>\n      <th>Initial Weight(g)</th>\n      <th>Propellant Weight(g)</th>\n    </tr>\n  </thead>\n  <tbody>\n    <tr>\n      <th>0</th>\n      <td>1502</td>\n      <td>1/4A3-3T</td>\n      <td>0.625</td>\n      <td>3</td>\n      <td>28</td>\n      <td>4.9</td>\n      <td>0.25</td>\n      <td>5.6</td>\n      <td>0.85</td>\n    </tr>\n    <tr>\n      <th>1</th>\n      <td>1503</td>\n      <td>1/2A3-2T</td>\n      <td>1.250</td>\n      <td>2</td>\n      <td>57</td>\n      <td>8.3</td>\n      <td>0.30</td>\n      <td>5.6</td>\n      <td>1.75</td>\n    </tr>\n    <tr>\n      <th>2</th>\n      <td>1507</td>\n      <td>A3-4T</td>\n      <td>2.500</td>\n      <td>4</td>\n      <td>57</td>\n      <td>6.8</td>\n      <td>0.60</td>\n      <td>7.6</td>\n      <td>3.50</td>\n    </tr>\n    <tr>\n      <th>3</th>\n      <td>1511</td>\n      <td>A10-3T</td>\n      <td>2.500</td>\n      <td>3</td>\n      <td>85</td>\n      <td>13.0</td>\n      <td>0.80</td>\n      <td>7.9</td>\n      <td>3.78</td>\n    </tr>\n    <tr>\n      <th>4</th>\n      <td>1593</td>\n      <td>1/2A6-2</td>\n      <td>1.250</td>\n      <td>2</td>\n      <td>57</td>\n      <td>8.9</td>\n      <td>0.30</td>\n      <td>15.0</td>\n      <td>1.56</td>\n    </tr>\n  </tbody>\n</table>\n</div>"
     },
     "metadata": {},
     "execution_count": 3
    }
   ],
   "source": [
    "df.head()"
   ]
  },
  {
   "cell_type": "code",
   "execution_count": 4,
   "metadata": {},
   "outputs": [],
   "source": [
    "\n",
    "df['Thrust'] = df['Total Impulse (N/S)']/df['Thrust Duration(second)']\n",
    "  "
   ]
  },
  {
   "cell_type": "code",
   "execution_count": 5,
   "metadata": {},
   "outputs": [
    {
     "output_type": "execute_result",
     "data": {
      "text/plain": [
       "    Prod Engine Type  Total Impulse (N/S) Time Delay(Sec.)  Max Lift Wt(g)  \\\n",
       "0   1502    1/4A3-3T                0.625                3              28   \n",
       "1   1503    1/2A3-2T                1.250                2              57   \n",
       "2   1507       A3-4T                2.500                4              57   \n",
       "3   1511      A10-3T                2.500                3              85   \n",
       "4   1593     1/2A6-2                1.250                2              57   \n",
       "5   1598        A8-3                2.500                3              85   \n",
       "6   1601        B4-2                5.000                2             113   \n",
       "7   1602        B4-4                5.000                4              99   \n",
       "8   1605        B6-2                5.000                2             127   \n",
       "9   1606        B6-4                5.000                4             113   \n",
       "10  1613        C6-3               10.000                3             113   \n",
       "11  1614        C6-5               10.000                5             113   \n",
       "12  1622       C11-3               10.000                3             170   \n",
       "13  1623       C11-5               10.000                5             142   \n",
       "14  1666       D12-3               20.000                3             396   \n",
       "15  1667       D12-5               20.000                5             283   \n",
       "16  1673        E9-4               30.000                4             425   \n",
       "17  1674        E9-6               30.000                6             340   \n",
       "18  1504    1/2A3-4T                1.250                4              28   \n",
       "19  1599        A8-5                2.500                5              57   \n",
       "20  1607        B6-6                5.000                6              71   \n",
       "21  1615        C6-7               10.000                7              71   \n",
       "22  1624       C11-7               10.000                7             113   \n",
       "23  1668       D12-7               20.000                7             226   \n",
       "24  1675        E9-8               30.000                8             283   \n",
       "25  1608        B6-0                5.000             None             113   \n",
       "26  1616        C6-0               10.000             None             113   \n",
       "27  1621       C11-0               10.000             None             170   \n",
       "28  1665       D12-0               20.000             None             396   \n",
       "29  1669       D11-P               20.000             None             453   \n",
       "30  1676        E9-P               30.000             None             425   \n",
       "\n",
       "    Max Thrust(newtons)  Thrust Duration(second)  Initial Weight(g)  \\\n",
       "0                   4.9                     0.25                5.6   \n",
       "1                   8.3                     0.30                5.6   \n",
       "2                   6.8                     0.60                7.6   \n",
       "3                  13.0                     0.80                7.9   \n",
       "4                   8.9                     0.30               15.0   \n",
       "5                  10.7                     0.50               16.2   \n",
       "6                  13.2                     1.10               19.8   \n",
       "7                  13.2                     1.10               21.0   \n",
       "8                  12.1                     0.80               19.3   \n",
       "9                  12.1                     0.80               20.1   \n",
       "10                 15.3                     1.60               24.9   \n",
       "11                 15.3                     1.60               25.8   \n",
       "12                 22.1                     0.80               32.2   \n",
       "13                 22.1                     0.80               33.3   \n",
       "14                 32.9                     1.60               42.2   \n",
       "15                 32.9                     1.60               43.1   \n",
       "16                 25.0                     2.80               56.7   \n",
       "17                 25.0                     2.80               56.7   \n",
       "18                  8.3                     0.30                6.0   \n",
       "19                 13.3                     0.50               17.6   \n",
       "20                 12.1                     0.80               22.1   \n",
       "21                 15.3                     1.60               26.9   \n",
       "22                 22.1                     0.80               34.5   \n",
       "23                 32.9                     1.60               44.0   \n",
       "24                 25.0                     2.80               56.7   \n",
       "25                 12.1                     0.80               16.4   \n",
       "26                 15.3                     1.60               22.7   \n",
       "27                 22.1                     0.80               27.8   \n",
       "28                 32.9                     1.60               40.9   \n",
       "29                 27.6                     1.80               44.0   \n",
       "30                 25.0                     2.80               56.0   \n",
       "\n",
       "    Propellant Weight(g)     Thrust  \n",
       "0                   0.85   2.500000  \n",
       "1                   1.75   4.166667  \n",
       "2                   3.50   4.166667  \n",
       "3                   3.78   3.125000  \n",
       "4                   1.56   4.166667  \n",
       "5                   3.12   5.000000  \n",
       "6                   8.33   4.545455  \n",
       "7                   8.33   4.545455  \n",
       "8                   6.24   6.250000  \n",
       "9                   6.24   6.250000  \n",
       "10                 12.48   6.250000  \n",
       "11                 12.48   6.250000  \n",
       "12                 11.00  12.500000  \n",
       "13                 11.00  12.500000  \n",
       "14                 24.93  12.500000  \n",
       "15                 24.93  12.500000  \n",
       "16                 35.80  10.714286  \n",
       "17                 35.80  10.714286  \n",
       "18                  1.75   4.166667  \n",
       "19                  3.12   5.000000  \n",
       "20                  6.24   6.250000  \n",
       "21                 12.48   6.250000  \n",
       "22                 11.00  12.500000  \n",
       "23                 24.93  12.500000  \n",
       "24                 35.80  10.714286  \n",
       "25                  6.24   6.250000  \n",
       "26                 12.48   6.250000  \n",
       "27                 11.00  12.500000  \n",
       "28                 24.93  12.500000  \n",
       "29                 24.93  11.111111  \n",
       "30                 35.80  10.714286  "
      ],
      "text/html": "<div>\n<style scoped>\n    .dataframe tbody tr th:only-of-type {\n        vertical-align: middle;\n    }\n\n    .dataframe tbody tr th {\n        vertical-align: top;\n    }\n\n    .dataframe thead th {\n        text-align: right;\n    }\n</style>\n<table border=\"1\" class=\"dataframe\">\n  <thead>\n    <tr style=\"text-align: right;\">\n      <th></th>\n      <th>Prod</th>\n      <th>Engine Type</th>\n      <th>Total Impulse (N/S)</th>\n      <th>Time Delay(Sec.)</th>\n      <th>Max Lift Wt(g)</th>\n      <th>Max Thrust(newtons)</th>\n      <th>Thrust Duration(second)</th>\n      <th>Initial Weight(g)</th>\n      <th>Propellant Weight(g)</th>\n      <th>Thrust</th>\n    </tr>\n  </thead>\n  <tbody>\n    <tr>\n      <th>0</th>\n      <td>1502</td>\n      <td>1/4A3-3T</td>\n      <td>0.625</td>\n      <td>3</td>\n      <td>28</td>\n      <td>4.9</td>\n      <td>0.25</td>\n      <td>5.6</td>\n      <td>0.85</td>\n      <td>2.500000</td>\n    </tr>\n    <tr>\n      <th>1</th>\n      <td>1503</td>\n      <td>1/2A3-2T</td>\n      <td>1.250</td>\n      <td>2</td>\n      <td>57</td>\n      <td>8.3</td>\n      <td>0.30</td>\n      <td>5.6</td>\n      <td>1.75</td>\n      <td>4.166667</td>\n    </tr>\n    <tr>\n      <th>2</th>\n      <td>1507</td>\n      <td>A3-4T</td>\n      <td>2.500</td>\n      <td>4</td>\n      <td>57</td>\n      <td>6.8</td>\n      <td>0.60</td>\n      <td>7.6</td>\n      <td>3.50</td>\n      <td>4.166667</td>\n    </tr>\n    <tr>\n      <th>3</th>\n      <td>1511</td>\n      <td>A10-3T</td>\n      <td>2.500</td>\n      <td>3</td>\n      <td>85</td>\n      <td>13.0</td>\n      <td>0.80</td>\n      <td>7.9</td>\n      <td>3.78</td>\n      <td>3.125000</td>\n    </tr>\n    <tr>\n      <th>4</th>\n      <td>1593</td>\n      <td>1/2A6-2</td>\n      <td>1.250</td>\n      <td>2</td>\n      <td>57</td>\n      <td>8.9</td>\n      <td>0.30</td>\n      <td>15.0</td>\n      <td>1.56</td>\n      <td>4.166667</td>\n    </tr>\n    <tr>\n      <th>5</th>\n      <td>1598</td>\n      <td>A8-3</td>\n      <td>2.500</td>\n      <td>3</td>\n      <td>85</td>\n      <td>10.7</td>\n      <td>0.50</td>\n      <td>16.2</td>\n      <td>3.12</td>\n      <td>5.000000</td>\n    </tr>\n    <tr>\n      <th>6</th>\n      <td>1601</td>\n      <td>B4-2</td>\n      <td>5.000</td>\n      <td>2</td>\n      <td>113</td>\n      <td>13.2</td>\n      <td>1.10</td>\n      <td>19.8</td>\n      <td>8.33</td>\n      <td>4.545455</td>\n    </tr>\n    <tr>\n      <th>7</th>\n      <td>1602</td>\n      <td>B4-4</td>\n      <td>5.000</td>\n      <td>4</td>\n      <td>99</td>\n      <td>13.2</td>\n      <td>1.10</td>\n      <td>21.0</td>\n      <td>8.33</td>\n      <td>4.545455</td>\n    </tr>\n    <tr>\n      <th>8</th>\n      <td>1605</td>\n      <td>B6-2</td>\n      <td>5.000</td>\n      <td>2</td>\n      <td>127</td>\n      <td>12.1</td>\n      <td>0.80</td>\n      <td>19.3</td>\n      <td>6.24</td>\n      <td>6.250000</td>\n    </tr>\n    <tr>\n      <th>9</th>\n      <td>1606</td>\n      <td>B6-4</td>\n      <td>5.000</td>\n      <td>4</td>\n      <td>113</td>\n      <td>12.1</td>\n      <td>0.80</td>\n      <td>20.1</td>\n      <td>6.24</td>\n      <td>6.250000</td>\n    </tr>\n    <tr>\n      <th>10</th>\n      <td>1613</td>\n      <td>C6-3</td>\n      <td>10.000</td>\n      <td>3</td>\n      <td>113</td>\n      <td>15.3</td>\n      <td>1.60</td>\n      <td>24.9</td>\n      <td>12.48</td>\n      <td>6.250000</td>\n    </tr>\n    <tr>\n      <th>11</th>\n      <td>1614</td>\n      <td>C6-5</td>\n      <td>10.000</td>\n      <td>5</td>\n      <td>113</td>\n      <td>15.3</td>\n      <td>1.60</td>\n      <td>25.8</td>\n      <td>12.48</td>\n      <td>6.250000</td>\n    </tr>\n    <tr>\n      <th>12</th>\n      <td>1622</td>\n      <td>C11-3</td>\n      <td>10.000</td>\n      <td>3</td>\n      <td>170</td>\n      <td>22.1</td>\n      <td>0.80</td>\n      <td>32.2</td>\n      <td>11.00</td>\n      <td>12.500000</td>\n    </tr>\n    <tr>\n      <th>13</th>\n      <td>1623</td>\n      <td>C11-5</td>\n      <td>10.000</td>\n      <td>5</td>\n      <td>142</td>\n      <td>22.1</td>\n      <td>0.80</td>\n      <td>33.3</td>\n      <td>11.00</td>\n      <td>12.500000</td>\n    </tr>\n    <tr>\n      <th>14</th>\n      <td>1666</td>\n      <td>D12-3</td>\n      <td>20.000</td>\n      <td>3</td>\n      <td>396</td>\n      <td>32.9</td>\n      <td>1.60</td>\n      <td>42.2</td>\n      <td>24.93</td>\n      <td>12.500000</td>\n    </tr>\n    <tr>\n      <th>15</th>\n      <td>1667</td>\n      <td>D12-5</td>\n      <td>20.000</td>\n      <td>5</td>\n      <td>283</td>\n      <td>32.9</td>\n      <td>1.60</td>\n      <td>43.1</td>\n      <td>24.93</td>\n      <td>12.500000</td>\n    </tr>\n    <tr>\n      <th>16</th>\n      <td>1673</td>\n      <td>E9-4</td>\n      <td>30.000</td>\n      <td>4</td>\n      <td>425</td>\n      <td>25.0</td>\n      <td>2.80</td>\n      <td>56.7</td>\n      <td>35.80</td>\n      <td>10.714286</td>\n    </tr>\n    <tr>\n      <th>17</th>\n      <td>1674</td>\n      <td>E9-6</td>\n      <td>30.000</td>\n      <td>6</td>\n      <td>340</td>\n      <td>25.0</td>\n      <td>2.80</td>\n      <td>56.7</td>\n      <td>35.80</td>\n      <td>10.714286</td>\n    </tr>\n    <tr>\n      <th>18</th>\n      <td>1504</td>\n      <td>1/2A3-4T</td>\n      <td>1.250</td>\n      <td>4</td>\n      <td>28</td>\n      <td>8.3</td>\n      <td>0.30</td>\n      <td>6.0</td>\n      <td>1.75</td>\n      <td>4.166667</td>\n    </tr>\n    <tr>\n      <th>19</th>\n      <td>1599</td>\n      <td>A8-5</td>\n      <td>2.500</td>\n      <td>5</td>\n      <td>57</td>\n      <td>13.3</td>\n      <td>0.50</td>\n      <td>17.6</td>\n      <td>3.12</td>\n      <td>5.000000</td>\n    </tr>\n    <tr>\n      <th>20</th>\n      <td>1607</td>\n      <td>B6-6</td>\n      <td>5.000</td>\n      <td>6</td>\n      <td>71</td>\n      <td>12.1</td>\n      <td>0.80</td>\n      <td>22.1</td>\n      <td>6.24</td>\n      <td>6.250000</td>\n    </tr>\n    <tr>\n      <th>21</th>\n      <td>1615</td>\n      <td>C6-7</td>\n      <td>10.000</td>\n      <td>7</td>\n      <td>71</td>\n      <td>15.3</td>\n      <td>1.60</td>\n      <td>26.9</td>\n      <td>12.48</td>\n      <td>6.250000</td>\n    </tr>\n    <tr>\n      <th>22</th>\n      <td>1624</td>\n      <td>C11-7</td>\n      <td>10.000</td>\n      <td>7</td>\n      <td>113</td>\n      <td>22.1</td>\n      <td>0.80</td>\n      <td>34.5</td>\n      <td>11.00</td>\n      <td>12.500000</td>\n    </tr>\n    <tr>\n      <th>23</th>\n      <td>1668</td>\n      <td>D12-7</td>\n      <td>20.000</td>\n      <td>7</td>\n      <td>226</td>\n      <td>32.9</td>\n      <td>1.60</td>\n      <td>44.0</td>\n      <td>24.93</td>\n      <td>12.500000</td>\n    </tr>\n    <tr>\n      <th>24</th>\n      <td>1675</td>\n      <td>E9-8</td>\n      <td>30.000</td>\n      <td>8</td>\n      <td>283</td>\n      <td>25.0</td>\n      <td>2.80</td>\n      <td>56.7</td>\n      <td>35.80</td>\n      <td>10.714286</td>\n    </tr>\n    <tr>\n      <th>25</th>\n      <td>1608</td>\n      <td>B6-0</td>\n      <td>5.000</td>\n      <td>None</td>\n      <td>113</td>\n      <td>12.1</td>\n      <td>0.80</td>\n      <td>16.4</td>\n      <td>6.24</td>\n      <td>6.250000</td>\n    </tr>\n    <tr>\n      <th>26</th>\n      <td>1616</td>\n      <td>C6-0</td>\n      <td>10.000</td>\n      <td>None</td>\n      <td>113</td>\n      <td>15.3</td>\n      <td>1.60</td>\n      <td>22.7</td>\n      <td>12.48</td>\n      <td>6.250000</td>\n    </tr>\n    <tr>\n      <th>27</th>\n      <td>1621</td>\n      <td>C11-0</td>\n      <td>10.000</td>\n      <td>None</td>\n      <td>170</td>\n      <td>22.1</td>\n      <td>0.80</td>\n      <td>27.8</td>\n      <td>11.00</td>\n      <td>12.500000</td>\n    </tr>\n    <tr>\n      <th>28</th>\n      <td>1665</td>\n      <td>D12-0</td>\n      <td>20.000</td>\n      <td>None</td>\n      <td>396</td>\n      <td>32.9</td>\n      <td>1.60</td>\n      <td>40.9</td>\n      <td>24.93</td>\n      <td>12.500000</td>\n    </tr>\n    <tr>\n      <th>29</th>\n      <td>1669</td>\n      <td>D11-P</td>\n      <td>20.000</td>\n      <td>None</td>\n      <td>453</td>\n      <td>27.6</td>\n      <td>1.80</td>\n      <td>44.0</td>\n      <td>24.93</td>\n      <td>11.111111</td>\n    </tr>\n    <tr>\n      <th>30</th>\n      <td>1676</td>\n      <td>E9-P</td>\n      <td>30.000</td>\n      <td>None</td>\n      <td>425</td>\n      <td>25.0</td>\n      <td>2.80</td>\n      <td>56.0</td>\n      <td>35.80</td>\n      <td>10.714286</td>\n    </tr>\n  </tbody>\n</table>\n</div>"
     },
     "metadata": {},
     "execution_count": 5
    }
   ],
   "source": [
    "df"
   ]
  },
  {
   "cell_type": "code",
   "execution_count": 6,
   "metadata": {},
   "outputs": [],
   "source": [
    "# change the weight to kilograms\n",
    "# we use the initial weight in the calculations\n",
    "df['Initial Weight(kg)'] = df['Initial Weight(g)']/1000"
   ]
  },
  {
   "cell_type": "code",
   "execution_count": 7,
   "metadata": {},
   "outputs": [
    {
     "output_type": "execute_result",
     "data": {
      "text/plain": [
       "    Prod Engine Type  Total Impulse (N/S) Time Delay(Sec.)  Max Lift Wt(g)  \\\n",
       "0   1502    1/4A3-3T                0.625                3              28   \n",
       "1   1503    1/2A3-2T                1.250                2              57   \n",
       "2   1507       A3-4T                2.500                4              57   \n",
       "3   1511      A10-3T                2.500                3              85   \n",
       "4   1593     1/2A6-2                1.250                2              57   \n",
       "5   1598        A8-3                2.500                3              85   \n",
       "6   1601        B4-2                5.000                2             113   \n",
       "7   1602        B4-4                5.000                4              99   \n",
       "8   1605        B6-2                5.000                2             127   \n",
       "9   1606        B6-4                5.000                4             113   \n",
       "10  1613        C6-3               10.000                3             113   \n",
       "11  1614        C6-5               10.000                5             113   \n",
       "12  1622       C11-3               10.000                3             170   \n",
       "13  1623       C11-5               10.000                5             142   \n",
       "14  1666       D12-3               20.000                3             396   \n",
       "15  1667       D12-5               20.000                5             283   \n",
       "16  1673        E9-4               30.000                4             425   \n",
       "17  1674        E9-6               30.000                6             340   \n",
       "18  1504    1/2A3-4T                1.250                4              28   \n",
       "19  1599        A8-5                2.500                5              57   \n",
       "20  1607        B6-6                5.000                6              71   \n",
       "21  1615        C6-7               10.000                7              71   \n",
       "22  1624       C11-7               10.000                7             113   \n",
       "23  1668       D12-7               20.000                7             226   \n",
       "24  1675        E9-8               30.000                8             283   \n",
       "25  1608        B6-0                5.000             None             113   \n",
       "26  1616        C6-0               10.000             None             113   \n",
       "27  1621       C11-0               10.000             None             170   \n",
       "28  1665       D12-0               20.000             None             396   \n",
       "29  1669       D11-P               20.000             None             453   \n",
       "30  1676        E9-P               30.000             None             425   \n",
       "\n",
       "    Max Thrust(newtons)  Thrust Duration(second)  Propellant Weight(g)  \\\n",
       "0                   4.9                     0.25                  0.85   \n",
       "1                   8.3                     0.30                  1.75   \n",
       "2                   6.8                     0.60                  3.50   \n",
       "3                  13.0                     0.80                  3.78   \n",
       "4                   8.9                     0.30                  1.56   \n",
       "5                  10.7                     0.50                  3.12   \n",
       "6                  13.2                     1.10                  8.33   \n",
       "7                  13.2                     1.10                  8.33   \n",
       "8                  12.1                     0.80                  6.24   \n",
       "9                  12.1                     0.80                  6.24   \n",
       "10                 15.3                     1.60                 12.48   \n",
       "11                 15.3                     1.60                 12.48   \n",
       "12                 22.1                     0.80                 11.00   \n",
       "13                 22.1                     0.80                 11.00   \n",
       "14                 32.9                     1.60                 24.93   \n",
       "15                 32.9                     1.60                 24.93   \n",
       "16                 25.0                     2.80                 35.80   \n",
       "17                 25.0                     2.80                 35.80   \n",
       "18                  8.3                     0.30                  1.75   \n",
       "19                 13.3                     0.50                  3.12   \n",
       "20                 12.1                     0.80                  6.24   \n",
       "21                 15.3                     1.60                 12.48   \n",
       "22                 22.1                     0.80                 11.00   \n",
       "23                 32.9                     1.60                 24.93   \n",
       "24                 25.0                     2.80                 35.80   \n",
       "25                 12.1                     0.80                  6.24   \n",
       "26                 15.3                     1.60                 12.48   \n",
       "27                 22.1                     0.80                 11.00   \n",
       "28                 32.9                     1.60                 24.93   \n",
       "29                 27.6                     1.80                 24.93   \n",
       "30                 25.0                     2.80                 35.80   \n",
       "\n",
       "       Thrust  Initial Weight(kg)  \n",
       "0    2.500000              0.0056  \n",
       "1    4.166667              0.0056  \n",
       "2    4.166667              0.0076  \n",
       "3    3.125000              0.0079  \n",
       "4    4.166667              0.0150  \n",
       "5    5.000000              0.0162  \n",
       "6    4.545455              0.0198  \n",
       "7    4.545455              0.0210  \n",
       "8    6.250000              0.0193  \n",
       "9    6.250000              0.0201  \n",
       "10   6.250000              0.0249  \n",
       "11   6.250000              0.0258  \n",
       "12  12.500000              0.0322  \n",
       "13  12.500000              0.0333  \n",
       "14  12.500000              0.0422  \n",
       "15  12.500000              0.0431  \n",
       "16  10.714286              0.0567  \n",
       "17  10.714286              0.0567  \n",
       "18   4.166667              0.0060  \n",
       "19   5.000000              0.0176  \n",
       "20   6.250000              0.0221  \n",
       "21   6.250000              0.0269  \n",
       "22  12.500000              0.0345  \n",
       "23  12.500000              0.0440  \n",
       "24  10.714286              0.0567  \n",
       "25   6.250000              0.0164  \n",
       "26   6.250000              0.0227  \n",
       "27  12.500000              0.0278  \n",
       "28  12.500000              0.0409  \n",
       "29  11.111111              0.0440  \n",
       "30  10.714286              0.0560  "
      ],
      "text/html": "<div>\n<style scoped>\n    .dataframe tbody tr th:only-of-type {\n        vertical-align: middle;\n    }\n\n    .dataframe tbody tr th {\n        vertical-align: top;\n    }\n\n    .dataframe thead th {\n        text-align: right;\n    }\n</style>\n<table border=\"1\" class=\"dataframe\">\n  <thead>\n    <tr style=\"text-align: right;\">\n      <th></th>\n      <th>Prod</th>\n      <th>Engine Type</th>\n      <th>Total Impulse (N/S)</th>\n      <th>Time Delay(Sec.)</th>\n      <th>Max Lift Wt(g)</th>\n      <th>Max Thrust(newtons)</th>\n      <th>Thrust Duration(second)</th>\n      <th>Propellant Weight(g)</th>\n      <th>Thrust</th>\n      <th>Initial Weight(kg)</th>\n    </tr>\n  </thead>\n  <tbody>\n    <tr>\n      <th>0</th>\n      <td>1502</td>\n      <td>1/4A3-3T</td>\n      <td>0.625</td>\n      <td>3</td>\n      <td>28</td>\n      <td>4.9</td>\n      <td>0.25</td>\n      <td>0.85</td>\n      <td>2.500000</td>\n      <td>0.0056</td>\n    </tr>\n    <tr>\n      <th>1</th>\n      <td>1503</td>\n      <td>1/2A3-2T</td>\n      <td>1.250</td>\n      <td>2</td>\n      <td>57</td>\n      <td>8.3</td>\n      <td>0.30</td>\n      <td>1.75</td>\n      <td>4.166667</td>\n      <td>0.0056</td>\n    </tr>\n    <tr>\n      <th>2</th>\n      <td>1507</td>\n      <td>A3-4T</td>\n      <td>2.500</td>\n      <td>4</td>\n      <td>57</td>\n      <td>6.8</td>\n      <td>0.60</td>\n      <td>3.50</td>\n      <td>4.166667</td>\n      <td>0.0076</td>\n    </tr>\n    <tr>\n      <th>3</th>\n      <td>1511</td>\n      <td>A10-3T</td>\n      <td>2.500</td>\n      <td>3</td>\n      <td>85</td>\n      <td>13.0</td>\n      <td>0.80</td>\n      <td>3.78</td>\n      <td>3.125000</td>\n      <td>0.0079</td>\n    </tr>\n    <tr>\n      <th>4</th>\n      <td>1593</td>\n      <td>1/2A6-2</td>\n      <td>1.250</td>\n      <td>2</td>\n      <td>57</td>\n      <td>8.9</td>\n      <td>0.30</td>\n      <td>1.56</td>\n      <td>4.166667</td>\n      <td>0.0150</td>\n    </tr>\n    <tr>\n      <th>5</th>\n      <td>1598</td>\n      <td>A8-3</td>\n      <td>2.500</td>\n      <td>3</td>\n      <td>85</td>\n      <td>10.7</td>\n      <td>0.50</td>\n      <td>3.12</td>\n      <td>5.000000</td>\n      <td>0.0162</td>\n    </tr>\n    <tr>\n      <th>6</th>\n      <td>1601</td>\n      <td>B4-2</td>\n      <td>5.000</td>\n      <td>2</td>\n      <td>113</td>\n      <td>13.2</td>\n      <td>1.10</td>\n      <td>8.33</td>\n      <td>4.545455</td>\n      <td>0.0198</td>\n    </tr>\n    <tr>\n      <th>7</th>\n      <td>1602</td>\n      <td>B4-4</td>\n      <td>5.000</td>\n      <td>4</td>\n      <td>99</td>\n      <td>13.2</td>\n      <td>1.10</td>\n      <td>8.33</td>\n      <td>4.545455</td>\n      <td>0.0210</td>\n    </tr>\n    <tr>\n      <th>8</th>\n      <td>1605</td>\n      <td>B6-2</td>\n      <td>5.000</td>\n      <td>2</td>\n      <td>127</td>\n      <td>12.1</td>\n      <td>0.80</td>\n      <td>6.24</td>\n      <td>6.250000</td>\n      <td>0.0193</td>\n    </tr>\n    <tr>\n      <th>9</th>\n      <td>1606</td>\n      <td>B6-4</td>\n      <td>5.000</td>\n      <td>4</td>\n      <td>113</td>\n      <td>12.1</td>\n      <td>0.80</td>\n      <td>6.24</td>\n      <td>6.250000</td>\n      <td>0.0201</td>\n    </tr>\n    <tr>\n      <th>10</th>\n      <td>1613</td>\n      <td>C6-3</td>\n      <td>10.000</td>\n      <td>3</td>\n      <td>113</td>\n      <td>15.3</td>\n      <td>1.60</td>\n      <td>12.48</td>\n      <td>6.250000</td>\n      <td>0.0249</td>\n    </tr>\n    <tr>\n      <th>11</th>\n      <td>1614</td>\n      <td>C6-5</td>\n      <td>10.000</td>\n      <td>5</td>\n      <td>113</td>\n      <td>15.3</td>\n      <td>1.60</td>\n      <td>12.48</td>\n      <td>6.250000</td>\n      <td>0.0258</td>\n    </tr>\n    <tr>\n      <th>12</th>\n      <td>1622</td>\n      <td>C11-3</td>\n      <td>10.000</td>\n      <td>3</td>\n      <td>170</td>\n      <td>22.1</td>\n      <td>0.80</td>\n      <td>11.00</td>\n      <td>12.500000</td>\n      <td>0.0322</td>\n    </tr>\n    <tr>\n      <th>13</th>\n      <td>1623</td>\n      <td>C11-5</td>\n      <td>10.000</td>\n      <td>5</td>\n      <td>142</td>\n      <td>22.1</td>\n      <td>0.80</td>\n      <td>11.00</td>\n      <td>12.500000</td>\n      <td>0.0333</td>\n    </tr>\n    <tr>\n      <th>14</th>\n      <td>1666</td>\n      <td>D12-3</td>\n      <td>20.000</td>\n      <td>3</td>\n      <td>396</td>\n      <td>32.9</td>\n      <td>1.60</td>\n      <td>24.93</td>\n      <td>12.500000</td>\n      <td>0.0422</td>\n    </tr>\n    <tr>\n      <th>15</th>\n      <td>1667</td>\n      <td>D12-5</td>\n      <td>20.000</td>\n      <td>5</td>\n      <td>283</td>\n      <td>32.9</td>\n      <td>1.60</td>\n      <td>24.93</td>\n      <td>12.500000</td>\n      <td>0.0431</td>\n    </tr>\n    <tr>\n      <th>16</th>\n      <td>1673</td>\n      <td>E9-4</td>\n      <td>30.000</td>\n      <td>4</td>\n      <td>425</td>\n      <td>25.0</td>\n      <td>2.80</td>\n      <td>35.80</td>\n      <td>10.714286</td>\n      <td>0.0567</td>\n    </tr>\n    <tr>\n      <th>17</th>\n      <td>1674</td>\n      <td>E9-6</td>\n      <td>30.000</td>\n      <td>6</td>\n      <td>340</td>\n      <td>25.0</td>\n      <td>2.80</td>\n      <td>35.80</td>\n      <td>10.714286</td>\n      <td>0.0567</td>\n    </tr>\n    <tr>\n      <th>18</th>\n      <td>1504</td>\n      <td>1/2A3-4T</td>\n      <td>1.250</td>\n      <td>4</td>\n      <td>28</td>\n      <td>8.3</td>\n      <td>0.30</td>\n      <td>1.75</td>\n      <td>4.166667</td>\n      <td>0.0060</td>\n    </tr>\n    <tr>\n      <th>19</th>\n      <td>1599</td>\n      <td>A8-5</td>\n      <td>2.500</td>\n      <td>5</td>\n      <td>57</td>\n      <td>13.3</td>\n      <td>0.50</td>\n      <td>3.12</td>\n      <td>5.000000</td>\n      <td>0.0176</td>\n    </tr>\n    <tr>\n      <th>20</th>\n      <td>1607</td>\n      <td>B6-6</td>\n      <td>5.000</td>\n      <td>6</td>\n      <td>71</td>\n      <td>12.1</td>\n      <td>0.80</td>\n      <td>6.24</td>\n      <td>6.250000</td>\n      <td>0.0221</td>\n    </tr>\n    <tr>\n      <th>21</th>\n      <td>1615</td>\n      <td>C6-7</td>\n      <td>10.000</td>\n      <td>7</td>\n      <td>71</td>\n      <td>15.3</td>\n      <td>1.60</td>\n      <td>12.48</td>\n      <td>6.250000</td>\n      <td>0.0269</td>\n    </tr>\n    <tr>\n      <th>22</th>\n      <td>1624</td>\n      <td>C11-7</td>\n      <td>10.000</td>\n      <td>7</td>\n      <td>113</td>\n      <td>22.1</td>\n      <td>0.80</td>\n      <td>11.00</td>\n      <td>12.500000</td>\n      <td>0.0345</td>\n    </tr>\n    <tr>\n      <th>23</th>\n      <td>1668</td>\n      <td>D12-7</td>\n      <td>20.000</td>\n      <td>7</td>\n      <td>226</td>\n      <td>32.9</td>\n      <td>1.60</td>\n      <td>24.93</td>\n      <td>12.500000</td>\n      <td>0.0440</td>\n    </tr>\n    <tr>\n      <th>24</th>\n      <td>1675</td>\n      <td>E9-8</td>\n      <td>30.000</td>\n      <td>8</td>\n      <td>283</td>\n      <td>25.0</td>\n      <td>2.80</td>\n      <td>35.80</td>\n      <td>10.714286</td>\n      <td>0.0567</td>\n    </tr>\n    <tr>\n      <th>25</th>\n      <td>1608</td>\n      <td>B6-0</td>\n      <td>5.000</td>\n      <td>None</td>\n      <td>113</td>\n      <td>12.1</td>\n      <td>0.80</td>\n      <td>6.24</td>\n      <td>6.250000</td>\n      <td>0.0164</td>\n    </tr>\n    <tr>\n      <th>26</th>\n      <td>1616</td>\n      <td>C6-0</td>\n      <td>10.000</td>\n      <td>None</td>\n      <td>113</td>\n      <td>15.3</td>\n      <td>1.60</td>\n      <td>12.48</td>\n      <td>6.250000</td>\n      <td>0.0227</td>\n    </tr>\n    <tr>\n      <th>27</th>\n      <td>1621</td>\n      <td>C11-0</td>\n      <td>10.000</td>\n      <td>None</td>\n      <td>170</td>\n      <td>22.1</td>\n      <td>0.80</td>\n      <td>11.00</td>\n      <td>12.500000</td>\n      <td>0.0278</td>\n    </tr>\n    <tr>\n      <th>28</th>\n      <td>1665</td>\n      <td>D12-0</td>\n      <td>20.000</td>\n      <td>None</td>\n      <td>396</td>\n      <td>32.9</td>\n      <td>1.60</td>\n      <td>24.93</td>\n      <td>12.500000</td>\n      <td>0.0409</td>\n    </tr>\n    <tr>\n      <th>29</th>\n      <td>1669</td>\n      <td>D11-P</td>\n      <td>20.000</td>\n      <td>None</td>\n      <td>453</td>\n      <td>27.6</td>\n      <td>1.80</td>\n      <td>24.93</td>\n      <td>11.111111</td>\n      <td>0.0440</td>\n    </tr>\n    <tr>\n      <th>30</th>\n      <td>1676</td>\n      <td>E9-P</td>\n      <td>30.000</td>\n      <td>None</td>\n      <td>425</td>\n      <td>25.0</td>\n      <td>2.80</td>\n      <td>35.80</td>\n      <td>10.714286</td>\n      <td>0.0560</td>\n    </tr>\n  </tbody>\n</table>\n</div>"
     },
     "metadata": {},
     "execution_count": 7
    }
   ],
   "source": [
    "df.drop(columns=['Initial Weight(g)'])"
   ]
  },
  {
   "cell_type": "code",
   "execution_count": 8,
   "metadata": {},
   "outputs": [
    {
     "output_type": "execute_result",
     "data": {
      "text/plain": [
       "    Prod Engine Type  Total Impulse (N/S) Time Delay(Sec.)  Max Lift Wt(g)  \\\n",
       "0   1502    1/4A3-3T                0.625                3              28   \n",
       "1   1503    1/2A3-2T                1.250                2              57   \n",
       "2   1507       A3-4T                2.500                4              57   \n",
       "3   1511      A10-3T                2.500                3              85   \n",
       "4   1593     1/2A6-2                1.250                2              57   \n",
       "5   1598        A8-3                2.500                3              85   \n",
       "6   1601        B4-2                5.000                2             113   \n",
       "7   1602        B4-4                5.000                4              99   \n",
       "8   1605        B6-2                5.000                2             127   \n",
       "9   1606        B6-4                5.000                4             113   \n",
       "10  1613        C6-3               10.000                3             113   \n",
       "11  1614        C6-5               10.000                5             113   \n",
       "12  1622       C11-3               10.000                3             170   \n",
       "13  1623       C11-5               10.000                5             142   \n",
       "14  1666       D12-3               20.000                3             396   \n",
       "15  1667       D12-5               20.000                5             283   \n",
       "16  1673        E9-4               30.000                4             425   \n",
       "17  1674        E9-6               30.000                6             340   \n",
       "18  1504    1/2A3-4T                1.250                4              28   \n",
       "19  1599        A8-5                2.500                5              57   \n",
       "20  1607        B6-6                5.000                6              71   \n",
       "21  1615        C6-7               10.000                7              71   \n",
       "22  1624       C11-7               10.000                7             113   \n",
       "23  1668       D12-7               20.000                7             226   \n",
       "24  1675        E9-8               30.000                8             283   \n",
       "25  1608        B6-0                5.000             None             113   \n",
       "26  1616        C6-0               10.000             None             113   \n",
       "27  1621       C11-0               10.000             None             170   \n",
       "28  1665       D12-0               20.000             None             396   \n",
       "29  1669       D11-P               20.000             None             453   \n",
       "30  1676        E9-P               30.000             None             425   \n",
       "\n",
       "    Max Thrust(newtons)  Thrust Duration(second)  Initial Weight(g)  \\\n",
       "0                   4.9                     0.25                5.6   \n",
       "1                   8.3                     0.30                5.6   \n",
       "2                   6.8                     0.60                7.6   \n",
       "3                  13.0                     0.80                7.9   \n",
       "4                   8.9                     0.30               15.0   \n",
       "5                  10.7                     0.50               16.2   \n",
       "6                  13.2                     1.10               19.8   \n",
       "7                  13.2                     1.10               21.0   \n",
       "8                  12.1                     0.80               19.3   \n",
       "9                  12.1                     0.80               20.1   \n",
       "10                 15.3                     1.60               24.9   \n",
       "11                 15.3                     1.60               25.8   \n",
       "12                 22.1                     0.80               32.2   \n",
       "13                 22.1                     0.80               33.3   \n",
       "14                 32.9                     1.60               42.2   \n",
       "15                 32.9                     1.60               43.1   \n",
       "16                 25.0                     2.80               56.7   \n",
       "17                 25.0                     2.80               56.7   \n",
       "18                  8.3                     0.30                6.0   \n",
       "19                 13.3                     0.50               17.6   \n",
       "20                 12.1                     0.80               22.1   \n",
       "21                 15.3                     1.60               26.9   \n",
       "22                 22.1                     0.80               34.5   \n",
       "23                 32.9                     1.60               44.0   \n",
       "24                 25.0                     2.80               56.7   \n",
       "25                 12.1                     0.80               16.4   \n",
       "26                 15.3                     1.60               22.7   \n",
       "27                 22.1                     0.80               27.8   \n",
       "28                 32.9                     1.60               40.9   \n",
       "29                 27.6                     1.80               44.0   \n",
       "30                 25.0                     2.80               56.0   \n",
       "\n",
       "    Propellant Weight(g)     Thrust  Initial Weight(kg)            v  \n",
       "0                   0.85   2.500000              0.0056  1091.300000  \n",
       "1                   1.75   4.166667              0.0056  2184.560000  \n",
       "2                   3.50   4.166667              0.0076  3217.804211  \n",
       "3                   3.78   3.125000              0.0079  3093.425823  \n",
       "4                   1.56   4.166667              0.0150   813.726667  \n",
       "5                   3.12   5.000000              0.0162  1507.445679  \n",
       "6                   8.33   4.545455              0.0198  2463.967475  \n",
       "7                   8.33   4.545455              0.0210  2322.553333  \n",
       "8                   6.24   6.250000              0.0193  2531.020104  \n",
       "9                   6.24   6.250000              0.0201  2429.970945  \n",
       "10                 12.48   6.250000              0.0249  3920.062972  \n",
       "11                 12.48   6.250000              0.0258  3782.769612  \n",
       "12                 11.00  12.500000              0.0322  3035.638261  \n",
       "13                 11.00  12.500000              0.0333  2935.102943  \n",
       "14                 24.93  12.500000              0.0422  4628.869763  \n",
       "15                 24.93  12.500000              0.0431  4531.883805  \n",
       "16                 35.80  10.714286              0.0567  5157.745185  \n",
       "17                 35.80  10.714286              0.0567  5157.745185  \n",
       "18                  1.75   4.166667              0.0060  2038.726667  \n",
       "19                  3.12   5.000000              0.0176  1387.145455  \n",
       "20                  6.24   6.250000              0.0221  2209.354570  \n",
       "21                 12.48   6.250000              0.0269  3627.442677  \n",
       "22                 11.00  12.500000              0.0345  2832.739710  \n",
       "23                 24.93  12.500000              0.0440  4438.865455  \n",
       "24                 35.80  10.714286              0.0567  5157.745185  \n",
       "25                  6.24   6.250000              0.0164  2979.964878  \n",
       "26                 12.48   6.250000              0.0227  4301.500617  \n",
       "27                 11.00  12.500000              0.0278  3517.339856  \n",
       "28                 24.93  12.500000              0.0409  4776.496039  \n",
       "29                 24.93  11.111111              0.0440  4436.905455  \n",
       "30                 35.80  10.714286              0.0560  5222.560000  "
      ],
      "text/html": "<div>\n<style scoped>\n    .dataframe tbody tr th:only-of-type {\n        vertical-align: middle;\n    }\n\n    .dataframe tbody tr th {\n        vertical-align: top;\n    }\n\n    .dataframe thead th {\n        text-align: right;\n    }\n</style>\n<table border=\"1\" class=\"dataframe\">\n  <thead>\n    <tr style=\"text-align: right;\">\n      <th></th>\n      <th>Prod</th>\n      <th>Engine Type</th>\n      <th>Total Impulse (N/S)</th>\n      <th>Time Delay(Sec.)</th>\n      <th>Max Lift Wt(g)</th>\n      <th>Max Thrust(newtons)</th>\n      <th>Thrust Duration(second)</th>\n      <th>Initial Weight(g)</th>\n      <th>Propellant Weight(g)</th>\n      <th>Thrust</th>\n      <th>Initial Weight(kg)</th>\n      <th>v</th>\n    </tr>\n  </thead>\n  <tbody>\n    <tr>\n      <th>0</th>\n      <td>1502</td>\n      <td>1/4A3-3T</td>\n      <td>0.625</td>\n      <td>3</td>\n      <td>28</td>\n      <td>4.9</td>\n      <td>0.25</td>\n      <td>5.6</td>\n      <td>0.85</td>\n      <td>2.500000</td>\n      <td>0.0056</td>\n      <td>1091.300000</td>\n    </tr>\n    <tr>\n      <th>1</th>\n      <td>1503</td>\n      <td>1/2A3-2T</td>\n      <td>1.250</td>\n      <td>2</td>\n      <td>57</td>\n      <td>8.3</td>\n      <td>0.30</td>\n      <td>5.6</td>\n      <td>1.75</td>\n      <td>4.166667</td>\n      <td>0.0056</td>\n      <td>2184.560000</td>\n    </tr>\n    <tr>\n      <th>2</th>\n      <td>1507</td>\n      <td>A3-4T</td>\n      <td>2.500</td>\n      <td>4</td>\n      <td>57</td>\n      <td>6.8</td>\n      <td>0.60</td>\n      <td>7.6</td>\n      <td>3.50</td>\n      <td>4.166667</td>\n      <td>0.0076</td>\n      <td>3217.804211</td>\n    </tr>\n    <tr>\n      <th>3</th>\n      <td>1511</td>\n      <td>A10-3T</td>\n      <td>2.500</td>\n      <td>3</td>\n      <td>85</td>\n      <td>13.0</td>\n      <td>0.80</td>\n      <td>7.9</td>\n      <td>3.78</td>\n      <td>3.125000</td>\n      <td>0.0079</td>\n      <td>3093.425823</td>\n    </tr>\n    <tr>\n      <th>4</th>\n      <td>1593</td>\n      <td>1/2A6-2</td>\n      <td>1.250</td>\n      <td>2</td>\n      <td>57</td>\n      <td>8.9</td>\n      <td>0.30</td>\n      <td>15.0</td>\n      <td>1.56</td>\n      <td>4.166667</td>\n      <td>0.0150</td>\n      <td>813.726667</td>\n    </tr>\n    <tr>\n      <th>5</th>\n      <td>1598</td>\n      <td>A8-3</td>\n      <td>2.500</td>\n      <td>3</td>\n      <td>85</td>\n      <td>10.7</td>\n      <td>0.50</td>\n      <td>16.2</td>\n      <td>3.12</td>\n      <td>5.000000</td>\n      <td>0.0162</td>\n      <td>1507.445679</td>\n    </tr>\n    <tr>\n      <th>6</th>\n      <td>1601</td>\n      <td>B4-2</td>\n      <td>5.000</td>\n      <td>2</td>\n      <td>113</td>\n      <td>13.2</td>\n      <td>1.10</td>\n      <td>19.8</td>\n      <td>8.33</td>\n      <td>4.545455</td>\n      <td>0.0198</td>\n      <td>2463.967475</td>\n    </tr>\n    <tr>\n      <th>7</th>\n      <td>1602</td>\n      <td>B4-4</td>\n      <td>5.000</td>\n      <td>4</td>\n      <td>99</td>\n      <td>13.2</td>\n      <td>1.10</td>\n      <td>21.0</td>\n      <td>8.33</td>\n      <td>4.545455</td>\n      <td>0.0210</td>\n      <td>2322.553333</td>\n    </tr>\n    <tr>\n      <th>8</th>\n      <td>1605</td>\n      <td>B6-2</td>\n      <td>5.000</td>\n      <td>2</td>\n      <td>127</td>\n      <td>12.1</td>\n      <td>0.80</td>\n      <td>19.3</td>\n      <td>6.24</td>\n      <td>6.250000</td>\n      <td>0.0193</td>\n      <td>2531.020104</td>\n    </tr>\n    <tr>\n      <th>9</th>\n      <td>1606</td>\n      <td>B6-4</td>\n      <td>5.000</td>\n      <td>4</td>\n      <td>113</td>\n      <td>12.1</td>\n      <td>0.80</td>\n      <td>20.1</td>\n      <td>6.24</td>\n      <td>6.250000</td>\n      <td>0.0201</td>\n      <td>2429.970945</td>\n    </tr>\n    <tr>\n      <th>10</th>\n      <td>1613</td>\n      <td>C6-3</td>\n      <td>10.000</td>\n      <td>3</td>\n      <td>113</td>\n      <td>15.3</td>\n      <td>1.60</td>\n      <td>24.9</td>\n      <td>12.48</td>\n      <td>6.250000</td>\n      <td>0.0249</td>\n      <td>3920.062972</td>\n    </tr>\n    <tr>\n      <th>11</th>\n      <td>1614</td>\n      <td>C6-5</td>\n      <td>10.000</td>\n      <td>5</td>\n      <td>113</td>\n      <td>15.3</td>\n      <td>1.60</td>\n      <td>25.8</td>\n      <td>12.48</td>\n      <td>6.250000</td>\n      <td>0.0258</td>\n      <td>3782.769612</td>\n    </tr>\n    <tr>\n      <th>12</th>\n      <td>1622</td>\n      <td>C11-3</td>\n      <td>10.000</td>\n      <td>3</td>\n      <td>170</td>\n      <td>22.1</td>\n      <td>0.80</td>\n      <td>32.2</td>\n      <td>11.00</td>\n      <td>12.500000</td>\n      <td>0.0322</td>\n      <td>3035.638261</td>\n    </tr>\n    <tr>\n      <th>13</th>\n      <td>1623</td>\n      <td>C11-5</td>\n      <td>10.000</td>\n      <td>5</td>\n      <td>142</td>\n      <td>22.1</td>\n      <td>0.80</td>\n      <td>33.3</td>\n      <td>11.00</td>\n      <td>12.500000</td>\n      <td>0.0333</td>\n      <td>2935.102943</td>\n    </tr>\n    <tr>\n      <th>14</th>\n      <td>1666</td>\n      <td>D12-3</td>\n      <td>20.000</td>\n      <td>3</td>\n      <td>396</td>\n      <td>32.9</td>\n      <td>1.60</td>\n      <td>42.2</td>\n      <td>24.93</td>\n      <td>12.500000</td>\n      <td>0.0422</td>\n      <td>4628.869763</td>\n    </tr>\n    <tr>\n      <th>15</th>\n      <td>1667</td>\n      <td>D12-5</td>\n      <td>20.000</td>\n      <td>5</td>\n      <td>283</td>\n      <td>32.9</td>\n      <td>1.60</td>\n      <td>43.1</td>\n      <td>24.93</td>\n      <td>12.500000</td>\n      <td>0.0431</td>\n      <td>4531.883805</td>\n    </tr>\n    <tr>\n      <th>16</th>\n      <td>1673</td>\n      <td>E9-4</td>\n      <td>30.000</td>\n      <td>4</td>\n      <td>425</td>\n      <td>25.0</td>\n      <td>2.80</td>\n      <td>56.7</td>\n      <td>35.80</td>\n      <td>10.714286</td>\n      <td>0.0567</td>\n      <td>5157.745185</td>\n    </tr>\n    <tr>\n      <th>17</th>\n      <td>1674</td>\n      <td>E9-6</td>\n      <td>30.000</td>\n      <td>6</td>\n      <td>340</td>\n      <td>25.0</td>\n      <td>2.80</td>\n      <td>56.7</td>\n      <td>35.80</td>\n      <td>10.714286</td>\n      <td>0.0567</td>\n      <td>5157.745185</td>\n    </tr>\n    <tr>\n      <th>18</th>\n      <td>1504</td>\n      <td>1/2A3-4T</td>\n      <td>1.250</td>\n      <td>4</td>\n      <td>28</td>\n      <td>8.3</td>\n      <td>0.30</td>\n      <td>6.0</td>\n      <td>1.75</td>\n      <td>4.166667</td>\n      <td>0.0060</td>\n      <td>2038.726667</td>\n    </tr>\n    <tr>\n      <th>19</th>\n      <td>1599</td>\n      <td>A8-5</td>\n      <td>2.500</td>\n      <td>5</td>\n      <td>57</td>\n      <td>13.3</td>\n      <td>0.50</td>\n      <td>17.6</td>\n      <td>3.12</td>\n      <td>5.000000</td>\n      <td>0.0176</td>\n      <td>1387.145455</td>\n    </tr>\n    <tr>\n      <th>20</th>\n      <td>1607</td>\n      <td>B6-6</td>\n      <td>5.000</td>\n      <td>6</td>\n      <td>71</td>\n      <td>12.1</td>\n      <td>0.80</td>\n      <td>22.1</td>\n      <td>6.24</td>\n      <td>6.250000</td>\n      <td>0.0221</td>\n      <td>2209.354570</td>\n    </tr>\n    <tr>\n      <th>21</th>\n      <td>1615</td>\n      <td>C6-7</td>\n      <td>10.000</td>\n      <td>7</td>\n      <td>71</td>\n      <td>15.3</td>\n      <td>1.60</td>\n      <td>26.9</td>\n      <td>12.48</td>\n      <td>6.250000</td>\n      <td>0.0269</td>\n      <td>3627.442677</td>\n    </tr>\n    <tr>\n      <th>22</th>\n      <td>1624</td>\n      <td>C11-7</td>\n      <td>10.000</td>\n      <td>7</td>\n      <td>113</td>\n      <td>22.1</td>\n      <td>0.80</td>\n      <td>34.5</td>\n      <td>11.00</td>\n      <td>12.500000</td>\n      <td>0.0345</td>\n      <td>2832.739710</td>\n    </tr>\n    <tr>\n      <th>23</th>\n      <td>1668</td>\n      <td>D12-7</td>\n      <td>20.000</td>\n      <td>7</td>\n      <td>226</td>\n      <td>32.9</td>\n      <td>1.60</td>\n      <td>44.0</td>\n      <td>24.93</td>\n      <td>12.500000</td>\n      <td>0.0440</td>\n      <td>4438.865455</td>\n    </tr>\n    <tr>\n      <th>24</th>\n      <td>1675</td>\n      <td>E9-8</td>\n      <td>30.000</td>\n      <td>8</td>\n      <td>283</td>\n      <td>25.0</td>\n      <td>2.80</td>\n      <td>56.7</td>\n      <td>35.80</td>\n      <td>10.714286</td>\n      <td>0.0567</td>\n      <td>5157.745185</td>\n    </tr>\n    <tr>\n      <th>25</th>\n      <td>1608</td>\n      <td>B6-0</td>\n      <td>5.000</td>\n      <td>None</td>\n      <td>113</td>\n      <td>12.1</td>\n      <td>0.80</td>\n      <td>16.4</td>\n      <td>6.24</td>\n      <td>6.250000</td>\n      <td>0.0164</td>\n      <td>2979.964878</td>\n    </tr>\n    <tr>\n      <th>26</th>\n      <td>1616</td>\n      <td>C6-0</td>\n      <td>10.000</td>\n      <td>None</td>\n      <td>113</td>\n      <td>15.3</td>\n      <td>1.60</td>\n      <td>22.7</td>\n      <td>12.48</td>\n      <td>6.250000</td>\n      <td>0.0227</td>\n      <td>4301.500617</td>\n    </tr>\n    <tr>\n      <th>27</th>\n      <td>1621</td>\n      <td>C11-0</td>\n      <td>10.000</td>\n      <td>None</td>\n      <td>170</td>\n      <td>22.1</td>\n      <td>0.80</td>\n      <td>27.8</td>\n      <td>11.00</td>\n      <td>12.500000</td>\n      <td>0.0278</td>\n      <td>3517.339856</td>\n    </tr>\n    <tr>\n      <th>28</th>\n      <td>1665</td>\n      <td>D12-0</td>\n      <td>20.000</td>\n      <td>None</td>\n      <td>396</td>\n      <td>32.9</td>\n      <td>1.60</td>\n      <td>40.9</td>\n      <td>24.93</td>\n      <td>12.500000</td>\n      <td>0.0409</td>\n      <td>4776.496039</td>\n    </tr>\n    <tr>\n      <th>29</th>\n      <td>1669</td>\n      <td>D11-P</td>\n      <td>20.000</td>\n      <td>None</td>\n      <td>453</td>\n      <td>27.6</td>\n      <td>1.80</td>\n      <td>44.0</td>\n      <td>24.93</td>\n      <td>11.111111</td>\n      <td>0.0440</td>\n      <td>4436.905455</td>\n    </tr>\n    <tr>\n      <th>30</th>\n      <td>1676</td>\n      <td>E9-P</td>\n      <td>30.000</td>\n      <td>None</td>\n      <td>425</td>\n      <td>25.0</td>\n      <td>2.80</td>\n      <td>56.0</td>\n      <td>35.80</td>\n      <td>10.714286</td>\n      <td>0.0560</td>\n      <td>5222.560000</td>\n    </tr>\n  </tbody>\n</table>\n</div>"
     },
     "metadata": {},
     "execution_count": 8
    }
   ],
   "source": [
    "df['v'] = (df['Thrust']/df['Initial Weight(kg)']-1)*9.8*df['Thrust Duration(second)']\n",
    "df"
   ]
  },
  {
   "cell_type": "code",
   "execution_count": 9,
   "metadata": {},
   "outputs": [],
   "source": [
    "#Before Burn Out\n",
    "df['y'] = 0.5*df['v']*df['Thrust Duration(second)']\n",
    "\n",
    "#after\n",
    "df['x'] = (-(df['v'])**2)/2/-9.8"
   ]
  },
  {
   "cell_type": "code",
   "execution_count": 10,
   "metadata": {},
   "outputs": [],
   "source": [
    "df['Max Height'] = df['y'] + df['x']"
   ]
  },
  {
   "cell_type": "code",
   "execution_count": 11,
   "metadata": {},
   "outputs": [
    {
     "output_type": "execute_result",
     "data": {
      "text/plain": [
       "    Prod Engine Type  Total Impulse (N/S) Time Delay(Sec.)  Max Lift Wt(g)  \\\n",
       "0   1502    1/4A3-3T                0.625                3              28   \n",
       "1   1503    1/2A3-2T                1.250                2              57   \n",
       "2   1507       A3-4T                2.500                4              57   \n",
       "3   1511      A10-3T                2.500                3              85   \n",
       "4   1593     1/2A6-2                1.250                2              57   \n",
       "5   1598        A8-3                2.500                3              85   \n",
       "6   1601        B4-2                5.000                2             113   \n",
       "7   1602        B4-4                5.000                4              99   \n",
       "8   1605        B6-2                5.000                2             127   \n",
       "9   1606        B6-4                5.000                4             113   \n",
       "10  1613        C6-3               10.000                3             113   \n",
       "11  1614        C6-5               10.000                5             113   \n",
       "12  1622       C11-3               10.000                3             170   \n",
       "13  1623       C11-5               10.000                5             142   \n",
       "14  1666       D12-3               20.000                3             396   \n",
       "15  1667       D12-5               20.000                5             283   \n",
       "16  1673        E9-4               30.000                4             425   \n",
       "17  1674        E9-6               30.000                6             340   \n",
       "18  1504    1/2A3-4T                1.250                4              28   \n",
       "19  1599        A8-5                2.500                5              57   \n",
       "20  1607        B6-6                5.000                6              71   \n",
       "21  1615        C6-7               10.000                7              71   \n",
       "22  1624       C11-7               10.000                7             113   \n",
       "23  1668       D12-7               20.000                7             226   \n",
       "24  1675        E9-8               30.000                8             283   \n",
       "25  1608        B6-0                5.000             None             113   \n",
       "26  1616        C6-0               10.000             None             113   \n",
       "27  1621       C11-0               10.000             None             170   \n",
       "28  1665       D12-0               20.000             None             396   \n",
       "29  1669       D11-P               20.000             None             453   \n",
       "30  1676        E9-P               30.000             None             425   \n",
       "\n",
       "    Max Thrust(newtons)  Thrust Duration(second)  Initial Weight(g)  \\\n",
       "0                   4.9                     0.25                5.6   \n",
       "1                   8.3                     0.30                5.6   \n",
       "2                   6.8                     0.60                7.6   \n",
       "3                  13.0                     0.80                7.9   \n",
       "4                   8.9                     0.30               15.0   \n",
       "5                  10.7                     0.50               16.2   \n",
       "6                  13.2                     1.10               19.8   \n",
       "7                  13.2                     1.10               21.0   \n",
       "8                  12.1                     0.80               19.3   \n",
       "9                  12.1                     0.80               20.1   \n",
       "10                 15.3                     1.60               24.9   \n",
       "11                 15.3                     1.60               25.8   \n",
       "12                 22.1                     0.80               32.2   \n",
       "13                 22.1                     0.80               33.3   \n",
       "14                 32.9                     1.60               42.2   \n",
       "15                 32.9                     1.60               43.1   \n",
       "16                 25.0                     2.80               56.7   \n",
       "17                 25.0                     2.80               56.7   \n",
       "18                  8.3                     0.30                6.0   \n",
       "19                 13.3                     0.50               17.6   \n",
       "20                 12.1                     0.80               22.1   \n",
       "21                 15.3                     1.60               26.9   \n",
       "22                 22.1                     0.80               34.5   \n",
       "23                 32.9                     1.60               44.0   \n",
       "24                 25.0                     2.80               56.7   \n",
       "25                 12.1                     0.80               16.4   \n",
       "26                 15.3                     1.60               22.7   \n",
       "27                 22.1                     0.80               27.8   \n",
       "28                 32.9                     1.60               40.9   \n",
       "29                 27.6                     1.80               44.0   \n",
       "30                 25.0                     2.80               56.0   \n",
       "\n",
       "    Propellant Weight(g)     Thrust  Initial Weight(kg)            v  \\\n",
       "0                   0.85   2.500000              0.0056  1091.300000   \n",
       "1                   1.75   4.166667              0.0056  2184.560000   \n",
       "2                   3.50   4.166667              0.0076  3217.804211   \n",
       "3                   3.78   3.125000              0.0079  3093.425823   \n",
       "4                   1.56   4.166667              0.0150   813.726667   \n",
       "5                   3.12   5.000000              0.0162  1507.445679   \n",
       "6                   8.33   4.545455              0.0198  2463.967475   \n",
       "7                   8.33   4.545455              0.0210  2322.553333   \n",
       "8                   6.24   6.250000              0.0193  2531.020104   \n",
       "9                   6.24   6.250000              0.0201  2429.970945   \n",
       "10                 12.48   6.250000              0.0249  3920.062972   \n",
       "11                 12.48   6.250000              0.0258  3782.769612   \n",
       "12                 11.00  12.500000              0.0322  3035.638261   \n",
       "13                 11.00  12.500000              0.0333  2935.102943   \n",
       "14                 24.93  12.500000              0.0422  4628.869763   \n",
       "15                 24.93  12.500000              0.0431  4531.883805   \n",
       "16                 35.80  10.714286              0.0567  5157.745185   \n",
       "17                 35.80  10.714286              0.0567  5157.745185   \n",
       "18                  1.75   4.166667              0.0060  2038.726667   \n",
       "19                  3.12   5.000000              0.0176  1387.145455   \n",
       "20                  6.24   6.250000              0.0221  2209.354570   \n",
       "21                 12.48   6.250000              0.0269  3627.442677   \n",
       "22                 11.00  12.500000              0.0345  2832.739710   \n",
       "23                 24.93  12.500000              0.0440  4438.865455   \n",
       "24                 35.80  10.714286              0.0567  5157.745185   \n",
       "25                  6.24   6.250000              0.0164  2979.964878   \n",
       "26                 12.48   6.250000              0.0227  4301.500617   \n",
       "27                 11.00  12.500000              0.0278  3517.339856   \n",
       "28                 24.93  12.500000              0.0409  4776.496039   \n",
       "29                 24.93  11.111111              0.0440  4436.905455   \n",
       "30                 35.80  10.714286              0.0560  5222.560000   \n",
       "\n",
       "              y             x    Max Height  \n",
       "0    136.412500  6.076203e+04  6.089844e+04  \n",
       "1    327.684000  2.434848e+05  2.438125e+05  \n",
       "2    965.341263  5.282788e+05  5.292441e+05  \n",
       "3   1237.370329  4.882287e+05  4.894661e+05  \n",
       "4    122.059000  3.378322e+04  3.390528e+04  \n",
       "5    376.861420  1.159384e+05  1.163153e+05  \n",
       "6   1355.182111  3.097518e+05  3.111070e+05  \n",
       "7   1277.404333  2.752170e+05  2.764944e+05  \n",
       "8   1012.408041  3.268399e+05  3.278523e+05  \n",
       "9    971.988378  3.012632e+05  3.022352e+05  \n",
       "10  3136.050378  7.840252e+05  7.871612e+05  \n",
       "11  3026.215690  7.300687e+05  7.330949e+05  \n",
       "12  1214.255304  4.701581e+05  4.713724e+05  \n",
       "13  1174.041177  4.395321e+05  4.407061e+05  \n",
       "14  3703.095810  1.093185e+06  1.096889e+06  \n",
       "15  3625.507044  1.047856e+06  1.051481e+06  \n",
       "16  7220.843259  1.357262e+06  1.364483e+06  \n",
       "17  7220.843259  1.357262e+06  1.364483e+06  \n",
       "18   305.809000  2.120616e+05  2.123674e+05  \n",
       "19   346.786364  9.817207e+04  9.851885e+04  \n",
       "20   883.741828  2.490432e+05  2.499270e+05  \n",
       "21  2901.954141  6.713439e+05  6.742459e+05  \n",
       "22  1133.095884  4.094089e+05  4.105420e+05  \n",
       "23  3551.092364  1.005282e+06  1.008833e+06  \n",
       "24  7220.843259  1.357262e+06  1.364483e+06  \n",
       "25  1191.985951  4.530710e+05  4.542629e+05  \n",
       "26  3441.200493  9.440259e+05  9.474671e+05  \n",
       "27  1406.935942  6.312081e+05  6.326151e+05  \n",
       "28  3821.196831  1.164026e+06  1.167847e+06  \n",
       "29  3993.214909  1.004394e+06  1.008388e+06  \n",
       "30  7311.584000  1.391588e+06  1.398900e+06  "
      ],
      "text/html": "<div>\n<style scoped>\n    .dataframe tbody tr th:only-of-type {\n        vertical-align: middle;\n    }\n\n    .dataframe tbody tr th {\n        vertical-align: top;\n    }\n\n    .dataframe thead th {\n        text-align: right;\n    }\n</style>\n<table border=\"1\" class=\"dataframe\">\n  <thead>\n    <tr style=\"text-align: right;\">\n      <th></th>\n      <th>Prod</th>\n      <th>Engine Type</th>\n      <th>Total Impulse (N/S)</th>\n      <th>Time Delay(Sec.)</th>\n      <th>Max Lift Wt(g)</th>\n      <th>Max Thrust(newtons)</th>\n      <th>Thrust Duration(second)</th>\n      <th>Initial Weight(g)</th>\n      <th>Propellant Weight(g)</th>\n      <th>Thrust</th>\n      <th>Initial Weight(kg)</th>\n      <th>v</th>\n      <th>y</th>\n      <th>x</th>\n      <th>Max Height</th>\n    </tr>\n  </thead>\n  <tbody>\n    <tr>\n      <th>0</th>\n      <td>1502</td>\n      <td>1/4A3-3T</td>\n      <td>0.625</td>\n      <td>3</td>\n      <td>28</td>\n      <td>4.9</td>\n      <td>0.25</td>\n      <td>5.6</td>\n      <td>0.85</td>\n      <td>2.500000</td>\n      <td>0.0056</td>\n      <td>1091.300000</td>\n      <td>136.412500</td>\n      <td>6.076203e+04</td>\n      <td>6.089844e+04</td>\n    </tr>\n    <tr>\n      <th>1</th>\n      <td>1503</td>\n      <td>1/2A3-2T</td>\n      <td>1.250</td>\n      <td>2</td>\n      <td>57</td>\n      <td>8.3</td>\n      <td>0.30</td>\n      <td>5.6</td>\n      <td>1.75</td>\n      <td>4.166667</td>\n      <td>0.0056</td>\n      <td>2184.560000</td>\n      <td>327.684000</td>\n      <td>2.434848e+05</td>\n      <td>2.438125e+05</td>\n    </tr>\n    <tr>\n      <th>2</th>\n      <td>1507</td>\n      <td>A3-4T</td>\n      <td>2.500</td>\n      <td>4</td>\n      <td>57</td>\n      <td>6.8</td>\n      <td>0.60</td>\n      <td>7.6</td>\n      <td>3.50</td>\n      <td>4.166667</td>\n      <td>0.0076</td>\n      <td>3217.804211</td>\n      <td>965.341263</td>\n      <td>5.282788e+05</td>\n      <td>5.292441e+05</td>\n    </tr>\n    <tr>\n      <th>3</th>\n      <td>1511</td>\n      <td>A10-3T</td>\n      <td>2.500</td>\n      <td>3</td>\n      <td>85</td>\n      <td>13.0</td>\n      <td>0.80</td>\n      <td>7.9</td>\n      <td>3.78</td>\n      <td>3.125000</td>\n      <td>0.0079</td>\n      <td>3093.425823</td>\n      <td>1237.370329</td>\n      <td>4.882287e+05</td>\n      <td>4.894661e+05</td>\n    </tr>\n    <tr>\n      <th>4</th>\n      <td>1593</td>\n      <td>1/2A6-2</td>\n      <td>1.250</td>\n      <td>2</td>\n      <td>57</td>\n      <td>8.9</td>\n      <td>0.30</td>\n      <td>15.0</td>\n      <td>1.56</td>\n      <td>4.166667</td>\n      <td>0.0150</td>\n      <td>813.726667</td>\n      <td>122.059000</td>\n      <td>3.378322e+04</td>\n      <td>3.390528e+04</td>\n    </tr>\n    <tr>\n      <th>5</th>\n      <td>1598</td>\n      <td>A8-3</td>\n      <td>2.500</td>\n      <td>3</td>\n      <td>85</td>\n      <td>10.7</td>\n      <td>0.50</td>\n      <td>16.2</td>\n      <td>3.12</td>\n      <td>5.000000</td>\n      <td>0.0162</td>\n      <td>1507.445679</td>\n      <td>376.861420</td>\n      <td>1.159384e+05</td>\n      <td>1.163153e+05</td>\n    </tr>\n    <tr>\n      <th>6</th>\n      <td>1601</td>\n      <td>B4-2</td>\n      <td>5.000</td>\n      <td>2</td>\n      <td>113</td>\n      <td>13.2</td>\n      <td>1.10</td>\n      <td>19.8</td>\n      <td>8.33</td>\n      <td>4.545455</td>\n      <td>0.0198</td>\n      <td>2463.967475</td>\n      <td>1355.182111</td>\n      <td>3.097518e+05</td>\n      <td>3.111070e+05</td>\n    </tr>\n    <tr>\n      <th>7</th>\n      <td>1602</td>\n      <td>B4-4</td>\n      <td>5.000</td>\n      <td>4</td>\n      <td>99</td>\n      <td>13.2</td>\n      <td>1.10</td>\n      <td>21.0</td>\n      <td>8.33</td>\n      <td>4.545455</td>\n      <td>0.0210</td>\n      <td>2322.553333</td>\n      <td>1277.404333</td>\n      <td>2.752170e+05</td>\n      <td>2.764944e+05</td>\n    </tr>\n    <tr>\n      <th>8</th>\n      <td>1605</td>\n      <td>B6-2</td>\n      <td>5.000</td>\n      <td>2</td>\n      <td>127</td>\n      <td>12.1</td>\n      <td>0.80</td>\n      <td>19.3</td>\n      <td>6.24</td>\n      <td>6.250000</td>\n      <td>0.0193</td>\n      <td>2531.020104</td>\n      <td>1012.408041</td>\n      <td>3.268399e+05</td>\n      <td>3.278523e+05</td>\n    </tr>\n    <tr>\n      <th>9</th>\n      <td>1606</td>\n      <td>B6-4</td>\n      <td>5.000</td>\n      <td>4</td>\n      <td>113</td>\n      <td>12.1</td>\n      <td>0.80</td>\n      <td>20.1</td>\n      <td>6.24</td>\n      <td>6.250000</td>\n      <td>0.0201</td>\n      <td>2429.970945</td>\n      <td>971.988378</td>\n      <td>3.012632e+05</td>\n      <td>3.022352e+05</td>\n    </tr>\n    <tr>\n      <th>10</th>\n      <td>1613</td>\n      <td>C6-3</td>\n      <td>10.000</td>\n      <td>3</td>\n      <td>113</td>\n      <td>15.3</td>\n      <td>1.60</td>\n      <td>24.9</td>\n      <td>12.48</td>\n      <td>6.250000</td>\n      <td>0.0249</td>\n      <td>3920.062972</td>\n      <td>3136.050378</td>\n      <td>7.840252e+05</td>\n      <td>7.871612e+05</td>\n    </tr>\n    <tr>\n      <th>11</th>\n      <td>1614</td>\n      <td>C6-5</td>\n      <td>10.000</td>\n      <td>5</td>\n      <td>113</td>\n      <td>15.3</td>\n      <td>1.60</td>\n      <td>25.8</td>\n      <td>12.48</td>\n      <td>6.250000</td>\n      <td>0.0258</td>\n      <td>3782.769612</td>\n      <td>3026.215690</td>\n      <td>7.300687e+05</td>\n      <td>7.330949e+05</td>\n    </tr>\n    <tr>\n      <th>12</th>\n      <td>1622</td>\n      <td>C11-3</td>\n      <td>10.000</td>\n      <td>3</td>\n      <td>170</td>\n      <td>22.1</td>\n      <td>0.80</td>\n      <td>32.2</td>\n      <td>11.00</td>\n      <td>12.500000</td>\n      <td>0.0322</td>\n      <td>3035.638261</td>\n      <td>1214.255304</td>\n      <td>4.701581e+05</td>\n      <td>4.713724e+05</td>\n    </tr>\n    <tr>\n      <th>13</th>\n      <td>1623</td>\n      <td>C11-5</td>\n      <td>10.000</td>\n      <td>5</td>\n      <td>142</td>\n      <td>22.1</td>\n      <td>0.80</td>\n      <td>33.3</td>\n      <td>11.00</td>\n      <td>12.500000</td>\n      <td>0.0333</td>\n      <td>2935.102943</td>\n      <td>1174.041177</td>\n      <td>4.395321e+05</td>\n      <td>4.407061e+05</td>\n    </tr>\n    <tr>\n      <th>14</th>\n      <td>1666</td>\n      <td>D12-3</td>\n      <td>20.000</td>\n      <td>3</td>\n      <td>396</td>\n      <td>32.9</td>\n      <td>1.60</td>\n      <td>42.2</td>\n      <td>24.93</td>\n      <td>12.500000</td>\n      <td>0.0422</td>\n      <td>4628.869763</td>\n      <td>3703.095810</td>\n      <td>1.093185e+06</td>\n      <td>1.096889e+06</td>\n    </tr>\n    <tr>\n      <th>15</th>\n      <td>1667</td>\n      <td>D12-5</td>\n      <td>20.000</td>\n      <td>5</td>\n      <td>283</td>\n      <td>32.9</td>\n      <td>1.60</td>\n      <td>43.1</td>\n      <td>24.93</td>\n      <td>12.500000</td>\n      <td>0.0431</td>\n      <td>4531.883805</td>\n      <td>3625.507044</td>\n      <td>1.047856e+06</td>\n      <td>1.051481e+06</td>\n    </tr>\n    <tr>\n      <th>16</th>\n      <td>1673</td>\n      <td>E9-4</td>\n      <td>30.000</td>\n      <td>4</td>\n      <td>425</td>\n      <td>25.0</td>\n      <td>2.80</td>\n      <td>56.7</td>\n      <td>35.80</td>\n      <td>10.714286</td>\n      <td>0.0567</td>\n      <td>5157.745185</td>\n      <td>7220.843259</td>\n      <td>1.357262e+06</td>\n      <td>1.364483e+06</td>\n    </tr>\n    <tr>\n      <th>17</th>\n      <td>1674</td>\n      <td>E9-6</td>\n      <td>30.000</td>\n      <td>6</td>\n      <td>340</td>\n      <td>25.0</td>\n      <td>2.80</td>\n      <td>56.7</td>\n      <td>35.80</td>\n      <td>10.714286</td>\n      <td>0.0567</td>\n      <td>5157.745185</td>\n      <td>7220.843259</td>\n      <td>1.357262e+06</td>\n      <td>1.364483e+06</td>\n    </tr>\n    <tr>\n      <th>18</th>\n      <td>1504</td>\n      <td>1/2A3-4T</td>\n      <td>1.250</td>\n      <td>4</td>\n      <td>28</td>\n      <td>8.3</td>\n      <td>0.30</td>\n      <td>6.0</td>\n      <td>1.75</td>\n      <td>4.166667</td>\n      <td>0.0060</td>\n      <td>2038.726667</td>\n      <td>305.809000</td>\n      <td>2.120616e+05</td>\n      <td>2.123674e+05</td>\n    </tr>\n    <tr>\n      <th>19</th>\n      <td>1599</td>\n      <td>A8-5</td>\n      <td>2.500</td>\n      <td>5</td>\n      <td>57</td>\n      <td>13.3</td>\n      <td>0.50</td>\n      <td>17.6</td>\n      <td>3.12</td>\n      <td>5.000000</td>\n      <td>0.0176</td>\n      <td>1387.145455</td>\n      <td>346.786364</td>\n      <td>9.817207e+04</td>\n      <td>9.851885e+04</td>\n    </tr>\n    <tr>\n      <th>20</th>\n      <td>1607</td>\n      <td>B6-6</td>\n      <td>5.000</td>\n      <td>6</td>\n      <td>71</td>\n      <td>12.1</td>\n      <td>0.80</td>\n      <td>22.1</td>\n      <td>6.24</td>\n      <td>6.250000</td>\n      <td>0.0221</td>\n      <td>2209.354570</td>\n      <td>883.741828</td>\n      <td>2.490432e+05</td>\n      <td>2.499270e+05</td>\n    </tr>\n    <tr>\n      <th>21</th>\n      <td>1615</td>\n      <td>C6-7</td>\n      <td>10.000</td>\n      <td>7</td>\n      <td>71</td>\n      <td>15.3</td>\n      <td>1.60</td>\n      <td>26.9</td>\n      <td>12.48</td>\n      <td>6.250000</td>\n      <td>0.0269</td>\n      <td>3627.442677</td>\n      <td>2901.954141</td>\n      <td>6.713439e+05</td>\n      <td>6.742459e+05</td>\n    </tr>\n    <tr>\n      <th>22</th>\n      <td>1624</td>\n      <td>C11-7</td>\n      <td>10.000</td>\n      <td>7</td>\n      <td>113</td>\n      <td>22.1</td>\n      <td>0.80</td>\n      <td>34.5</td>\n      <td>11.00</td>\n      <td>12.500000</td>\n      <td>0.0345</td>\n      <td>2832.739710</td>\n      <td>1133.095884</td>\n      <td>4.094089e+05</td>\n      <td>4.105420e+05</td>\n    </tr>\n    <tr>\n      <th>23</th>\n      <td>1668</td>\n      <td>D12-7</td>\n      <td>20.000</td>\n      <td>7</td>\n      <td>226</td>\n      <td>32.9</td>\n      <td>1.60</td>\n      <td>44.0</td>\n      <td>24.93</td>\n      <td>12.500000</td>\n      <td>0.0440</td>\n      <td>4438.865455</td>\n      <td>3551.092364</td>\n      <td>1.005282e+06</td>\n      <td>1.008833e+06</td>\n    </tr>\n    <tr>\n      <th>24</th>\n      <td>1675</td>\n      <td>E9-8</td>\n      <td>30.000</td>\n      <td>8</td>\n      <td>283</td>\n      <td>25.0</td>\n      <td>2.80</td>\n      <td>56.7</td>\n      <td>35.80</td>\n      <td>10.714286</td>\n      <td>0.0567</td>\n      <td>5157.745185</td>\n      <td>7220.843259</td>\n      <td>1.357262e+06</td>\n      <td>1.364483e+06</td>\n    </tr>\n    <tr>\n      <th>25</th>\n      <td>1608</td>\n      <td>B6-0</td>\n      <td>5.000</td>\n      <td>None</td>\n      <td>113</td>\n      <td>12.1</td>\n      <td>0.80</td>\n      <td>16.4</td>\n      <td>6.24</td>\n      <td>6.250000</td>\n      <td>0.0164</td>\n      <td>2979.964878</td>\n      <td>1191.985951</td>\n      <td>4.530710e+05</td>\n      <td>4.542629e+05</td>\n    </tr>\n    <tr>\n      <th>26</th>\n      <td>1616</td>\n      <td>C6-0</td>\n      <td>10.000</td>\n      <td>None</td>\n      <td>113</td>\n      <td>15.3</td>\n      <td>1.60</td>\n      <td>22.7</td>\n      <td>12.48</td>\n      <td>6.250000</td>\n      <td>0.0227</td>\n      <td>4301.500617</td>\n      <td>3441.200493</td>\n      <td>9.440259e+05</td>\n      <td>9.474671e+05</td>\n    </tr>\n    <tr>\n      <th>27</th>\n      <td>1621</td>\n      <td>C11-0</td>\n      <td>10.000</td>\n      <td>None</td>\n      <td>170</td>\n      <td>22.1</td>\n      <td>0.80</td>\n      <td>27.8</td>\n      <td>11.00</td>\n      <td>12.500000</td>\n      <td>0.0278</td>\n      <td>3517.339856</td>\n      <td>1406.935942</td>\n      <td>6.312081e+05</td>\n      <td>6.326151e+05</td>\n    </tr>\n    <tr>\n      <th>28</th>\n      <td>1665</td>\n      <td>D12-0</td>\n      <td>20.000</td>\n      <td>None</td>\n      <td>396</td>\n      <td>32.9</td>\n      <td>1.60</td>\n      <td>40.9</td>\n      <td>24.93</td>\n      <td>12.500000</td>\n      <td>0.0409</td>\n      <td>4776.496039</td>\n      <td>3821.196831</td>\n      <td>1.164026e+06</td>\n      <td>1.167847e+06</td>\n    </tr>\n    <tr>\n      <th>29</th>\n      <td>1669</td>\n      <td>D11-P</td>\n      <td>20.000</td>\n      <td>None</td>\n      <td>453</td>\n      <td>27.6</td>\n      <td>1.80</td>\n      <td>44.0</td>\n      <td>24.93</td>\n      <td>11.111111</td>\n      <td>0.0440</td>\n      <td>4436.905455</td>\n      <td>3993.214909</td>\n      <td>1.004394e+06</td>\n      <td>1.008388e+06</td>\n    </tr>\n    <tr>\n      <th>30</th>\n      <td>1676</td>\n      <td>E9-P</td>\n      <td>30.000</td>\n      <td>None</td>\n      <td>425</td>\n      <td>25.0</td>\n      <td>2.80</td>\n      <td>56.0</td>\n      <td>35.80</td>\n      <td>10.714286</td>\n      <td>0.0560</td>\n      <td>5222.560000</td>\n      <td>7311.584000</td>\n      <td>1.391588e+06</td>\n      <td>1.398900e+06</td>\n    </tr>\n  </tbody>\n</table>\n</div>"
     },
     "metadata": {},
     "execution_count": 11
    }
   ],
   "source": [
    "df"
   ]
  },
  {
   "cell_type": "code",
   "execution_count": 12,
   "metadata": {},
   "outputs": [
    {
     "output_type": "display_data",
     "data": {
      "text/plain": "<Figure size 432x288 with 1 Axes>",
      "image/svg+xml": "<?xml version=\"1.0\" encoding=\"utf-8\" standalone=\"no\"?>\n<!DOCTYPE svg PUBLIC \"-//W3C//DTD SVG 1.1//EN\"\n  \"http://www.w3.org/Graphics/SVG/1.1/DTD/svg11.dtd\">\n<svg height=\"347.874375pt\" version=\"1.1\" viewBox=\"0 0 479.803125 347.874375\" width=\"479.803125pt\" xmlns=\"http://www.w3.org/2000/svg\" xmlns:xlink=\"http://www.w3.org/1999/xlink\">\n <metadata>\n  <rdf:RDF xmlns:cc=\"http://creativecommons.org/ns#\" xmlns:dc=\"http://purl.org/dc/elements/1.1/\" xmlns:rdf=\"http://www.w3.org/1999/02/22-rdf-syntax-ns#\">\n   <cc:Work>\n    <dc:type rdf:resource=\"http://purl.org/dc/dcmitype/StillImage\"/>\n    <dc:date>2021-06-26T20:54:48.285734</dc:date>\n    <dc:format>image/svg+xml</dc:format>\n    <dc:creator>\n     <cc:Agent>\n      <dc:title>Matplotlib v3.4.1, https://matplotlib.org/</dc:title>\n     </cc:Agent>\n    </dc:creator>\n   </cc:Work>\n  </rdf:RDF>\n </metadata>\n <defs>\n  <style type=\"text/css\">*{stroke-linecap:butt;stroke-linejoin:round;}</style>\n </defs>\n <g id=\"figure_1\">\n  <g id=\"patch_1\">\n   <path d=\"M 0 347.874375 \nL 479.803125 347.874375 \nL 479.803125 0 \nL 0 0 \nz\n\" style=\"fill:none;\"/>\n  </g>\n  <g id=\"axes_1\">\n   <g id=\"patch_2\">\n    <path d=\"M 40.603125 310.318125 \nL 472.603125 310.318125 \nL 472.603125 22.318125 \nL 40.603125 22.318125 \nz\n\" style=\"fill:#ffffff;\"/>\n   </g>\n   <g id=\"PathCollection_1\">\n    <defs>\n     <path d=\"M 0 3 \nC 0.795609 3 1.55874 2.683901 2.12132 2.12132 \nC 2.683901 1.55874 3 0.795609 3 0 \nC 3 -0.795609 2.683901 -1.55874 2.12132 -2.12132 \nC 1.55874 -2.683901 0.795609 -3 0 -3 \nC -0.795609 -3 -1.55874 -2.683901 -2.12132 -2.12132 \nC -2.683901 -1.55874 -3 -0.795609 -3 0 \nC -3 0.795609 -2.683901 1.55874 -2.12132 2.12132 \nC -1.55874 2.683901 -0.795609 3 0 3 \nz\n\" id=\"m47700f7511\" style=\"stroke:#1f77b4;\"/>\n    </defs>\n    <g clip-path=\"url(#p6405d6a378)\">\n     <use style=\"fill:#1f77b4;stroke:#1f77b4;\" x=\"68.005782\" xlink:href=\"#m47700f7511\" y=\"297.227216\"/>\n     <use style=\"fill:#1f77b4;stroke:#1f77b4;\" x=\"120.632609\" xlink:href=\"#m47700f7511\" y=\"253.590852\"/>\n     <use style=\"fill:#1f77b4;stroke:#1f77b4;\" x=\"202.755109\" xlink:href=\"#m47700f7511\" y=\"253.590852\"/>\n     <use style=\"fill:#1f77b4;stroke:#1f77b4;\" x=\"191.310445\" xlink:href=\"#m47700f7511\" y=\"280.86358\"/>\n     <use style=\"fill:#1f77b4;stroke:#1f77b4;\" x=\"60.239489\" xlink:href=\"#m47700f7511\" y=\"253.590852\"/>\n     <use style=\"fill:#1f77b4;stroke:#1f77b4;\" x=\"83.949943\" xlink:href=\"#m47700f7511\" y=\"231.77267\"/>\n     <use style=\"fill:#1f77b4;stroke:#1f77b4;\" x=\"139.99414\" xlink:href=\"#m47700f7511\" y=\"243.673497\"/>\n     <use style=\"fill:#1f77b4;stroke:#1f77b4;\" x=\"130.035643\" xlink:href=\"#m47700f7511\" y=\"243.673497\"/>\n     <use style=\"fill:#1f77b4;stroke:#1f77b4;\" x=\"144.811999\" xlink:href=\"#m47700f7511\" y=\"199.045398\"/>\n     <use style=\"fill:#1f77b4;stroke:#1f77b4;\" x=\"137.441601\" xlink:href=\"#m47700f7511\" y=\"199.045398\"/>\n     <use style=\"fill:#1f77b4;stroke:#1f77b4;\" x=\"276.961323\" xlink:href=\"#m47700f7511\" y=\"199.045398\"/>\n     <use style=\"fill:#1f77b4;stroke:#1f77b4;\" x=\"261.405708\" xlink:href=\"#m47700f7511\" y=\"199.045398\"/>\n     <use style=\"fill:#1f77b4;stroke:#1f77b4;\" x=\"186.104642\" xlink:href=\"#m47700f7511\" y=\"35.409034\"/>\n     <use style=\"fill:#1f77b4;stroke:#1f77b4;\" x=\"177.28155\" xlink:href=\"#m47700f7511\" y=\"35.409034\"/>\n     <use style=\"fill:#1f77b4;stroke:#1f77b4;\" x=\"366.074026\" xlink:href=\"#m47700f7511\" y=\"35.409034\"/>\n     <use style=\"fill:#1f77b4;stroke:#1f77b4;\" x=\"353.009706\" xlink:href=\"#m47700f7511\" y=\"35.409034\"/>\n     <use style=\"fill:#1f77b4;stroke:#1f77b4;\" x=\"443.064487\" xlink:href=\"#m47700f7511\" y=\"82.162281\"/>\n     <use style=\"fill:#1f77b4;stroke:#1f77b4;\" x=\"443.064487\" xlink:href=\"#m47700f7511\" y=\"82.162281\"/>\n     <use style=\"fill:#1f77b4;stroke:#1f77b4;\" x=\"111.585421\" xlink:href=\"#m47700f7511\" y=\"253.590852\"/>\n     <use style=\"fill:#1f77b4;stroke:#1f77b4;\" x=\"78.82968\" xlink:href=\"#m47700f7511\" y=\"231.77267\"/>\n     <use style=\"fill:#1f77b4;stroke:#1f77b4;\" x=\"122.391829\" xlink:href=\"#m47700f7511\" y=\"199.045398\"/>\n     <use style=\"fill:#1f77b4;stroke:#1f77b4;\" x=\"244.474052\" xlink:href=\"#m47700f7511\" y=\"199.045398\"/>\n     <use style=\"fill:#1f77b4;stroke:#1f77b4;\" x=\"168.602917\" xlink:href=\"#m47700f7511\" y=\"35.409034\"/>\n     <use style=\"fill:#1f77b4;stroke:#1f77b4;\" x=\"340.739275\" xlink:href=\"#m47700f7511\" y=\"35.409034\"/>\n     <use style=\"fill:#1f77b4;stroke:#1f77b4;\" x=\"443.064487\" xlink:href=\"#m47700f7511\" y=\"82.162281\"/>\n     <use style=\"fill:#1f77b4;stroke:#1f77b4;\" x=\"181.182021\" xlink:href=\"#m47700f7511\" y=\"199.045398\"/>\n     <use style=\"fill:#1f77b4;stroke:#1f77b4;\" x=\"323.083466\" xlink:href=\"#m47700f7511\" y=\"199.045398\"/>\n     <use style=\"fill:#1f77b4;stroke:#1f77b4;\" x=\"232.496322\" xlink:href=\"#m47700f7511\" y=\"35.409034\"/>\n     <use style=\"fill:#1f77b4;stroke:#1f77b4;\" x=\"386.489844\" xlink:href=\"#m47700f7511\" y=\"35.409034\"/>\n     <use style=\"fill:#1f77b4;stroke:#1f77b4;\" x=\"340.611112\" xlink:href=\"#m47700f7511\" y=\"71.77267\"/>\n     <use style=\"fill:#1f77b4;stroke:#1f77b4;\" x=\"452.966761\" xlink:href=\"#m47700f7511\" y=\"82.162281\"/>\n    </g>\n   </g>\n   <g id=\"matplotlib.axis_1\">\n    <g id=\"xtick_1\">\n     <g id=\"line2d_1\">\n      <defs>\n       <path d=\"M 0 0 \nL 0 3.5 \n\" id=\"mf32b3bf855\" style=\"stroke:#000000;stroke-width:0.8;\"/>\n      </defs>\n      <g>\n       <use style=\"stroke:#000000;stroke-width:0.8;\" x=\"50.484486\" xlink:href=\"#mf32b3bf855\" y=\"310.318125\"/>\n      </g>\n     </g>\n     <g id=\"text_1\">\n      <!-- 0.0 -->\n      <g transform=\"translate(42.532923 324.916562)scale(0.1 -0.1)\">\n       <defs>\n        <path d=\"M 2034 4250 \nQ 1547 4250 1301 3770 \nQ 1056 3291 1056 2328 \nQ 1056 1369 1301 889 \nQ 1547 409 2034 409 \nQ 2525 409 2770 889 \nQ 3016 1369 3016 2328 \nQ 3016 3291 2770 3770 \nQ 2525 4250 2034 4250 \nz\nM 2034 4750 \nQ 2819 4750 3233 4129 \nQ 3647 3509 3647 2328 \nQ 3647 1150 3233 529 \nQ 2819 -91 2034 -91 \nQ 1250 -91 836 529 \nQ 422 1150 422 2328 \nQ 422 3509 836 4129 \nQ 1250 4750 2034 4750 \nz\n\" id=\"DejaVuSans-30\" transform=\"scale(0.015625)\"/>\n        <path d=\"M 684 794 \nL 1344 794 \nL 1344 0 \nL 684 0 \nL 684 794 \nz\n\" id=\"DejaVuSans-2e\" transform=\"scale(0.015625)\"/>\n       </defs>\n       <use xlink:href=\"#DejaVuSans-30\"/>\n       <use x=\"63.623047\" xlink:href=\"#DejaVuSans-2e\"/>\n       <use x=\"95.410156\" xlink:href=\"#DejaVuSans-30\"/>\n      </g>\n     </g>\n    </g>\n    <g id=\"xtick_2\">\n     <g id=\"line2d_2\">\n      <g>\n       <use style=\"stroke:#000000;stroke-width:0.8;\" x=\"108.027166\" xlink:href=\"#mf32b3bf855\" y=\"310.318125\"/>\n      </g>\n     </g>\n     <g id=\"text_2\">\n      <!-- 0.2 -->\n      <g transform=\"translate(100.075603 324.916562)scale(0.1 -0.1)\">\n       <defs>\n        <path d=\"M 1228 531 \nL 3431 531 \nL 3431 0 \nL 469 0 \nL 469 531 \nQ 828 903 1448 1529 \nQ 2069 2156 2228 2338 \nQ 2531 2678 2651 2914 \nQ 2772 3150 2772 3378 \nQ 2772 3750 2511 3984 \nQ 2250 4219 1831 4219 \nQ 1534 4219 1204 4116 \nQ 875 4013 500 3803 \nL 500 4441 \nQ 881 4594 1212 4672 \nQ 1544 4750 1819 4750 \nQ 2544 4750 2975 4387 \nQ 3406 4025 3406 3419 \nQ 3406 3131 3298 2873 \nQ 3191 2616 2906 2266 \nQ 2828 2175 2409 1742 \nQ 1991 1309 1228 531 \nz\n\" id=\"DejaVuSans-32\" transform=\"scale(0.015625)\"/>\n       </defs>\n       <use xlink:href=\"#DejaVuSans-30\"/>\n       <use x=\"63.623047\" xlink:href=\"#DejaVuSans-2e\"/>\n       <use x=\"95.410156\" xlink:href=\"#DejaVuSans-32\"/>\n      </g>\n     </g>\n    </g>\n    <g id=\"xtick_3\">\n     <g id=\"line2d_3\">\n      <g>\n       <use style=\"stroke:#000000;stroke-width:0.8;\" x=\"165.569846\" xlink:href=\"#mf32b3bf855\" y=\"310.318125\"/>\n      </g>\n     </g>\n     <g id=\"text_3\">\n      <!-- 0.4 -->\n      <g transform=\"translate(157.618283 324.916562)scale(0.1 -0.1)\">\n       <defs>\n        <path d=\"M 2419 4116 \nL 825 1625 \nL 2419 1625 \nL 2419 4116 \nz\nM 2253 4666 \nL 3047 4666 \nL 3047 1625 \nL 3713 1625 \nL 3713 1100 \nL 3047 1100 \nL 3047 0 \nL 2419 0 \nL 2419 1100 \nL 313 1100 \nL 313 1709 \nL 2253 4666 \nz\n\" id=\"DejaVuSans-34\" transform=\"scale(0.015625)\"/>\n       </defs>\n       <use xlink:href=\"#DejaVuSans-30\"/>\n       <use x=\"63.623047\" xlink:href=\"#DejaVuSans-2e\"/>\n       <use x=\"95.410156\" xlink:href=\"#DejaVuSans-34\"/>\n      </g>\n     </g>\n    </g>\n    <g id=\"xtick_4\">\n     <g id=\"line2d_4\">\n      <g>\n       <use style=\"stroke:#000000;stroke-width:0.8;\" x=\"223.112526\" xlink:href=\"#mf32b3bf855\" y=\"310.318125\"/>\n      </g>\n     </g>\n     <g id=\"text_4\">\n      <!-- 0.6 -->\n      <g transform=\"translate(215.160963 324.916562)scale(0.1 -0.1)\">\n       <defs>\n        <path d=\"M 2113 2584 \nQ 1688 2584 1439 2293 \nQ 1191 2003 1191 1497 \nQ 1191 994 1439 701 \nQ 1688 409 2113 409 \nQ 2538 409 2786 701 \nQ 3034 994 3034 1497 \nQ 3034 2003 2786 2293 \nQ 2538 2584 2113 2584 \nz\nM 3366 4563 \nL 3366 3988 \nQ 3128 4100 2886 4159 \nQ 2644 4219 2406 4219 \nQ 1781 4219 1451 3797 \nQ 1122 3375 1075 2522 \nQ 1259 2794 1537 2939 \nQ 1816 3084 2150 3084 \nQ 2853 3084 3261 2657 \nQ 3669 2231 3669 1497 \nQ 3669 778 3244 343 \nQ 2819 -91 2113 -91 \nQ 1303 -91 875 529 \nQ 447 1150 447 2328 \nQ 447 3434 972 4092 \nQ 1497 4750 2381 4750 \nQ 2619 4750 2861 4703 \nQ 3103 4656 3366 4563 \nz\n\" id=\"DejaVuSans-36\" transform=\"scale(0.015625)\"/>\n       </defs>\n       <use xlink:href=\"#DejaVuSans-30\"/>\n       <use x=\"63.623047\" xlink:href=\"#DejaVuSans-2e\"/>\n       <use x=\"95.410156\" xlink:href=\"#DejaVuSans-36\"/>\n      </g>\n     </g>\n    </g>\n    <g id=\"xtick_5\">\n     <g id=\"line2d_5\">\n      <g>\n       <use style=\"stroke:#000000;stroke-width:0.8;\" x=\"280.655206\" xlink:href=\"#mf32b3bf855\" y=\"310.318125\"/>\n      </g>\n     </g>\n     <g id=\"text_5\">\n      <!-- 0.8 -->\n      <g transform=\"translate(272.703644 324.916562)scale(0.1 -0.1)\">\n       <defs>\n        <path d=\"M 2034 2216 \nQ 1584 2216 1326 1975 \nQ 1069 1734 1069 1313 \nQ 1069 891 1326 650 \nQ 1584 409 2034 409 \nQ 2484 409 2743 651 \nQ 3003 894 3003 1313 \nQ 3003 1734 2745 1975 \nQ 2488 2216 2034 2216 \nz\nM 1403 2484 \nQ 997 2584 770 2862 \nQ 544 3141 544 3541 \nQ 544 4100 942 4425 \nQ 1341 4750 2034 4750 \nQ 2731 4750 3128 4425 \nQ 3525 4100 3525 3541 \nQ 3525 3141 3298 2862 \nQ 3072 2584 2669 2484 \nQ 3125 2378 3379 2068 \nQ 3634 1759 3634 1313 \nQ 3634 634 3220 271 \nQ 2806 -91 2034 -91 \nQ 1263 -91 848 271 \nQ 434 634 434 1313 \nQ 434 1759 690 2068 \nQ 947 2378 1403 2484 \nz\nM 1172 3481 \nQ 1172 3119 1398 2916 \nQ 1625 2713 2034 2713 \nQ 2441 2713 2670 2916 \nQ 2900 3119 2900 3481 \nQ 2900 3844 2670 4047 \nQ 2441 4250 2034 4250 \nQ 1625 4250 1398 4047 \nQ 1172 3844 1172 3481 \nz\n\" id=\"DejaVuSans-38\" transform=\"scale(0.015625)\"/>\n       </defs>\n       <use xlink:href=\"#DejaVuSans-30\"/>\n       <use x=\"63.623047\" xlink:href=\"#DejaVuSans-2e\"/>\n       <use x=\"95.410156\" xlink:href=\"#DejaVuSans-38\"/>\n      </g>\n     </g>\n    </g>\n    <g id=\"xtick_6\">\n     <g id=\"line2d_6\">\n      <g>\n       <use style=\"stroke:#000000;stroke-width:0.8;\" x=\"338.197886\" xlink:href=\"#mf32b3bf855\" y=\"310.318125\"/>\n      </g>\n     </g>\n     <g id=\"text_6\">\n      <!-- 1.0 -->\n      <g transform=\"translate(330.246324 324.916562)scale(0.1 -0.1)\">\n       <defs>\n        <path d=\"M 794 531 \nL 1825 531 \nL 1825 4091 \nL 703 3866 \nL 703 4441 \nL 1819 4666 \nL 2450 4666 \nL 2450 531 \nL 3481 531 \nL 3481 0 \nL 794 0 \nL 794 531 \nz\n\" id=\"DejaVuSans-31\" transform=\"scale(0.015625)\"/>\n       </defs>\n       <use xlink:href=\"#DejaVuSans-31\"/>\n       <use x=\"63.623047\" xlink:href=\"#DejaVuSans-2e\"/>\n       <use x=\"95.410156\" xlink:href=\"#DejaVuSans-30\"/>\n      </g>\n     </g>\n    </g>\n    <g id=\"xtick_7\">\n     <g id=\"line2d_7\">\n      <g>\n       <use style=\"stroke:#000000;stroke-width:0.8;\" x=\"395.740566\" xlink:href=\"#mf32b3bf855\" y=\"310.318125\"/>\n      </g>\n     </g>\n     <g id=\"text_7\">\n      <!-- 1.2 -->\n      <g transform=\"translate(387.789004 324.916562)scale(0.1 -0.1)\">\n       <use xlink:href=\"#DejaVuSans-31\"/>\n       <use x=\"63.623047\" xlink:href=\"#DejaVuSans-2e\"/>\n       <use x=\"95.410156\" xlink:href=\"#DejaVuSans-32\"/>\n      </g>\n     </g>\n    </g>\n    <g id=\"xtick_8\">\n     <g id=\"line2d_8\">\n      <g>\n       <use style=\"stroke:#000000;stroke-width:0.8;\" x=\"453.283246\" xlink:href=\"#mf32b3bf855\" y=\"310.318125\"/>\n      </g>\n     </g>\n     <g id=\"text_8\">\n      <!-- 1.4 -->\n      <g transform=\"translate(445.331684 324.916562)scale(0.1 -0.1)\">\n       <use xlink:href=\"#DejaVuSans-31\"/>\n       <use x=\"63.623047\" xlink:href=\"#DejaVuSans-2e\"/>\n       <use x=\"95.410156\" xlink:href=\"#DejaVuSans-34\"/>\n      </g>\n     </g>\n    </g>\n    <g id=\"text_9\">\n     <!-- Max Height -->\n     <g transform=\"translate(228.147656 338.594687)scale(0.1 -0.1)\">\n      <defs>\n       <path d=\"M 628 4666 \nL 1569 4666 \nL 2759 1491 \nL 3956 4666 \nL 4897 4666 \nL 4897 0 \nL 4281 0 \nL 4281 4097 \nL 3078 897 \nL 2444 897 \nL 1241 4097 \nL 1241 0 \nL 628 0 \nL 628 4666 \nz\n\" id=\"DejaVuSans-4d\" transform=\"scale(0.015625)\"/>\n       <path d=\"M 2194 1759 \nQ 1497 1759 1228 1600 \nQ 959 1441 959 1056 \nQ 959 750 1161 570 \nQ 1363 391 1709 391 \nQ 2188 391 2477 730 \nQ 2766 1069 2766 1631 \nL 2766 1759 \nL 2194 1759 \nz\nM 3341 1997 \nL 3341 0 \nL 2766 0 \nL 2766 531 \nQ 2569 213 2275 61 \nQ 1981 -91 1556 -91 \nQ 1019 -91 701 211 \nQ 384 513 384 1019 \nQ 384 1609 779 1909 \nQ 1175 2209 1959 2209 \nL 2766 2209 \nL 2766 2266 \nQ 2766 2663 2505 2880 \nQ 2244 3097 1772 3097 \nQ 1472 3097 1187 3025 \nQ 903 2953 641 2809 \nL 641 3341 \nQ 956 3463 1253 3523 \nQ 1550 3584 1831 3584 \nQ 2591 3584 2966 3190 \nQ 3341 2797 3341 1997 \nz\n\" id=\"DejaVuSans-61\" transform=\"scale(0.015625)\"/>\n       <path d=\"M 3513 3500 \nL 2247 1797 \nL 3578 0 \nL 2900 0 \nL 1881 1375 \nL 863 0 \nL 184 0 \nL 1544 1831 \nL 300 3500 \nL 978 3500 \nL 1906 2253 \nL 2834 3500 \nL 3513 3500 \nz\n\" id=\"DejaVuSans-78\" transform=\"scale(0.015625)\"/>\n       <path id=\"DejaVuSans-20\" transform=\"scale(0.015625)\"/>\n       <path d=\"M 628 4666 \nL 1259 4666 \nL 1259 2753 \nL 3553 2753 \nL 3553 4666 \nL 4184 4666 \nL 4184 0 \nL 3553 0 \nL 3553 2222 \nL 1259 2222 \nL 1259 0 \nL 628 0 \nL 628 4666 \nz\n\" id=\"DejaVuSans-48\" transform=\"scale(0.015625)\"/>\n       <path d=\"M 3597 1894 \nL 3597 1613 \nL 953 1613 \nQ 991 1019 1311 708 \nQ 1631 397 2203 397 \nQ 2534 397 2845 478 \nQ 3156 559 3463 722 \nL 3463 178 \nQ 3153 47 2828 -22 \nQ 2503 -91 2169 -91 \nQ 1331 -91 842 396 \nQ 353 884 353 1716 \nQ 353 2575 817 3079 \nQ 1281 3584 2069 3584 \nQ 2775 3584 3186 3129 \nQ 3597 2675 3597 1894 \nz\nM 3022 2063 \nQ 3016 2534 2758 2815 \nQ 2500 3097 2075 3097 \nQ 1594 3097 1305 2825 \nQ 1016 2553 972 2059 \nL 3022 2063 \nz\n\" id=\"DejaVuSans-65\" transform=\"scale(0.015625)\"/>\n       <path d=\"M 603 3500 \nL 1178 3500 \nL 1178 0 \nL 603 0 \nL 603 3500 \nz\nM 603 4863 \nL 1178 4863 \nL 1178 4134 \nL 603 4134 \nL 603 4863 \nz\n\" id=\"DejaVuSans-69\" transform=\"scale(0.015625)\"/>\n       <path d=\"M 2906 1791 \nQ 2906 2416 2648 2759 \nQ 2391 3103 1925 3103 \nQ 1463 3103 1205 2759 \nQ 947 2416 947 1791 \nQ 947 1169 1205 825 \nQ 1463 481 1925 481 \nQ 2391 481 2648 825 \nQ 2906 1169 2906 1791 \nz\nM 3481 434 \nQ 3481 -459 3084 -895 \nQ 2688 -1331 1869 -1331 \nQ 1566 -1331 1297 -1286 \nQ 1028 -1241 775 -1147 \nL 775 -588 \nQ 1028 -725 1275 -790 \nQ 1522 -856 1778 -856 \nQ 2344 -856 2625 -561 \nQ 2906 -266 2906 331 \nL 2906 616 \nQ 2728 306 2450 153 \nQ 2172 0 1784 0 \nQ 1141 0 747 490 \nQ 353 981 353 1791 \nQ 353 2603 747 3093 \nQ 1141 3584 1784 3584 \nQ 2172 3584 2450 3431 \nQ 2728 3278 2906 2969 \nL 2906 3500 \nL 3481 3500 \nL 3481 434 \nz\n\" id=\"DejaVuSans-67\" transform=\"scale(0.015625)\"/>\n       <path d=\"M 3513 2113 \nL 3513 0 \nL 2938 0 \nL 2938 2094 \nQ 2938 2591 2744 2837 \nQ 2550 3084 2163 3084 \nQ 1697 3084 1428 2787 \nQ 1159 2491 1159 1978 \nL 1159 0 \nL 581 0 \nL 581 4863 \nL 1159 4863 \nL 1159 2956 \nQ 1366 3272 1645 3428 \nQ 1925 3584 2291 3584 \nQ 2894 3584 3203 3211 \nQ 3513 2838 3513 2113 \nz\n\" id=\"DejaVuSans-68\" transform=\"scale(0.015625)\"/>\n       <path d=\"M 1172 4494 \nL 1172 3500 \nL 2356 3500 \nL 2356 3053 \nL 1172 3053 \nL 1172 1153 \nQ 1172 725 1289 603 \nQ 1406 481 1766 481 \nL 2356 481 \nL 2356 0 \nL 1766 0 \nQ 1100 0 847 248 \nQ 594 497 594 1153 \nL 594 3053 \nL 172 3053 \nL 172 3500 \nL 594 3500 \nL 594 4494 \nL 1172 4494 \nz\n\" id=\"DejaVuSans-74\" transform=\"scale(0.015625)\"/>\n      </defs>\n      <use xlink:href=\"#DejaVuSans-4d\"/>\n      <use x=\"86.279297\" xlink:href=\"#DejaVuSans-61\"/>\n      <use x=\"147.558594\" xlink:href=\"#DejaVuSans-78\"/>\n      <use x=\"206.738281\" xlink:href=\"#DejaVuSans-20\"/>\n      <use x=\"238.525391\" xlink:href=\"#DejaVuSans-48\"/>\n      <use x=\"313.720703\" xlink:href=\"#DejaVuSans-65\"/>\n      <use x=\"375.244141\" xlink:href=\"#DejaVuSans-69\"/>\n      <use x=\"403.027344\" xlink:href=\"#DejaVuSans-67\"/>\n      <use x=\"466.503906\" xlink:href=\"#DejaVuSans-68\"/>\n      <use x=\"529.882812\" xlink:href=\"#DejaVuSans-74\"/>\n     </g>\n    </g>\n    <g id=\"text_10\">\n     <!-- 1e6 -->\n     <g transform=\"translate(453.725 337.594687)scale(0.1 -0.1)\">\n      <use xlink:href=\"#DejaVuSans-31\"/>\n      <use x=\"63.623047\" xlink:href=\"#DejaVuSans-65\"/>\n      <use x=\"125.146484\" xlink:href=\"#DejaVuSans-36\"/>\n     </g>\n    </g>\n   </g>\n   <g id=\"matplotlib.axis_2\">\n    <g id=\"ytick_1\">\n     <g id=\"line2d_9\">\n      <defs>\n       <path d=\"M 0 0 \nL -3.5 0 \n\" id=\"m86daaf1e5e\" style=\"stroke:#000000;stroke-width:0.8;\"/>\n      </defs>\n      <g>\n       <use style=\"stroke:#000000;stroke-width:0.8;\" x=\"40.603125\" xlink:href=\"#m86daaf1e5e\" y=\"310.318125\"/>\n      </g>\n     </g>\n     <g id=\"text_11\">\n      <!-- 2 -->\n      <g transform=\"translate(27.240625 314.117344)scale(0.1 -0.1)\">\n       <use xlink:href=\"#DejaVuSans-32\"/>\n      </g>\n     </g>\n    </g>\n    <g id=\"ytick_2\">\n     <g id=\"line2d_10\">\n      <g>\n       <use style=\"stroke:#000000;stroke-width:0.8;\" x=\"40.603125\" xlink:href=\"#m86daaf1e5e\" y=\"257.954489\"/>\n      </g>\n     </g>\n     <g id=\"text_12\">\n      <!-- 4 -->\n      <g transform=\"translate(27.240625 261.753707)scale(0.1 -0.1)\">\n       <use xlink:href=\"#DejaVuSans-34\"/>\n      </g>\n     </g>\n    </g>\n    <g id=\"ytick_3\">\n     <g id=\"line2d_11\">\n      <g>\n       <use style=\"stroke:#000000;stroke-width:0.8;\" x=\"40.603125\" xlink:href=\"#m86daaf1e5e\" y=\"205.590852\"/>\n      </g>\n     </g>\n     <g id=\"text_13\">\n      <!-- 6 -->\n      <g transform=\"translate(27.240625 209.390071)scale(0.1 -0.1)\">\n       <use xlink:href=\"#DejaVuSans-36\"/>\n      </g>\n     </g>\n    </g>\n    <g id=\"ytick_4\">\n     <g id=\"line2d_12\">\n      <g>\n       <use style=\"stroke:#000000;stroke-width:0.8;\" x=\"40.603125\" xlink:href=\"#m86daaf1e5e\" y=\"153.227216\"/>\n      </g>\n     </g>\n     <g id=\"text_14\">\n      <!-- 8 -->\n      <g transform=\"translate(27.240625 157.026435)scale(0.1 -0.1)\">\n       <use xlink:href=\"#DejaVuSans-38\"/>\n      </g>\n     </g>\n    </g>\n    <g id=\"ytick_5\">\n     <g id=\"line2d_13\">\n      <g>\n       <use style=\"stroke:#000000;stroke-width:0.8;\" x=\"40.603125\" xlink:href=\"#m86daaf1e5e\" y=\"100.86358\"/>\n      </g>\n     </g>\n     <g id=\"text_15\">\n      <!-- 10 -->\n      <g transform=\"translate(20.878125 104.662798)scale(0.1 -0.1)\">\n       <use xlink:href=\"#DejaVuSans-31\"/>\n       <use x=\"63.623047\" xlink:href=\"#DejaVuSans-30\"/>\n      </g>\n     </g>\n    </g>\n    <g id=\"ytick_6\">\n     <g id=\"line2d_14\">\n      <g>\n       <use style=\"stroke:#000000;stroke-width:0.8;\" x=\"40.603125\" xlink:href=\"#m86daaf1e5e\" y=\"48.499943\"/>\n      </g>\n     </g>\n     <g id=\"text_16\">\n      <!-- 12 -->\n      <g transform=\"translate(20.878125 52.299162)scale(0.1 -0.1)\">\n       <use xlink:href=\"#DejaVuSans-31\"/>\n       <use x=\"63.623047\" xlink:href=\"#DejaVuSans-32\"/>\n      </g>\n     </g>\n    </g>\n    <g id=\"text_17\">\n     <!-- Thrust -->\n     <g transform=\"translate(14.798438 182.329844)rotate(-90)scale(0.1 -0.1)\">\n      <defs>\n       <path d=\"M -19 4666 \nL 3928 4666 \nL 3928 4134 \nL 2272 4134 \nL 2272 0 \nL 1638 0 \nL 1638 4134 \nL -19 4134 \nL -19 4666 \nz\n\" id=\"DejaVuSans-54\" transform=\"scale(0.015625)\"/>\n       <path d=\"M 2631 2963 \nQ 2534 3019 2420 3045 \nQ 2306 3072 2169 3072 \nQ 1681 3072 1420 2755 \nQ 1159 2438 1159 1844 \nL 1159 0 \nL 581 0 \nL 581 3500 \nL 1159 3500 \nL 1159 2956 \nQ 1341 3275 1631 3429 \nQ 1922 3584 2338 3584 \nQ 2397 3584 2469 3576 \nQ 2541 3569 2628 3553 \nL 2631 2963 \nz\n\" id=\"DejaVuSans-72\" transform=\"scale(0.015625)\"/>\n       <path d=\"M 544 1381 \nL 544 3500 \nL 1119 3500 \nL 1119 1403 \nQ 1119 906 1312 657 \nQ 1506 409 1894 409 \nQ 2359 409 2629 706 \nQ 2900 1003 2900 1516 \nL 2900 3500 \nL 3475 3500 \nL 3475 0 \nL 2900 0 \nL 2900 538 \nQ 2691 219 2414 64 \nQ 2138 -91 1772 -91 \nQ 1169 -91 856 284 \nQ 544 659 544 1381 \nz\nM 1991 3584 \nL 1991 3584 \nz\n\" id=\"DejaVuSans-75\" transform=\"scale(0.015625)\"/>\n       <path d=\"M 2834 3397 \nL 2834 2853 \nQ 2591 2978 2328 3040 \nQ 2066 3103 1784 3103 \nQ 1356 3103 1142 2972 \nQ 928 2841 928 2578 \nQ 928 2378 1081 2264 \nQ 1234 2150 1697 2047 \nL 1894 2003 \nQ 2506 1872 2764 1633 \nQ 3022 1394 3022 966 \nQ 3022 478 2636 193 \nQ 2250 -91 1575 -91 \nQ 1294 -91 989 -36 \nQ 684 19 347 128 \nL 347 722 \nQ 666 556 975 473 \nQ 1284 391 1588 391 \nQ 1994 391 2212 530 \nQ 2431 669 2431 922 \nQ 2431 1156 2273 1281 \nQ 2116 1406 1581 1522 \nL 1381 1569 \nQ 847 1681 609 1914 \nQ 372 2147 372 2553 \nQ 372 3047 722 3315 \nQ 1072 3584 1716 3584 \nQ 2034 3584 2315 3537 \nQ 2597 3491 2834 3397 \nz\n\" id=\"DejaVuSans-73\" transform=\"scale(0.015625)\"/>\n      </defs>\n      <use xlink:href=\"#DejaVuSans-54\"/>\n      <use x=\"61.083984\" xlink:href=\"#DejaVuSans-68\"/>\n      <use x=\"124.462891\" xlink:href=\"#DejaVuSans-72\"/>\n      <use x=\"165.576172\" xlink:href=\"#DejaVuSans-75\"/>\n      <use x=\"228.955078\" xlink:href=\"#DejaVuSans-73\"/>\n      <use x=\"281.054688\" xlink:href=\"#DejaVuSans-74\"/>\n     </g>\n    </g>\n   </g>\n   <g id=\"patch_3\">\n    <path d=\"M 40.603125 310.318125 \nL 40.603125 22.318125 \n\" style=\"fill:none;stroke:#000000;stroke-linecap:square;stroke-linejoin:miter;stroke-width:0.8;\"/>\n   </g>\n   <g id=\"patch_4\">\n    <path d=\"M 472.603125 310.318125 \nL 472.603125 22.318125 \n\" style=\"fill:none;stroke:#000000;stroke-linecap:square;stroke-linejoin:miter;stroke-width:0.8;\"/>\n   </g>\n   <g id=\"patch_5\">\n    <path d=\"M 40.603125 310.318125 \nL 472.603125 310.318125 \n\" style=\"fill:none;stroke:#000000;stroke-linecap:square;stroke-linejoin:miter;stroke-width:0.8;\"/>\n   </g>\n   <g id=\"patch_6\">\n    <path d=\"M 40.603125 22.318125 \nL 472.603125 22.318125 \n\" style=\"fill:none;stroke:#000000;stroke-linecap:square;stroke-linejoin:miter;stroke-width:0.8;\"/>\n   </g>\n   <g id=\"text_18\">\n    <!-- scatter plot -->\n    <g transform=\"translate(222.2325 16.318125)scale(0.12 -0.12)\">\n     <defs>\n      <path d=\"M 3122 3366 \nL 3122 2828 \nQ 2878 2963 2633 3030 \nQ 2388 3097 2138 3097 \nQ 1578 3097 1268 2742 \nQ 959 2388 959 1747 \nQ 959 1106 1268 751 \nQ 1578 397 2138 397 \nQ 2388 397 2633 464 \nQ 2878 531 3122 666 \nL 3122 134 \nQ 2881 22 2623 -34 \nQ 2366 -91 2075 -91 \nQ 1284 -91 818 406 \nQ 353 903 353 1747 \nQ 353 2603 823 3093 \nQ 1294 3584 2113 3584 \nQ 2378 3584 2631 3529 \nQ 2884 3475 3122 3366 \nz\n\" id=\"DejaVuSans-63\" transform=\"scale(0.015625)\"/>\n      <path d=\"M 1159 525 \nL 1159 -1331 \nL 581 -1331 \nL 581 3500 \nL 1159 3500 \nL 1159 2969 \nQ 1341 3281 1617 3432 \nQ 1894 3584 2278 3584 \nQ 2916 3584 3314 3078 \nQ 3713 2572 3713 1747 \nQ 3713 922 3314 415 \nQ 2916 -91 2278 -91 \nQ 1894 -91 1617 61 \nQ 1341 213 1159 525 \nz\nM 3116 1747 \nQ 3116 2381 2855 2742 \nQ 2594 3103 2138 3103 \nQ 1681 3103 1420 2742 \nQ 1159 2381 1159 1747 \nQ 1159 1113 1420 752 \nQ 1681 391 2138 391 \nQ 2594 391 2855 752 \nQ 3116 1113 3116 1747 \nz\n\" id=\"DejaVuSans-70\" transform=\"scale(0.015625)\"/>\n      <path d=\"M 603 4863 \nL 1178 4863 \nL 1178 0 \nL 603 0 \nL 603 4863 \nz\n\" id=\"DejaVuSans-6c\" transform=\"scale(0.015625)\"/>\n      <path d=\"M 1959 3097 \nQ 1497 3097 1228 2736 \nQ 959 2375 959 1747 \nQ 959 1119 1226 758 \nQ 1494 397 1959 397 \nQ 2419 397 2687 759 \nQ 2956 1122 2956 1747 \nQ 2956 2369 2687 2733 \nQ 2419 3097 1959 3097 \nz\nM 1959 3584 \nQ 2709 3584 3137 3096 \nQ 3566 2609 3566 1747 \nQ 3566 888 3137 398 \nQ 2709 -91 1959 -91 \nQ 1206 -91 779 398 \nQ 353 888 353 1747 \nQ 353 2609 779 3096 \nQ 1206 3584 1959 3584 \nz\n\" id=\"DejaVuSans-6f\" transform=\"scale(0.015625)\"/>\n     </defs>\n     <use xlink:href=\"#DejaVuSans-73\"/>\n     <use x=\"52.099609\" xlink:href=\"#DejaVuSans-63\"/>\n     <use x=\"107.080078\" xlink:href=\"#DejaVuSans-61\"/>\n     <use x=\"168.359375\" xlink:href=\"#DejaVuSans-74\"/>\n     <use x=\"207.568359\" xlink:href=\"#DejaVuSans-74\"/>\n     <use x=\"246.777344\" xlink:href=\"#DejaVuSans-65\"/>\n     <use x=\"308.300781\" xlink:href=\"#DejaVuSans-72\"/>\n     <use x=\"349.414062\" xlink:href=\"#DejaVuSans-20\"/>\n     <use x=\"381.201172\" xlink:href=\"#DejaVuSans-70\"/>\n     <use x=\"444.677734\" xlink:href=\"#DejaVuSans-6c\"/>\n     <use x=\"472.460938\" xlink:href=\"#DejaVuSans-6f\"/>\n     <use x=\"533.642578\" xlink:href=\"#DejaVuSans-74\"/>\n    </g>\n   </g>\n  </g>\n </g>\n <defs>\n  <clipPath id=\"p6405d6a378\">\n   <rect height=\"288\" width=\"432\" x=\"40.603125\" y=\"22.318125\"/>\n  </clipPath>\n </defs>\n</svg>\n",
      "image/png": "[encoded data removed]"
     },
     "metadata": {
      "needs_background": "light"
     }
    }
   ],
   "source": [
    "fig=plt.figure()\n",
    "ax=fig.add_axes([0,0,1,1])\n",
    "plt.scatter(df['Max Height'], df['Thrust'])\n",
    "\n",
    "\n",
    "ax.set_xlabel('Max Height')\n",
    "ax.set_ylabel('Thrust')\n",
    "ax.set_title('scatter plot')\n",
    "plt.show()"
   ]
  },
  {
   "cell_type": "code",
   "execution_count": 13,
   "metadata": {},
   "outputs": [],
   "source": [
    "Thrust = df['Thrust']\n",
    "MaxH = df['Max Height']\n",
    "InitWeight = df['Initial Weight(kg)']\n",
    "\n",
    "\n"
   ]
  },
  {
   "cell_type": "code",
   "execution_count": 14,
   "metadata": {},
   "outputs": [
    {
     "output_type": "stream",
     "name": "stdout",
     "text": [
      "[[1.26694394e+01 1.02824733e+06]\n [1.02824733e+06 1.86928377e+11]]\nPearsons correlation: 0.668\n"
     ]
    }
   ],
   "source": [
    "# calculate covariance matrix\n",
    "covariance = cov(Thrust, MaxH)\n",
    "print(covariance)\n",
    "\n",
    "#calculate pearsonr\n",
    "corr, _ = pearsonr(Thrust, MaxH)\n",
    "print('Pearsons correlation: %.3f' % corr)"
   ]
  },
  {
   "source": [
    "- The covariance between the two variables is 1.02824733e+06. We can see that it is positive, suggesting the variables change in the same direction as we expect.\n",
    "- Correlation suggest that it is moderately strong relationship"
   ],
   "cell_type": "markdown",
   "metadata": {}
  },
  {
   "cell_type": "code",
   "execution_count": 15,
   "metadata": {},
   "outputs": [
    {
     "output_type": "stream",
     "name": "stdout",
     "text": [
      "[[1.26694394e+01 4.70402992e-02]\n [4.70402992e-02 2.54756280e-04]]\nPearsons correlation: 0.828\n"
     ]
    }
   ],
   "source": [
    "# calculate covariance matrix\n",
    "covariance = cov(Thrust, InitWeight)\n",
    "print(covariance)\n",
    "\n",
    "#calculate pearsonr\n",
    "corr, _ = pearsonr(Thrust, InitWeight)\n",
    "print('Pearsons correlation: %.3f' % corr)"
   ]
  },
  {
   "cell_type": "code",
   "execution_count": 16,
   "metadata": {},
   "outputs": [
    {
     "output_type": "stream",
     "name": "stdout",
     "text": [
      "[[2.54756280e-04 6.02218586e+03]\n [6.02218586e+03 1.86928377e+11]]\nPearsons correlation: 0.873\n"
     ]
    }
   ],
   "source": [
    "# calculate covariance matrix\n",
    "covariance = cov(InitWeight, MaxH)\n",
    "print(covariance)\n",
    "\n",
    "#calculate pearsonr\n",
    "corr,_ = pearsonr(InitWeight, MaxH )\n",
    "print('Pearsons correlation: %.3f' % corr)\n",
    "correlation = corr"
   ]
  },
  {
   "cell_type": "code",
   "execution_count": 17,
   "metadata": {},
   "outputs": [
    {
     "output_type": "display_data",
     "data": {
      "text/plain": "<Figure size 432x288 with 1 Axes>",
      "image/svg+xml": "<?xml version=\"1.0\" encoding=\"utf-8\" standalone=\"no\"?>\n<!DOCTYPE svg PUBLIC \"-//W3C//DTD SVG 1.1//EN\"\n  \"http://www.w3.org/Graphics/SVG/1.1/DTD/svg11.dtd\">\n<svg height=\"347.874375pt\" version=\"1.1\" viewBox=\"0 0 482.98125 347.874375\" width=\"482.98125pt\" xmlns=\"http://www.w3.org/2000/svg\" xmlns:xlink=\"http://www.w3.org/1999/xlink\">\n <metadata>\n  <rdf:RDF xmlns:cc=\"http://creativecommons.org/ns#\" xmlns:dc=\"http://purl.org/dc/elements/1.1/\" xmlns:rdf=\"http://www.w3.org/1999/02/22-rdf-syntax-ns#\">\n   <cc:Work>\n    <dc:type rdf:resource=\"http://purl.org/dc/dcmitype/StillImage\"/>\n    <dc:date>2021-06-26T20:54:49.276433</dc:date>\n    <dc:format>image/svg+xml</dc:format>\n    <dc:creator>\n     <cc:Agent>\n      <dc:title>Matplotlib v3.4.1, https://matplotlib.org/</dc:title>\n     </cc:Agent>\n    </dc:creator>\n   </cc:Work>\n  </rdf:RDF>\n </metadata>\n <defs>\n  <style type=\"text/css\">*{stroke-linecap:butt;stroke-linejoin:round;}</style>\n </defs>\n <g id=\"figure_1\">\n  <g id=\"patch_1\">\n   <path d=\"M 0 347.874375 \nL 482.98125 347.874375 \nL 482.98125 0 \nL 0 0 \nz\n\" style=\"fill:none;\"/>\n  </g>\n  <g id=\"axes_1\">\n   <g id=\"patch_2\">\n    <path d=\"M 43.78125 310.318125 \nL 475.78125 310.318125 \nL 475.78125 22.318125 \nL 43.78125 22.318125 \nz\n\" style=\"fill:#ffffff;\"/>\n   </g>\n   <g id=\"PathCollection_1\">\n    <defs>\n     <path d=\"M 0 3 \nC 0.795609 3 1.55874 2.683901 2.12132 2.12132 \nC 2.683901 1.55874 3 0.795609 3 0 \nC 3 -0.795609 2.683901 -1.55874 2.12132 -2.12132 \nC 1.55874 -2.683901 0.795609 -3 0 -3 \nC -0.795609 -3 -1.55874 -2.683901 -2.12132 -2.12132 \nC -2.683901 -1.55874 -3 -0.795609 -3 0 \nC -3 0.795609 -2.683901 1.55874 -2.12132 2.12132 \nC -1.55874 2.683901 -0.795609 3 0 3 \nz\n\" id=\"m528b919276\" style=\"stroke:#1f77b4;\"/>\n    </defs>\n    <g clip-path=\"url(#p1e3252a09d)\">\n     <use style=\"fill:#1f77b4;stroke:#1f77b4;\" x=\"63.417614\" xlink:href=\"#m528b919276\" y=\"292.049687\"/>\n     <use style=\"fill:#1f77b4;stroke:#1f77b4;\" x=\"63.417614\" xlink:href=\"#m528b919276\" y=\"256.965135\"/>\n     <use style=\"fill:#1f77b4;stroke:#1f77b4;\" x=\"78.788544\" xlink:href=\"#m528b919276\" y=\"202.216802\"/>\n     <use style=\"fill:#1f77b4;stroke:#1f77b4;\" x=\"81.094184\" xlink:href=\"#m528b919276\" y=\"209.846578\"/>\n     <use style=\"fill:#1f77b4;stroke:#1f77b4;\" x=\"135.660987\" xlink:href=\"#m528b919276\" y=\"297.227216\"/>\n     <use style=\"fill:#1f77b4;stroke:#1f77b4;\" x=\"144.883545\" xlink:href=\"#m528b919276\" y=\"281.420246\"/>\n     <use style=\"fill:#1f77b4;stroke:#1f77b4;\" x=\"172.55122\" xlink:href=\"#m528b919276\" y=\"244.057448\"/>\n     <use style=\"fill:#1f77b4;stroke:#1f77b4;\" x=\"181.773778\" xlink:href=\"#m528b919276\" y=\"250.696447\"/>\n     <use style=\"fill:#1f77b4;stroke:#1f77b4;\" x=\"168.708487\" xlink:href=\"#m528b919276\" y=\"240.845542\"/>\n     <use style=\"fill:#1f77b4;stroke:#1f77b4;\" x=\"174.856859\" xlink:href=\"#m528b919276\" y=\"245.759141\"/>\n     <use style=\"fill:#1f77b4;stroke:#1f77b4;\" x=\"211.747092\" xlink:href=\"#m528b919276\" y=\"152.745993\"/>\n     <use style=\"fill:#1f77b4;stroke:#1f77b4;\" x=\"218.664011\" xlink:href=\"#m528b919276\" y=\"163.116403\"/>\n     <use style=\"fill:#1f77b4;stroke:#1f77b4;\" x=\"267.850988\" xlink:href=\"#m528b919276\" y=\"213.317114\"/>\n     <use style=\"fill:#1f77b4;stroke:#1f77b4;\" x=\"276.305\" xlink:href=\"#m528b919276\" y=\"219.199175\"/>\n     <use style=\"fill:#1f77b4;stroke:#1f77b4;\" x=\"344.705641\" xlink:href=\"#m528b919276\" y=\"93.337524\"/>\n     <use style=\"fill:#1f77b4;stroke:#1f77b4;\" x=\"351.622559\" xlink:href=\"#m528b919276\" y=\"102.047071\"/>\n     <use style=\"fill:#1f77b4;stroke:#1f77b4;\" x=\"456.144886\" xlink:href=\"#m528b919276\" y=\"42.01055\"/>\n     <use style=\"fill:#1f77b4;stroke:#1f77b4;\" x=\"456.144886\" xlink:href=\"#m528b919276\" y=\"42.01055\"/>\n     <use style=\"fill:#1f77b4;stroke:#1f77b4;\" x=\"66.4918\" xlink:href=\"#m528b919276\" y=\"262.996594\"/>\n     <use style=\"fill:#1f77b4;stroke:#1f77b4;\" x=\"155.643196\" xlink:href=\"#m528b919276\" y=\"284.833755\"/>\n     <use style=\"fill:#1f77b4;stroke:#1f77b4;\" x=\"190.22779\" xlink:href=\"#m528b919276\" y=\"255.792322\"/>\n     <use style=\"fill:#1f77b4;stroke:#1f77b4;\" x=\"227.118023\" xlink:href=\"#m528b919276\" y=\"174.404174\"/>\n     <use style=\"fill:#1f77b4;stroke:#1f77b4;\" x=\"285.527558\" xlink:href=\"#m528b919276\" y=\"224.98493\"/>\n     <use style=\"fill:#1f77b4;stroke:#1f77b4;\" x=\"358.539478\" xlink:href=\"#m528b919276\" y=\"110.227358\"/>\n     <use style=\"fill:#1f77b4;stroke:#1f77b4;\" x=\"456.144886\" xlink:href=\"#m528b919276\" y=\"42.01055\"/>\n     <use style=\"fill:#1f77b4;stroke:#1f77b4;\" x=\"146.420638\" xlink:href=\"#m528b919276\" y=\"216.598861\"/>\n     <use style=\"fill:#1f77b4;stroke:#1f77b4;\" x=\"194.839069\" xlink:href=\"#m528b919276\" y=\"121.997898\"/>\n     <use style=\"fill:#1f77b4;stroke:#1f77b4;\" x=\"234.034942\" xlink:href=\"#m528b919276\" y=\"182.389327\"/>\n     <use style=\"fill:#1f77b4;stroke:#1f77b4;\" x=\"334.714536\" xlink:href=\"#m528b919276\" y=\"79.726979\"/>\n     <use style=\"fill:#1f77b4;stroke:#1f77b4;\" x=\"358.539478\" xlink:href=\"#m528b919276\" y=\"110.3128\"/>\n     <use style=\"fill:#1f77b4;stroke:#1f77b4;\" x=\"450.765061\" xlink:href=\"#m528b919276\" y=\"35.409034\"/>\n    </g>\n   </g>\n   <g id=\"matplotlib.axis_1\">\n    <g id=\"xtick_1\">\n     <g id=\"line2d_1\">\n      <defs>\n       <path d=\"M 0 0 \nL 0 3.5 \n\" id=\"me2d11dace2\" style=\"stroke:#000000;stroke-width:0.8;\"/>\n      </defs>\n      <g>\n       <use style=\"stroke:#000000;stroke-width:0.8;\" x=\"97.233661\" xlink:href=\"#me2d11dace2\" y=\"310.318125\"/>\n      </g>\n     </g>\n     <g id=\"text_1\">\n      <!-- 0.01 -->\n      <g transform=\"translate(86.100848 324.916562)scale(0.1 -0.1)\">\n       <defs>\n        <path d=\"M 2034 4250 \nQ 1547 4250 1301 3770 \nQ 1056 3291 1056 2328 \nQ 1056 1369 1301 889 \nQ 1547 409 2034 409 \nQ 2525 409 2770 889 \nQ 3016 1369 3016 2328 \nQ 3016 3291 2770 3770 \nQ 2525 4250 2034 4250 \nz\nM 2034 4750 \nQ 2819 4750 3233 4129 \nQ 3647 3509 3647 2328 \nQ 3647 1150 3233 529 \nQ 2819 -91 2034 -91 \nQ 1250 -91 836 529 \nQ 422 1150 422 2328 \nQ 422 3509 836 4129 \nQ 1250 4750 2034 4750 \nz\n\" id=\"DejaVuSans-30\" transform=\"scale(0.015625)\"/>\n        <path d=\"M 684 794 \nL 1344 794 \nL 1344 0 \nL 684 0 \nL 684 794 \nz\n\" id=\"DejaVuSans-2e\" transform=\"scale(0.015625)\"/>\n        <path d=\"M 794 531 \nL 1825 531 \nL 1825 4091 \nL 703 3866 \nL 703 4441 \nL 1819 4666 \nL 2450 4666 \nL 2450 531 \nL 3481 531 \nL 3481 0 \nL 794 0 \nL 794 531 \nz\n\" id=\"DejaVuSans-31\" transform=\"scale(0.015625)\"/>\n       </defs>\n       <use xlink:href=\"#DejaVuSans-30\"/>\n       <use x=\"63.623047\" xlink:href=\"#DejaVuSans-2e\"/>\n       <use x=\"95.410156\" xlink:href=\"#DejaVuSans-30\"/>\n       <use x=\"159.033203\" xlink:href=\"#DejaVuSans-31\"/>\n      </g>\n     </g>\n    </g>\n    <g id=\"xtick_2\">\n     <g id=\"line2d_2\">\n      <g>\n       <use style=\"stroke:#000000;stroke-width:0.8;\" x=\"174.088313\" xlink:href=\"#me2d11dace2\" y=\"310.318125\"/>\n      </g>\n     </g>\n     <g id=\"text_2\">\n      <!-- 0.02 -->\n      <g transform=\"translate(162.9555 324.916562)scale(0.1 -0.1)\">\n       <defs>\n        <path d=\"M 1228 531 \nL 3431 531 \nL 3431 0 \nL 469 0 \nL 469 531 \nQ 828 903 1448 1529 \nQ 2069 2156 2228 2338 \nQ 2531 2678 2651 2914 \nQ 2772 3150 2772 3378 \nQ 2772 3750 2511 3984 \nQ 2250 4219 1831 4219 \nQ 1534 4219 1204 4116 \nQ 875 4013 500 3803 \nL 500 4441 \nQ 881 4594 1212 4672 \nQ 1544 4750 1819 4750 \nQ 2544 4750 2975 4387 \nQ 3406 4025 3406 3419 \nQ 3406 3131 3298 2873 \nQ 3191 2616 2906 2266 \nQ 2828 2175 2409 1742 \nQ 1991 1309 1228 531 \nz\n\" id=\"DejaVuSans-32\" transform=\"scale(0.015625)\"/>\n       </defs>\n       <use xlink:href=\"#DejaVuSans-30\"/>\n       <use x=\"63.623047\" xlink:href=\"#DejaVuSans-2e\"/>\n       <use x=\"95.410156\" xlink:href=\"#DejaVuSans-30\"/>\n       <use x=\"159.033203\" xlink:href=\"#DejaVuSans-32\"/>\n      </g>\n     </g>\n    </g>\n    <g id=\"xtick_3\">\n     <g id=\"line2d_3\">\n      <g>\n       <use style=\"stroke:#000000;stroke-width:0.8;\" x=\"250.942965\" xlink:href=\"#me2d11dace2\" y=\"310.318125\"/>\n      </g>\n     </g>\n     <g id=\"text_3\">\n      <!-- 0.03 -->\n      <g transform=\"translate(239.810152 324.916562)scale(0.1 -0.1)\">\n       <defs>\n        <path d=\"M 2597 2516 \nQ 3050 2419 3304 2112 \nQ 3559 1806 3559 1356 \nQ 3559 666 3084 287 \nQ 2609 -91 1734 -91 \nQ 1441 -91 1130 -33 \nQ 819 25 488 141 \nL 488 750 \nQ 750 597 1062 519 \nQ 1375 441 1716 441 \nQ 2309 441 2620 675 \nQ 2931 909 2931 1356 \nQ 2931 1769 2642 2001 \nQ 2353 2234 1838 2234 \nL 1294 2234 \nL 1294 2753 \nL 1863 2753 \nQ 2328 2753 2575 2939 \nQ 2822 3125 2822 3475 \nQ 2822 3834 2567 4026 \nQ 2313 4219 1838 4219 \nQ 1578 4219 1281 4162 \nQ 984 4106 628 3988 \nL 628 4550 \nQ 988 4650 1302 4700 \nQ 1616 4750 1894 4750 \nQ 2613 4750 3031 4423 \nQ 3450 4097 3450 3541 \nQ 3450 3153 3228 2886 \nQ 3006 2619 2597 2516 \nz\n\" id=\"DejaVuSans-33\" transform=\"scale(0.015625)\"/>\n       </defs>\n       <use xlink:href=\"#DejaVuSans-30\"/>\n       <use x=\"63.623047\" xlink:href=\"#DejaVuSans-2e\"/>\n       <use x=\"95.410156\" xlink:href=\"#DejaVuSans-30\"/>\n       <use x=\"159.033203\" xlink:href=\"#DejaVuSans-33\"/>\n      </g>\n     </g>\n    </g>\n    <g id=\"xtick_4\">\n     <g id=\"line2d_4\">\n      <g>\n       <use style=\"stroke:#000000;stroke-width:0.8;\" x=\"327.797617\" xlink:href=\"#me2d11dace2\" y=\"310.318125\"/>\n      </g>\n     </g>\n     <g id=\"text_4\">\n      <!-- 0.04 -->\n      <g transform=\"translate(316.664805 324.916562)scale(0.1 -0.1)\">\n       <defs>\n        <path d=\"M 2419 4116 \nL 825 1625 \nL 2419 1625 \nL 2419 4116 \nz\nM 2253 4666 \nL 3047 4666 \nL 3047 1625 \nL 3713 1625 \nL 3713 1100 \nL 3047 1100 \nL 3047 0 \nL 2419 0 \nL 2419 1100 \nL 313 1100 \nL 313 1709 \nL 2253 4666 \nz\n\" id=\"DejaVuSans-34\" transform=\"scale(0.015625)\"/>\n       </defs>\n       <use xlink:href=\"#DejaVuSans-30\"/>\n       <use x=\"63.623047\" xlink:href=\"#DejaVuSans-2e\"/>\n       <use x=\"95.410156\" xlink:href=\"#DejaVuSans-30\"/>\n       <use x=\"159.033203\" xlink:href=\"#DejaVuSans-34\"/>\n      </g>\n     </g>\n    </g>\n    <g id=\"xtick_5\">\n     <g id=\"line2d_5\">\n      <g>\n       <use style=\"stroke:#000000;stroke-width:0.8;\" x=\"404.652269\" xlink:href=\"#me2d11dace2\" y=\"310.318125\"/>\n      </g>\n     </g>\n     <g id=\"text_5\">\n      <!-- 0.05 -->\n      <g transform=\"translate(393.519457 324.916562)scale(0.1 -0.1)\">\n       <defs>\n        <path d=\"M 691 4666 \nL 3169 4666 \nL 3169 4134 \nL 1269 4134 \nL 1269 2991 \nQ 1406 3038 1543 3061 \nQ 1681 3084 1819 3084 \nQ 2600 3084 3056 2656 \nQ 3513 2228 3513 1497 \nQ 3513 744 3044 326 \nQ 2575 -91 1722 -91 \nQ 1428 -91 1123 -41 \nQ 819 9 494 109 \nL 494 744 \nQ 775 591 1075 516 \nQ 1375 441 1709 441 \nQ 2250 441 2565 725 \nQ 2881 1009 2881 1497 \nQ 2881 1984 2565 2268 \nQ 2250 2553 1709 2553 \nQ 1456 2553 1204 2497 \nQ 953 2441 691 2322 \nL 691 4666 \nz\n\" id=\"DejaVuSans-35\" transform=\"scale(0.015625)\"/>\n       </defs>\n       <use xlink:href=\"#DejaVuSans-30\"/>\n       <use x=\"63.623047\" xlink:href=\"#DejaVuSans-2e\"/>\n       <use x=\"95.410156\" xlink:href=\"#DejaVuSans-30\"/>\n       <use x=\"159.033203\" xlink:href=\"#DejaVuSans-35\"/>\n      </g>\n     </g>\n    </g>\n    <g id=\"text_6\">\n     <!-- InitWeight -->\n     <g transform=\"translate(234.369531 338.594687)scale(0.1 -0.1)\">\n      <defs>\n       <path d=\"M 628 4666 \nL 1259 4666 \nL 1259 0 \nL 628 0 \nL 628 4666 \nz\n\" id=\"DejaVuSans-49\" transform=\"scale(0.015625)\"/>\n       <path d=\"M 3513 2113 \nL 3513 0 \nL 2938 0 \nL 2938 2094 \nQ 2938 2591 2744 2837 \nQ 2550 3084 2163 3084 \nQ 1697 3084 1428 2787 \nQ 1159 2491 1159 1978 \nL 1159 0 \nL 581 0 \nL 581 3500 \nL 1159 3500 \nL 1159 2956 \nQ 1366 3272 1645 3428 \nQ 1925 3584 2291 3584 \nQ 2894 3584 3203 3211 \nQ 3513 2838 3513 2113 \nz\n\" id=\"DejaVuSans-6e\" transform=\"scale(0.015625)\"/>\n       <path d=\"M 603 3500 \nL 1178 3500 \nL 1178 0 \nL 603 0 \nL 603 3500 \nz\nM 603 4863 \nL 1178 4863 \nL 1178 4134 \nL 603 4134 \nL 603 4863 \nz\n\" id=\"DejaVuSans-69\" transform=\"scale(0.015625)\"/>\n       <path d=\"M 1172 4494 \nL 1172 3500 \nL 2356 3500 \nL 2356 3053 \nL 1172 3053 \nL 1172 1153 \nQ 1172 725 1289 603 \nQ 1406 481 1766 481 \nL 2356 481 \nL 2356 0 \nL 1766 0 \nQ 1100 0 847 248 \nQ 594 497 594 1153 \nL 594 3053 \nL 172 3053 \nL 172 3500 \nL 594 3500 \nL 594 4494 \nL 1172 4494 \nz\n\" id=\"DejaVuSans-74\" transform=\"scale(0.015625)\"/>\n       <path d=\"M 213 4666 \nL 850 4666 \nL 1831 722 \nL 2809 4666 \nL 3519 4666 \nL 4500 722 \nL 5478 4666 \nL 6119 4666 \nL 4947 0 \nL 4153 0 \nL 3169 4050 \nL 2175 0 \nL 1381 0 \nL 213 4666 \nz\n\" id=\"DejaVuSans-57\" transform=\"scale(0.015625)\"/>\n       <path d=\"M 3597 1894 \nL 3597 1613 \nL 953 1613 \nQ 991 1019 1311 708 \nQ 1631 397 2203 397 \nQ 2534 397 2845 478 \nQ 3156 559 3463 722 \nL 3463 178 \nQ 3153 47 2828 -22 \nQ 2503 -91 2169 -91 \nQ 1331 -91 842 396 \nQ 353 884 353 1716 \nQ 353 2575 817 3079 \nQ 1281 3584 2069 3584 \nQ 2775 3584 3186 3129 \nQ 3597 2675 3597 1894 \nz\nM 3022 2063 \nQ 3016 2534 2758 2815 \nQ 2500 3097 2075 3097 \nQ 1594 3097 1305 2825 \nQ 1016 2553 972 2059 \nL 3022 2063 \nz\n\" id=\"DejaVuSans-65\" transform=\"scale(0.015625)\"/>\n       <path d=\"M 2906 1791 \nQ 2906 2416 2648 2759 \nQ 2391 3103 1925 3103 \nQ 1463 3103 1205 2759 \nQ 947 2416 947 1791 \nQ 947 1169 1205 825 \nQ 1463 481 1925 481 \nQ 2391 481 2648 825 \nQ 2906 1169 2906 1791 \nz\nM 3481 434 \nQ 3481 -459 3084 -895 \nQ 2688 -1331 1869 -1331 \nQ 1566 -1331 1297 -1286 \nQ 1028 -1241 775 -1147 \nL 775 -588 \nQ 1028 -725 1275 -790 \nQ 1522 -856 1778 -856 \nQ 2344 -856 2625 -561 \nQ 2906 -266 2906 331 \nL 2906 616 \nQ 2728 306 2450 153 \nQ 2172 0 1784 0 \nQ 1141 0 747 490 \nQ 353 981 353 1791 \nQ 353 2603 747 3093 \nQ 1141 3584 1784 3584 \nQ 2172 3584 2450 3431 \nQ 2728 3278 2906 2969 \nL 2906 3500 \nL 3481 3500 \nL 3481 434 \nz\n\" id=\"DejaVuSans-67\" transform=\"scale(0.015625)\"/>\n       <path d=\"M 3513 2113 \nL 3513 0 \nL 2938 0 \nL 2938 2094 \nQ 2938 2591 2744 2837 \nQ 2550 3084 2163 3084 \nQ 1697 3084 1428 2787 \nQ 1159 2491 1159 1978 \nL 1159 0 \nL 581 0 \nL 581 4863 \nL 1159 4863 \nL 1159 2956 \nQ 1366 3272 1645 3428 \nQ 1925 3584 2291 3584 \nQ 2894 3584 3203 3211 \nQ 3513 2838 3513 2113 \nz\n\" id=\"DejaVuSans-68\" transform=\"scale(0.015625)\"/>\n      </defs>\n      <use xlink:href=\"#DejaVuSans-49\"/>\n      <use x=\"29.492188\" xlink:href=\"#DejaVuSans-6e\"/>\n      <use x=\"92.871094\" xlink:href=\"#DejaVuSans-69\"/>\n      <use x=\"120.654297\" xlink:href=\"#DejaVuSans-74\"/>\n      <use x=\"159.863281\" xlink:href=\"#DejaVuSans-57\"/>\n      <use x=\"252.865234\" xlink:href=\"#DejaVuSans-65\"/>\n      <use x=\"314.388672\" xlink:href=\"#DejaVuSans-69\"/>\n      <use x=\"342.171875\" xlink:href=\"#DejaVuSans-67\"/>\n      <use x=\"405.648438\" xlink:href=\"#DejaVuSans-68\"/>\n      <use x=\"469.027344\" xlink:href=\"#DejaVuSans-74\"/>\n     </g>\n    </g>\n   </g>\n   <g id=\"matplotlib.axis_2\">\n    <g id=\"ytick_1\">\n     <g id=\"line2d_6\">\n      <defs>\n       <path d=\"M 0 0 \nL -3.5 0 \n\" id=\"m1245a1db8e\" style=\"stroke:#000000;stroke-width:0.8;\"/>\n      </defs>\n      <g>\n       <use style=\"stroke:#000000;stroke-width:0.8;\" x=\"43.78125\" xlink:href=\"#m1245a1db8e\" y=\"303.730551\"/>\n      </g>\n     </g>\n     <g id=\"text_7\">\n      <!-- 0.0 -->\n      <g transform=\"translate(20.878125 307.52977)scale(0.1 -0.1)\">\n       <use xlink:href=\"#DejaVuSans-30\"/>\n       <use x=\"63.623047\" xlink:href=\"#DejaVuSans-2e\"/>\n       <use x=\"95.410156\" xlink:href=\"#DejaVuSans-30\"/>\n      </g>\n     </g>\n    </g>\n    <g id=\"ytick_2\">\n     <g id=\"line2d_7\">\n      <g>\n       <use style=\"stroke:#000000;stroke-width:0.8;\" x=\"43.78125\" xlink:href=\"#m1245a1db8e\" y=\"265.368764\"/>\n      </g>\n     </g>\n     <g id=\"text_8\">\n      <!-- 0.2 -->\n      <g transform=\"translate(20.878125 269.167983)scale(0.1 -0.1)\">\n       <use xlink:href=\"#DejaVuSans-30\"/>\n       <use x=\"63.623047\" xlink:href=\"#DejaVuSans-2e\"/>\n       <use x=\"95.410156\" xlink:href=\"#DejaVuSans-32\"/>\n      </g>\n     </g>\n    </g>\n    <g id=\"ytick_3\">\n     <g id=\"line2d_8\">\n      <g>\n       <use style=\"stroke:#000000;stroke-width:0.8;\" x=\"43.78125\" xlink:href=\"#m1245a1db8e\" y=\"227.006978\"/>\n      </g>\n     </g>\n     <g id=\"text_9\">\n      <!-- 0.4 -->\n      <g transform=\"translate(20.878125 230.806196)scale(0.1 -0.1)\">\n       <use xlink:href=\"#DejaVuSans-30\"/>\n       <use x=\"63.623047\" xlink:href=\"#DejaVuSans-2e\"/>\n       <use x=\"95.410156\" xlink:href=\"#DejaVuSans-34\"/>\n      </g>\n     </g>\n    </g>\n    <g id=\"ytick_4\">\n     <g id=\"line2d_9\">\n      <g>\n       <use style=\"stroke:#000000;stroke-width:0.8;\" x=\"43.78125\" xlink:href=\"#m1245a1db8e\" y=\"188.645191\"/>\n      </g>\n     </g>\n     <g id=\"text_10\">\n      <!-- 0.6 -->\n      <g transform=\"translate(20.878125 192.44441)scale(0.1 -0.1)\">\n       <defs>\n        <path d=\"M 2113 2584 \nQ 1688 2584 1439 2293 \nQ 1191 2003 1191 1497 \nQ 1191 994 1439 701 \nQ 1688 409 2113 409 \nQ 2538 409 2786 701 \nQ 3034 994 3034 1497 \nQ 3034 2003 2786 2293 \nQ 2538 2584 2113 2584 \nz\nM 3366 4563 \nL 3366 3988 \nQ 3128 4100 2886 4159 \nQ 2644 4219 2406 4219 \nQ 1781 4219 1451 3797 \nQ 1122 3375 1075 2522 \nQ 1259 2794 1537 2939 \nQ 1816 3084 2150 3084 \nQ 2853 3084 3261 2657 \nQ 3669 2231 3669 1497 \nQ 3669 778 3244 343 \nQ 2819 -91 2113 -91 \nQ 1303 -91 875 529 \nQ 447 1150 447 2328 \nQ 447 3434 972 4092 \nQ 1497 4750 2381 4750 \nQ 2619 4750 2861 4703 \nQ 3103 4656 3366 4563 \nz\n\" id=\"DejaVuSans-36\" transform=\"scale(0.015625)\"/>\n       </defs>\n       <use xlink:href=\"#DejaVuSans-30\"/>\n       <use x=\"63.623047\" xlink:href=\"#DejaVuSans-2e\"/>\n       <use x=\"95.410156\" xlink:href=\"#DejaVuSans-36\"/>\n      </g>\n     </g>\n    </g>\n    <g id=\"ytick_5\">\n     <g id=\"line2d_10\">\n      <g>\n       <use style=\"stroke:#000000;stroke-width:0.8;\" x=\"43.78125\" xlink:href=\"#m1245a1db8e\" y=\"150.283404\"/>\n      </g>\n     </g>\n     <g id=\"text_11\">\n      <!-- 0.8 -->\n      <g transform=\"translate(20.878125 154.082623)scale(0.1 -0.1)\">\n       <defs>\n        <path d=\"M 2034 2216 \nQ 1584 2216 1326 1975 \nQ 1069 1734 1069 1313 \nQ 1069 891 1326 650 \nQ 1584 409 2034 409 \nQ 2484 409 2743 651 \nQ 3003 894 3003 1313 \nQ 3003 1734 2745 1975 \nQ 2488 2216 2034 2216 \nz\nM 1403 2484 \nQ 997 2584 770 2862 \nQ 544 3141 544 3541 \nQ 544 4100 942 4425 \nQ 1341 4750 2034 4750 \nQ 2731 4750 3128 4425 \nQ 3525 4100 3525 3541 \nQ 3525 3141 3298 2862 \nQ 3072 2584 2669 2484 \nQ 3125 2378 3379 2068 \nQ 3634 1759 3634 1313 \nQ 3634 634 3220 271 \nQ 2806 -91 2034 -91 \nQ 1263 -91 848 271 \nQ 434 634 434 1313 \nQ 434 1759 690 2068 \nQ 947 2378 1403 2484 \nz\nM 1172 3481 \nQ 1172 3119 1398 2916 \nQ 1625 2713 2034 2713 \nQ 2441 2713 2670 2916 \nQ 2900 3119 2900 3481 \nQ 2900 3844 2670 4047 \nQ 2441 4250 2034 4250 \nQ 1625 4250 1398 4047 \nQ 1172 3844 1172 3481 \nz\n\" id=\"DejaVuSans-38\" transform=\"scale(0.015625)\"/>\n       </defs>\n       <use xlink:href=\"#DejaVuSans-30\"/>\n       <use x=\"63.623047\" xlink:href=\"#DejaVuSans-2e\"/>\n       <use x=\"95.410156\" xlink:href=\"#DejaVuSans-38\"/>\n      </g>\n     </g>\n    </g>\n    <g id=\"ytick_6\">\n     <g id=\"line2d_11\">\n      <g>\n       <use style=\"stroke:#000000;stroke-width:0.8;\" x=\"43.78125\" xlink:href=\"#m1245a1db8e\" y=\"111.921618\"/>\n      </g>\n     </g>\n     <g id=\"text_12\">\n      <!-- 1.0 -->\n      <g transform=\"translate(20.878125 115.720836)scale(0.1 -0.1)\">\n       <use xlink:href=\"#DejaVuSans-31\"/>\n       <use x=\"63.623047\" xlink:href=\"#DejaVuSans-2e\"/>\n       <use x=\"95.410156\" xlink:href=\"#DejaVuSans-30\"/>\n      </g>\n     </g>\n    </g>\n    <g id=\"ytick_7\">\n     <g id=\"line2d_12\">\n      <g>\n       <use style=\"stroke:#000000;stroke-width:0.8;\" x=\"43.78125\" xlink:href=\"#m1245a1db8e\" y=\"73.559831\"/>\n      </g>\n     </g>\n     <g id=\"text_13\">\n      <!-- 1.2 -->\n      <g transform=\"translate(20.878125 77.35905)scale(0.1 -0.1)\">\n       <use xlink:href=\"#DejaVuSans-31\"/>\n       <use x=\"63.623047\" xlink:href=\"#DejaVuSans-2e\"/>\n       <use x=\"95.410156\" xlink:href=\"#DejaVuSans-32\"/>\n      </g>\n     </g>\n    </g>\n    <g id=\"ytick_8\">\n     <g id=\"line2d_13\">\n      <g>\n       <use style=\"stroke:#000000;stroke-width:0.8;\" x=\"43.78125\" xlink:href=\"#m1245a1db8e\" y=\"35.198044\"/>\n      </g>\n     </g>\n     <g id=\"text_14\">\n      <!-- 1.4 -->\n      <g transform=\"translate(20.878125 38.997263)scale(0.1 -0.1)\">\n       <use xlink:href=\"#DejaVuSans-31\"/>\n       <use x=\"63.623047\" xlink:href=\"#DejaVuSans-2e\"/>\n       <use x=\"95.410156\" xlink:href=\"#DejaVuSans-34\"/>\n      </g>\n     </g>\n    </g>\n    <g id=\"text_15\">\n     <!-- MaxH -->\n     <g transform=\"translate(14.798437 180.415781)rotate(-90)scale(0.1 -0.1)\">\n      <defs>\n       <path d=\"M 628 4666 \nL 1569 4666 \nL 2759 1491 \nL 3956 4666 \nL 4897 4666 \nL 4897 0 \nL 4281 0 \nL 4281 4097 \nL 3078 897 \nL 2444 897 \nL 1241 4097 \nL 1241 0 \nL 628 0 \nL 628 4666 \nz\n\" id=\"DejaVuSans-4d\" transform=\"scale(0.015625)\"/>\n       <path d=\"M 2194 1759 \nQ 1497 1759 1228 1600 \nQ 959 1441 959 1056 \nQ 959 750 1161 570 \nQ 1363 391 1709 391 \nQ 2188 391 2477 730 \nQ 2766 1069 2766 1631 \nL 2766 1759 \nL 2194 1759 \nz\nM 3341 1997 \nL 3341 0 \nL 2766 0 \nL 2766 531 \nQ 2569 213 2275 61 \nQ 1981 -91 1556 -91 \nQ 1019 -91 701 211 \nQ 384 513 384 1019 \nQ 384 1609 779 1909 \nQ 1175 2209 1959 2209 \nL 2766 2209 \nL 2766 2266 \nQ 2766 2663 2505 2880 \nQ 2244 3097 1772 3097 \nQ 1472 3097 1187 3025 \nQ 903 2953 641 2809 \nL 641 3341 \nQ 956 3463 1253 3523 \nQ 1550 3584 1831 3584 \nQ 2591 3584 2966 3190 \nQ 3341 2797 3341 1997 \nz\n\" id=\"DejaVuSans-61\" transform=\"scale(0.015625)\"/>\n       <path d=\"M 3513 3500 \nL 2247 1797 \nL 3578 0 \nL 2900 0 \nL 1881 1375 \nL 863 0 \nL 184 0 \nL 1544 1831 \nL 300 3500 \nL 978 3500 \nL 1906 2253 \nL 2834 3500 \nL 3513 3500 \nz\n\" id=\"DejaVuSans-78\" transform=\"scale(0.015625)\"/>\n       <path d=\"M 628 4666 \nL 1259 4666 \nL 1259 2753 \nL 3553 2753 \nL 3553 4666 \nL 4184 4666 \nL 4184 0 \nL 3553 0 \nL 3553 2222 \nL 1259 2222 \nL 1259 0 \nL 628 0 \nL 628 4666 \nz\n\" id=\"DejaVuSans-48\" transform=\"scale(0.015625)\"/>\n      </defs>\n      <use xlink:href=\"#DejaVuSans-4d\"/>\n      <use x=\"86.279297\" xlink:href=\"#DejaVuSans-61\"/>\n      <use x=\"147.558594\" xlink:href=\"#DejaVuSans-78\"/>\n      <use x=\"206.738281\" xlink:href=\"#DejaVuSans-48\"/>\n     </g>\n    </g>\n    <g id=\"text_16\">\n     <!-- 1e6 -->\n     <g transform=\"translate(43.78125 19.318125)scale(0.1 -0.1)\">\n      <use xlink:href=\"#DejaVuSans-31\"/>\n      <use x=\"63.623047\" xlink:href=\"#DejaVuSans-65\"/>\n      <use x=\"125.146484\" xlink:href=\"#DejaVuSans-36\"/>\n     </g>\n    </g>\n   </g>\n   <g id=\"patch_3\">\n    <path d=\"M 43.78125 310.318125 \nL 43.78125 22.318125 \n\" style=\"fill:none;stroke:#000000;stroke-linecap:square;stroke-linejoin:miter;stroke-width:0.8;\"/>\n   </g>\n   <g id=\"patch_4\">\n    <path d=\"M 475.78125 310.318125 \nL 475.78125 22.318125 \n\" style=\"fill:none;stroke:#000000;stroke-linecap:square;stroke-linejoin:miter;stroke-width:0.8;\"/>\n   </g>\n   <g id=\"patch_5\">\n    <path d=\"M 43.78125 310.318125 \nL 475.78125 310.318125 \n\" style=\"fill:none;stroke:#000000;stroke-linecap:square;stroke-linejoin:miter;stroke-width:0.8;\"/>\n   </g>\n   <g id=\"patch_6\">\n    <path d=\"M 43.78125 22.318125 \nL 475.78125 22.318125 \n\" style=\"fill:none;stroke:#000000;stroke-linecap:square;stroke-linejoin:miter;stroke-width:0.8;\"/>\n   </g>\n   <g id=\"text_17\">\n    <!-- scatter plot -->\n    <g transform=\"translate(225.410625 16.318125)scale(0.12 -0.12)\">\n     <defs>\n      <path d=\"M 2834 3397 \nL 2834 2853 \nQ 2591 2978 2328 3040 \nQ 2066 3103 1784 3103 \nQ 1356 3103 1142 2972 \nQ 928 2841 928 2578 \nQ 928 2378 1081 2264 \nQ 1234 2150 1697 2047 \nL 1894 2003 \nQ 2506 1872 2764 1633 \nQ 3022 1394 3022 966 \nQ 3022 478 2636 193 \nQ 2250 -91 1575 -91 \nQ 1294 -91 989 -36 \nQ 684 19 347 128 \nL 347 722 \nQ 666 556 975 473 \nQ 1284 391 1588 391 \nQ 1994 391 2212 530 \nQ 2431 669 2431 922 \nQ 2431 1156 2273 1281 \nQ 2116 1406 1581 1522 \nL 1381 1569 \nQ 847 1681 609 1914 \nQ 372 2147 372 2553 \nQ 372 3047 722 3315 \nQ 1072 3584 1716 3584 \nQ 2034 3584 2315 3537 \nQ 2597 3491 2834 3397 \nz\n\" id=\"DejaVuSans-73\" transform=\"scale(0.015625)\"/>\n      <path d=\"M 3122 3366 \nL 3122 2828 \nQ 2878 2963 2633 3030 \nQ 2388 3097 2138 3097 \nQ 1578 3097 1268 2742 \nQ 959 2388 959 1747 \nQ 959 1106 1268 751 \nQ 1578 397 2138 397 \nQ 2388 397 2633 464 \nQ 2878 531 3122 666 \nL 3122 134 \nQ 2881 22 2623 -34 \nQ 2366 -91 2075 -91 \nQ 1284 -91 818 406 \nQ 353 903 353 1747 \nQ 353 2603 823 3093 \nQ 1294 3584 2113 3584 \nQ 2378 3584 2631 3529 \nQ 2884 3475 3122 3366 \nz\n\" id=\"DejaVuSans-63\" transform=\"scale(0.015625)\"/>\n      <path d=\"M 2631 2963 \nQ 2534 3019 2420 3045 \nQ 2306 3072 2169 3072 \nQ 1681 3072 1420 2755 \nQ 1159 2438 1159 1844 \nL 1159 0 \nL 581 0 \nL 581 3500 \nL 1159 3500 \nL 1159 2956 \nQ 1341 3275 1631 3429 \nQ 1922 3584 2338 3584 \nQ 2397 3584 2469 3576 \nQ 2541 3569 2628 3553 \nL 2631 2963 \nz\n\" id=\"DejaVuSans-72\" transform=\"scale(0.015625)\"/>\n      <path id=\"DejaVuSans-20\" transform=\"scale(0.015625)\"/>\n      <path d=\"M 1159 525 \nL 1159 -1331 \nL 581 -1331 \nL 581 3500 \nL 1159 3500 \nL 1159 2969 \nQ 1341 3281 1617 3432 \nQ 1894 3584 2278 3584 \nQ 2916 3584 3314 3078 \nQ 3713 2572 3713 1747 \nQ 3713 922 3314 415 \nQ 2916 -91 2278 -91 \nQ 1894 -91 1617 61 \nQ 1341 213 1159 525 \nz\nM 3116 1747 \nQ 3116 2381 2855 2742 \nQ 2594 3103 2138 3103 \nQ 1681 3103 1420 2742 \nQ 1159 2381 1159 1747 \nQ 1159 1113 1420 752 \nQ 1681 391 2138 391 \nQ 2594 391 2855 752 \nQ 3116 1113 3116 1747 \nz\n\" id=\"DejaVuSans-70\" transform=\"scale(0.015625)\"/>\n      <path d=\"M 603 4863 \nL 1178 4863 \nL 1178 0 \nL 603 0 \nL 603 4863 \nz\n\" id=\"DejaVuSans-6c\" transform=\"scale(0.015625)\"/>\n      <path d=\"M 1959 3097 \nQ 1497 3097 1228 2736 \nQ 959 2375 959 1747 \nQ 959 1119 1226 758 \nQ 1494 397 1959 397 \nQ 2419 397 2687 759 \nQ 2956 1122 2956 1747 \nQ 2956 2369 2687 2733 \nQ 2419 3097 1959 3097 \nz\nM 1959 3584 \nQ 2709 3584 3137 3096 \nQ 3566 2609 3566 1747 \nQ 3566 888 3137 398 \nQ 2709 -91 1959 -91 \nQ 1206 -91 779 398 \nQ 353 888 353 1747 \nQ 353 2609 779 3096 \nQ 1206 3584 1959 3584 \nz\n\" id=\"DejaVuSans-6f\" transform=\"scale(0.015625)\"/>\n     </defs>\n     <use xlink:href=\"#DejaVuSans-73\"/>\n     <use x=\"52.099609\" xlink:href=\"#DejaVuSans-63\"/>\n     <use x=\"107.080078\" xlink:href=\"#DejaVuSans-61\"/>\n     <use x=\"168.359375\" xlink:href=\"#DejaVuSans-74\"/>\n     <use x=\"207.568359\" xlink:href=\"#DejaVuSans-74\"/>\n     <use x=\"246.777344\" xlink:href=\"#DejaVuSans-65\"/>\n     <use x=\"308.300781\" xlink:href=\"#DejaVuSans-72\"/>\n     <use x=\"349.414062\" xlink:href=\"#DejaVuSans-20\"/>\n     <use x=\"381.201172\" xlink:href=\"#DejaVuSans-70\"/>\n     <use x=\"444.677734\" xlink:href=\"#DejaVuSans-6c\"/>\n     <use x=\"472.460938\" xlink:href=\"#DejaVuSans-6f\"/>\n     <use x=\"533.642578\" xlink:href=\"#DejaVuSans-74\"/>\n    </g>\n   </g>\n  </g>\n </g>\n <defs>\n  <clipPath id=\"p1e3252a09d\">\n   <rect height=\"288\" width=\"432\" x=\"43.78125\" y=\"22.318125\"/>\n  </clipPath>\n </defs>\n</svg>\n",
      "image/png": "[encoded data removed]"
     },
     "metadata": {
      "needs_background": "light"
     }
    }
   ],
   "source": [
    "fig=plt.figure()\n",
    "ax=fig.add_axes([0,0,1,1])\n",
    "plt.scatter(df['Initial Weight(kg)'], df['Max Height'])\n",
    "\n",
    "\n",
    "\n",
    "ax.set_xlabel('InitWeight')\n",
    "ax.set_ylabel('MaxH')\n",
    "ax.set_title('scatter plot')\n",
    "plt.show()"
   ]
  },
  {
   "cell_type": "code",
   "execution_count": 18,
   "metadata": {},
   "outputs": [
    {
     "output_type": "execute_result",
     "data": {
      "text/plain": [
       "    Prod Engine Type  Total Impulse (N/S) Time Delay(Sec.)  Max Lift Wt(g)  \\\n",
       "0   1502    1/4A3-3T                0.625                3              28   \n",
       "1   1503    1/2A3-2T                1.250                2              57   \n",
       "2   1507       A3-4T                2.500                4              57   \n",
       "3   1511      A10-3T                2.500                3              85   \n",
       "18  1504    1/2A3-4T                1.250                4              28   \n",
       "\n",
       "    Max Thrust(newtons)  Thrust Duration(second)  Initial Weight(g)  \\\n",
       "0                   4.9                     0.25                5.6   \n",
       "1                   8.3                     0.30                5.6   \n",
       "2                   6.8                     0.60                7.6   \n",
       "3                  13.0                     0.80                7.9   \n",
       "18                  8.3                     0.30                6.0   \n",
       "\n",
       "    Propellant Weight(g)    Thrust  Initial Weight(kg)            v  \\\n",
       "0                   0.85  2.500000              0.0056  1091.300000   \n",
       "1                   1.75  4.166667              0.0056  2184.560000   \n",
       "2                   3.50  4.166667              0.0076  3217.804211   \n",
       "3                   3.78  3.125000              0.0079  3093.425823   \n",
       "18                  1.75  4.166667              0.0060  2038.726667   \n",
       "\n",
       "              y              x     Max Height  \n",
       "0    136.412500   60762.025000   60898.437500  \n",
       "1    327.684000  243484.816000  243812.500000  \n",
       "2    965.341263  528278.772310  529244.113573  \n",
       "3   1237.370329  488228.740871  489466.111200  \n",
       "18   305.809000  212061.552111  212367.361111  "
      ],
      "text/html": "<div>\n<style scoped>\n    .dataframe tbody tr th:only-of-type {\n        vertical-align: middle;\n    }\n\n    .dataframe tbody tr th {\n        vertical-align: top;\n    }\n\n    .dataframe thead th {\n        text-align: right;\n    }\n</style>\n<table border=\"1\" class=\"dataframe\">\n  <thead>\n    <tr style=\"text-align: right;\">\n      <th></th>\n      <th>Prod</th>\n      <th>Engine Type</th>\n      <th>Total Impulse (N/S)</th>\n      <th>Time Delay(Sec.)</th>\n      <th>Max Lift Wt(g)</th>\n      <th>Max Thrust(newtons)</th>\n      <th>Thrust Duration(second)</th>\n      <th>Initial Weight(g)</th>\n      <th>Propellant Weight(g)</th>\n      <th>Thrust</th>\n      <th>Initial Weight(kg)</th>\n      <th>v</th>\n      <th>y</th>\n      <th>x</th>\n      <th>Max Height</th>\n    </tr>\n  </thead>\n  <tbody>\n    <tr>\n      <th>0</th>\n      <td>1502</td>\n      <td>1/4A3-3T</td>\n      <td>0.625</td>\n      <td>3</td>\n      <td>28</td>\n      <td>4.9</td>\n      <td>0.25</td>\n      <td>5.6</td>\n      <td>0.85</td>\n      <td>2.500000</td>\n      <td>0.0056</td>\n      <td>1091.300000</td>\n      <td>136.412500</td>\n      <td>60762.025000</td>\n      <td>60898.437500</td>\n    </tr>\n    <tr>\n      <th>1</th>\n      <td>1503</td>\n      <td>1/2A3-2T</td>\n      <td>1.250</td>\n      <td>2</td>\n      <td>57</td>\n      <td>8.3</td>\n      <td>0.30</td>\n      <td>5.6</td>\n      <td>1.75</td>\n      <td>4.166667</td>\n      <td>0.0056</td>\n      <td>2184.560000</td>\n      <td>327.684000</td>\n      <td>243484.816000</td>\n      <td>243812.500000</td>\n    </tr>\n    <tr>\n      <th>2</th>\n      <td>1507</td>\n      <td>A3-4T</td>\n      <td>2.500</td>\n      <td>4</td>\n      <td>57</td>\n      <td>6.8</td>\n      <td>0.60</td>\n      <td>7.6</td>\n      <td>3.50</td>\n      <td>4.166667</td>\n      <td>0.0076</td>\n      <td>3217.804211</td>\n      <td>965.341263</td>\n      <td>528278.772310</td>\n      <td>529244.113573</td>\n    </tr>\n    <tr>\n      <th>3</th>\n      <td>1511</td>\n      <td>A10-3T</td>\n      <td>2.500</td>\n      <td>3</td>\n      <td>85</td>\n      <td>13.0</td>\n      <td>0.80</td>\n      <td>7.9</td>\n      <td>3.78</td>\n      <td>3.125000</td>\n      <td>0.0079</td>\n      <td>3093.425823</td>\n      <td>1237.370329</td>\n      <td>488228.740871</td>\n      <td>489466.111200</td>\n    </tr>\n    <tr>\n      <th>18</th>\n      <td>1504</td>\n      <td>1/2A3-4T</td>\n      <td>1.250</td>\n      <td>4</td>\n      <td>28</td>\n      <td>8.3</td>\n      <td>0.30</td>\n      <td>6.0</td>\n      <td>1.75</td>\n      <td>4.166667</td>\n      <td>0.0060</td>\n      <td>2038.726667</td>\n      <td>305.809000</td>\n      <td>212061.552111</td>\n      <td>212367.361111</td>\n    </tr>\n  </tbody>\n</table>\n</div>"
     },
     "metadata": {},
     "execution_count": 18
    }
   ],
   "source": [
    "# the point at the left bottom corner seems to be a good y-intercept\n",
    "df[df['Initial Weight(g)']<10]"
   ]
  },
  {
   "source": [
    "Because initial weight and the maximum height has quite a strong correlation, we might be able to predict the maximum height just simply with the initial weight of the rocket engine given\n",
    "- According to what I learned in AP statistics we can get the slope by Correlation*(Sy/Sx)\n",
    "- Could have used the linear regression in SkLearn\n"
   ],
   "cell_type": "markdown",
   "metadata": {}
  },
  {
   "cell_type": "code",
   "execution_count": 19,
   "metadata": {},
   "outputs": [
    {
     "output_type": "stream",
     "name": "stdout",
     "text": [
      "The predicted max height of the rocket engine with initial mass, 0.0269 , is 244448.38932924604.\n"
     ]
    }
   ],
   "source": [
    "\n",
    "initialweight = 0.0269\n",
    "\n",
    "\n",
    "# slope = correlation * (stdev(MaxH)/stdev(InitWeight))= 23639.00852215812\n",
    "\n",
    "# use min maxheight as y intercept since it was close\n",
    "\n",
    "function = 243812.500000 + 23639.00852215812 * initialweight\n",
    "\n",
    "print('The predicted max height of the rocket engine with initial mass, ' + str(initialweight) + ' , is ' + str(function) + '.' )\n",
    "\n"
   ]
  },
  {
   "cell_type": "code",
   "execution_count": 20,
   "metadata": {},
   "outputs": [
    {
     "output_type": "execute_result",
     "data": {
      "text/plain": [
       "   Prod Engine Type  Total Impulse (N/S) Time Delay(Sec.)  Max Lift Wt(g)  \\\n",
       "0  1502    1/4A3-3T                0.625                3              28   \n",
       "\n",
       "   Max Thrust(newtons)  Thrust Duration(second)  Initial Weight(g)  \\\n",
       "0                  4.9                     0.25                5.6   \n",
       "\n",
       "   Propellant Weight(g)  Thrust  Initial Weight(kg)       v         y  \\\n",
       "0                  0.85     2.5              0.0056  1091.3  136.4125   \n",
       "\n",
       "           x  Max Height  \n",
       "0  60762.025  60898.4375  "
      ],
      "text/html": "<div>\n<style scoped>\n    .dataframe tbody tr th:only-of-type {\n        vertical-align: middle;\n    }\n\n    .dataframe tbody tr th {\n        vertical-align: top;\n    }\n\n    .dataframe thead th {\n        text-align: right;\n    }\n</style>\n<table border=\"1\" class=\"dataframe\">\n  <thead>\n    <tr style=\"text-align: right;\">\n      <th></th>\n      <th>Prod</th>\n      <th>Engine Type</th>\n      <th>Total Impulse (N/S)</th>\n      <th>Time Delay(Sec.)</th>\n      <th>Max Lift Wt(g)</th>\n      <th>Max Thrust(newtons)</th>\n      <th>Thrust Duration(second)</th>\n      <th>Initial Weight(g)</th>\n      <th>Propellant Weight(g)</th>\n      <th>Thrust</th>\n      <th>Initial Weight(kg)</th>\n      <th>v</th>\n      <th>y</th>\n      <th>x</th>\n      <th>Max Height</th>\n    </tr>\n  </thead>\n  <tbody>\n    <tr>\n      <th>0</th>\n      <td>1502</td>\n      <td>1/4A3-3T</td>\n      <td>0.625</td>\n      <td>3</td>\n      <td>28</td>\n      <td>4.9</td>\n      <td>0.25</td>\n      <td>5.6</td>\n      <td>0.85</td>\n      <td>2.5</td>\n      <td>0.0056</td>\n      <td>1091.3</td>\n      <td>136.4125</td>\n      <td>60762.025</td>\n      <td>60898.4375</td>\n    </tr>\n  </tbody>\n</table>\n</div>"
     },
     "metadata": {},
     "execution_count": 20
    }
   ],
   "source": [
    "df.head(1)"
   ]
  },
  {
   "cell_type": "code",
   "execution_count": 21,
   "metadata": {},
   "outputs": [],
   "source": [
    "#Percentage Error\n",
    "\n",
    "df['Predicted Max Height (Line)'] = df['Initial Weight(kg)']* 1574497.707 + 553005.2946\n",
    "df['Percent Error (%)'] = (df['Max Height']-df['Predicted Max Height (Line)'])/df['Max Height'] * 100"
   ]
  },
  {
   "cell_type": "code",
   "execution_count": 22,
   "metadata": {},
   "outputs": [
    {
     "output_type": "execute_result",
     "data": {
      "text/plain": [
       "    Prod Engine Type  Total Impulse (N/S) Time Delay(Sec.)  Max Lift Wt(g)  \\\n",
       "0   1502    1/4A3-3T                0.625                3              28   \n",
       "1   1503    1/2A3-2T                1.250                2              57   \n",
       "2   1507       A3-4T                2.500                4              57   \n",
       "3   1511      A10-3T                2.500                3              85   \n",
       "4   1593     1/2A6-2                1.250                2              57   \n",
       "5   1598        A8-3                2.500                3              85   \n",
       "6   1601        B4-2                5.000                2             113   \n",
       "7   1602        B4-4                5.000                4              99   \n",
       "8   1605        B6-2                5.000                2             127   \n",
       "9   1606        B6-4                5.000                4             113   \n",
       "10  1613        C6-3               10.000                3             113   \n",
       "11  1614        C6-5               10.000                5             113   \n",
       "12  1622       C11-3               10.000                3             170   \n",
       "13  1623       C11-5               10.000                5             142   \n",
       "14  1666       D12-3               20.000                3             396   \n",
       "15  1667       D12-5               20.000                5             283   \n",
       "16  1673        E9-4               30.000                4             425   \n",
       "17  1674        E9-6               30.000                6             340   \n",
       "18  1504    1/2A3-4T                1.250                4              28   \n",
       "19  1599        A8-5                2.500                5              57   \n",
       "20  1607        B6-6                5.000                6              71   \n",
       "21  1615        C6-7               10.000                7              71   \n",
       "22  1624       C11-7               10.000                7             113   \n",
       "23  1668       D12-7               20.000                7             226   \n",
       "24  1675        E9-8               30.000                8             283   \n",
       "25  1608        B6-0                5.000             None             113   \n",
       "26  1616        C6-0               10.000             None             113   \n",
       "27  1621       C11-0               10.000             None             170   \n",
       "28  1665       D12-0               20.000             None             396   \n",
       "29  1669       D11-P               20.000             None             453   \n",
       "30  1676        E9-P               30.000             None             425   \n",
       "\n",
       "    Max Thrust(newtons)  Thrust Duration(second)  Initial Weight(g)  \\\n",
       "0                   4.9                     0.25                5.6   \n",
       "1                   8.3                     0.30                5.6   \n",
       "2                   6.8                     0.60                7.6   \n",
       "3                  13.0                     0.80                7.9   \n",
       "4                   8.9                     0.30               15.0   \n",
       "5                  10.7                     0.50               16.2   \n",
       "6                  13.2                     1.10               19.8   \n",
       "7                  13.2                     1.10               21.0   \n",
       "8                  12.1                     0.80               19.3   \n",
       "9                  12.1                     0.80               20.1   \n",
       "10                 15.3                     1.60               24.9   \n",
       "11                 15.3                     1.60               25.8   \n",
       "12                 22.1                     0.80               32.2   \n",
       "13                 22.1                     0.80               33.3   \n",
       "14                 32.9                     1.60               42.2   \n",
       "15                 32.9                     1.60               43.1   \n",
       "16                 25.0                     2.80               56.7   \n",
       "17                 25.0                     2.80               56.7   \n",
       "18                  8.3                     0.30                6.0   \n",
       "19                 13.3                     0.50               17.6   \n",
       "20                 12.1                     0.80               22.1   \n",
       "21                 15.3                     1.60               26.9   \n",
       "22                 22.1                     0.80               34.5   \n",
       "23                 32.9                     1.60               44.0   \n",
       "24                 25.0                     2.80               56.7   \n",
       "25                 12.1                     0.80               16.4   \n",
       "26                 15.3                     1.60               22.7   \n",
       "27                 22.1                     0.80               27.8   \n",
       "28                 32.9                     1.60               40.9   \n",
       "29                 27.6                     1.80               44.0   \n",
       "30                 25.0                     2.80               56.0   \n",
       "\n",
       "    Propellant Weight(g)     Thrust  Initial Weight(kg)            v  \\\n",
       "0                   0.85   2.500000              0.0056  1091.300000   \n",
       "1                   1.75   4.166667              0.0056  2184.560000   \n",
       "2                   3.50   4.166667              0.0076  3217.804211   \n",
       "3                   3.78   3.125000              0.0079  3093.425823   \n",
       "4                   1.56   4.166667              0.0150   813.726667   \n",
       "5                   3.12   5.000000              0.0162  1507.445679   \n",
       "6                   8.33   4.545455              0.0198  2463.967475   \n",
       "7                   8.33   4.545455              0.0210  2322.553333   \n",
       "8                   6.24   6.250000              0.0193  2531.020104   \n",
       "9                   6.24   6.250000              0.0201  2429.970945   \n",
       "10                 12.48   6.250000              0.0249  3920.062972   \n",
       "11                 12.48   6.250000              0.0258  3782.769612   \n",
       "12                 11.00  12.500000              0.0322  3035.638261   \n",
       "13                 11.00  12.500000              0.0333  2935.102943   \n",
       "14                 24.93  12.500000              0.0422  4628.869763   \n",
       "15                 24.93  12.500000              0.0431  4531.883805   \n",
       "16                 35.80  10.714286              0.0567  5157.745185   \n",
       "17                 35.80  10.714286              0.0567  5157.745185   \n",
       "18                  1.75   4.166667              0.0060  2038.726667   \n",
       "19                  3.12   5.000000              0.0176  1387.145455   \n",
       "20                  6.24   6.250000              0.0221  2209.354570   \n",
       "21                 12.48   6.250000              0.0269  3627.442677   \n",
       "22                 11.00  12.500000              0.0345  2832.739710   \n",
       "23                 24.93  12.500000              0.0440  4438.865455   \n",
       "24                 35.80  10.714286              0.0567  5157.745185   \n",
       "25                  6.24   6.250000              0.0164  2979.964878   \n",
       "26                 12.48   6.250000              0.0227  4301.500617   \n",
       "27                 11.00  12.500000              0.0278  3517.339856   \n",
       "28                 24.93  12.500000              0.0409  4776.496039   \n",
       "29                 24.93  11.111111              0.0440  4436.905455   \n",
       "30                 35.80  10.714286              0.0560  5222.560000   \n",
       "\n",
       "              y             x    Max Height  Predicted Max Height (Line)  \\\n",
       "0    136.412500  6.076203e+04  6.089844e+04                561822.481759   \n",
       "1    327.684000  2.434848e+05  2.438125e+05                561822.481759   \n",
       "2    965.341263  5.282788e+05  5.292441e+05                564971.477173   \n",
       "3   1237.370329  4.882287e+05  4.894661e+05                565443.826485   \n",
       "4    122.059000  3.378322e+04  3.390528e+04                576622.760205   \n",
       "5    376.861420  1.159384e+05  1.163153e+05                578512.157453   \n",
       "6   1355.182111  3.097518e+05  3.111070e+05                584180.349199   \n",
       "7   1277.404333  2.752170e+05  2.764944e+05                586069.746447   \n",
       "8   1012.408041  3.268399e+05  3.278523e+05                583393.100345   \n",
       "9    971.988378  3.012632e+05  3.022352e+05                584652.698511   \n",
       "10  3136.050378  7.840252e+05  7.871612e+05                592210.287504   \n",
       "11  3026.215690  7.300687e+05  7.330949e+05                593627.335441   \n",
       "12  1214.255304  4.701581e+05  4.713724e+05                603704.120765   \n",
       "13  1174.041177  4.395321e+05  4.407061e+05                605436.068243   \n",
       "14  3703.095810  1.093185e+06  1.096889e+06                619449.097835   \n",
       "15  3625.507044  1.047856e+06  1.051481e+06                620866.145772   \n",
       "16  7220.843259  1.357262e+06  1.364483e+06                642279.314587   \n",
       "17  7220.843259  1.357262e+06  1.364483e+06                642279.314587   \n",
       "18   305.809000  2.120616e+05  2.123674e+05                562452.280842   \n",
       "19   346.786364  9.817207e+04  9.851885e+04                580716.454243   \n",
       "20   883.741828  2.490432e+05  2.499270e+05                587801.693925   \n",
       "21  2901.954141  6.713439e+05  6.742459e+05                595359.282918   \n",
       "22  1133.095884  4.094089e+05  4.105420e+05                607325.465491   \n",
       "23  3551.092364  1.005282e+06  1.008833e+06                622283.193708   \n",
       "24  7220.843259  1.357262e+06  1.364483e+06                642279.314587   \n",
       "25  1191.985951  4.530710e+05  4.542629e+05                578827.056995   \n",
       "26  3441.200493  9.440259e+05  9.474671e+05                588746.392549   \n",
       "27  1406.935942  6.312081e+05  6.326151e+05                596776.330855   \n",
       "28  3821.196831  1.164026e+06  1.167847e+06                617402.250816   \n",
       "29  3993.214909  1.004394e+06  1.008388e+06                622283.193708   \n",
       "30  7311.584000  1.391588e+06  1.398900e+06                641177.166192   \n",
       "\n",
       "    Percent Error (%)  \n",
       "0         -822.556481  \n",
       "1         -130.432189  \n",
       "2           -6.750640  \n",
       "3          -15.522569  \n",
       "4        -1600.687321  \n",
       "5         -397.365687  \n",
       "6          -87.774734  \n",
       "7         -111.964384  \n",
       "8          -77.943855  \n",
       "9          -93.442959  \n",
       "10          24.766330  \n",
       "11          19.024488  \n",
       "12         -28.073710  \n",
       "13         -37.378630  \n",
       "14          43.526707  \n",
       "15          40.953184  \n",
       "16          52.928737  \n",
       "17          52.928737  \n",
       "18        -164.848740  \n",
       "19        -489.447029  \n",
       "20        -135.189365  \n",
       "21          11.699971  \n",
       "22         -47.932607  \n",
       "23          38.316534  \n",
       "24          52.928737  \n",
       "25         -27.421149  \n",
       "26          37.861020  \n",
       "27           5.665175  \n",
       "28          47.133313  \n",
       "29          38.289286  \n",
       "30          54.165618  "
      ],
      "text/html": "<div>\n<style scoped>\n    .dataframe tbody tr th:only-of-type {\n        vertical-align: middle;\n    }\n\n    .dataframe tbody tr th {\n        vertical-align: top;\n    }\n\n    .dataframe thead th {\n        text-align: right;\n    }\n</style>\n<table border=\"1\" class=\"dataframe\">\n  <thead>\n    <tr style=\"text-align: right;\">\n      <th></th>\n      <th>Prod</th>\n      <th>Engine Type</th>\n      <th>Total Impulse (N/S)</th>\n      <th>Time Delay(Sec.)</th>\n      <th>Max Lift Wt(g)</th>\n      <th>Max Thrust(newtons)</th>\n      <th>Thrust Duration(second)</th>\n      <th>Initial Weight(g)</th>\n      <th>Propellant Weight(g)</th>\n      <th>Thrust</th>\n      <th>Initial Weight(kg)</th>\n      <th>v</th>\n      <th>y</th>\n      <th>x</th>\n      <th>Max Height</th>\n      <th>Predicted Max Height (Line)</th>\n      <th>Percent Error (%)</th>\n    </tr>\n  </thead>\n  <tbody>\n    <tr>\n      <th>0</th>\n      <td>1502</td>\n      <td>1/4A3-3T</td>\n      <td>0.625</td>\n      <td>3</td>\n      <td>28</td>\n      <td>4.9</td>\n      <td>0.25</td>\n      <td>5.6</td>\n      <td>0.85</td>\n      <td>2.500000</td>\n      <td>0.0056</td>\n      <td>1091.300000</td>\n      <td>136.412500</td>\n      <td>6.076203e+04</td>\n      <td>6.089844e+04</td>\n      <td>561822.481759</td>\n      <td>-822.556481</td>\n    </tr>\n    <tr>\n      <th>1</th>\n      <td>1503</td>\n      <td>1/2A3-2T</td>\n      <td>1.250</td>\n      <td>2</td>\n      <td>57</td>\n      <td>8.3</td>\n      <td>0.30</td>\n      <td>5.6</td>\n      <td>1.75</td>\n      <td>4.166667</td>\n      <td>0.0056</td>\n      <td>2184.560000</td>\n      <td>327.684000</td>\n      <td>2.434848e+05</td>\n      <td>2.438125e+05</td>\n      <td>561822.481759</td>\n      <td>-130.432189</td>\n    </tr>\n    <tr>\n      <th>2</th>\n      <td>1507</td>\n      <td>A3-4T</td>\n      <td>2.500</td>\n      <td>4</td>\n      <td>57</td>\n      <td>6.8</td>\n      <td>0.60</td>\n      <td>7.6</td>\n      <td>3.50</td>\n      <td>4.166667</td>\n      <td>0.0076</td>\n      <td>3217.804211</td>\n      <td>965.341263</td>\n      <td>5.282788e+05</td>\n      <td>5.292441e+05</td>\n      <td>564971.477173</td>\n      <td>-6.750640</td>\n    </tr>\n    <tr>\n      <th>3</th>\n      <td>1511</td>\n      <td>A10-3T</td>\n      <td>2.500</td>\n      <td>3</td>\n      <td>85</td>\n      <td>13.0</td>\n      <td>0.80</td>\n      <td>7.9</td>\n      <td>3.78</td>\n      <td>3.125000</td>\n      <td>0.0079</td>\n      <td>3093.425823</td>\n      <td>1237.370329</td>\n      <td>4.882287e+05</td>\n      <td>4.894661e+05</td>\n      <td>565443.826485</td>\n      <td>-15.522569</td>\n    </tr>\n    <tr>\n      <th>4</th>\n      <td>1593</td>\n      <td>1/2A6-2</td>\n      <td>1.250</td>\n      <td>2</td>\n      <td>57</td>\n      <td>8.9</td>\n      <td>0.30</td>\n      <td>15.0</td>\n      <td>1.56</td>\n      <td>4.166667</td>\n      <td>0.0150</td>\n      <td>813.726667</td>\n      <td>122.059000</td>\n      <td>3.378322e+04</td>\n      <td>3.390528e+04</td>\n      <td>576622.760205</td>\n      <td>-1600.687321</td>\n    </tr>\n    <tr>\n      <th>5</th>\n      <td>1598</td>\n      <td>A8-3</td>\n      <td>2.500</td>\n      <td>3</td>\n      <td>85</td>\n      <td>10.7</td>\n      <td>0.50</td>\n      <td>16.2</td>\n      <td>3.12</td>\n      <td>5.000000</td>\n      <td>0.0162</td>\n      <td>1507.445679</td>\n      <td>376.861420</td>\n      <td>1.159384e+05</td>\n      <td>1.163153e+05</td>\n      <td>578512.157453</td>\n      <td>-397.365687</td>\n    </tr>\n    <tr>\n      <th>6</th>\n      <td>1601</td>\n      <td>B4-2</td>\n      <td>5.000</td>\n      <td>2</td>\n      <td>113</td>\n      <td>13.2</td>\n      <td>1.10</td>\n      <td>19.8</td>\n      <td>8.33</td>\n      <td>4.545455</td>\n      <td>0.0198</td>\n      <td>2463.967475</td>\n      <td>1355.182111</td>\n      <td>3.097518e+05</td>\n      <td>3.111070e+05</td>\n      <td>584180.349199</td>\n      <td>-87.774734</td>\n    </tr>\n    <tr>\n      <th>7</th>\n      <td>1602</td>\n      <td>B4-4</td>\n      <td>5.000</td>\n      <td>4</td>\n      <td>99</td>\n      <td>13.2</td>\n      <td>1.10</td>\n      <td>21.0</td>\n      <td>8.33</td>\n      <td>4.545455</td>\n      <td>0.0210</td>\n      <td>2322.553333</td>\n      <td>1277.404333</td>\n      <td>2.752170e+05</td>\n      <td>2.764944e+05</td>\n      <td>586069.746447</td>\n      <td>-111.964384</td>\n    </tr>\n    <tr>\n      <th>8</th>\n      <td>1605</td>\n      <td>B6-2</td>\n      <td>5.000</td>\n      <td>2</td>\n      <td>127</td>\n      <td>12.1</td>\n      <td>0.80</td>\n      <td>19.3</td>\n      <td>6.24</td>\n      <td>6.250000</td>\n      <td>0.0193</td>\n      <td>2531.020104</td>\n      <td>1012.408041</td>\n      <td>3.268399e+05</td>\n      <td>3.278523e+05</td>\n      <td>583393.100345</td>\n      <td>-77.943855</td>\n    </tr>\n    <tr>\n      <th>9</th>\n      <td>1606</td>\n      <td>B6-4</td>\n      <td>5.000</td>\n      <td>4</td>\n      <td>113</td>\n      <td>12.1</td>\n      <td>0.80</td>\n      <td>20.1</td>\n      <td>6.24</td>\n      <td>6.250000</td>\n      <td>0.0201</td>\n      <td>2429.970945</td>\n      <td>971.988378</td>\n      <td>3.012632e+05</td>\n      <td>3.022352e+05</td>\n      <td>584652.698511</td>\n      <td>-93.442959</td>\n    </tr>\n    <tr>\n      <th>10</th>\n      <td>1613</td>\n      <td>C6-3</td>\n      <td>10.000</td>\n      <td>3</td>\n      <td>113</td>\n      <td>15.3</td>\n      <td>1.60</td>\n      <td>24.9</td>\n      <td>12.48</td>\n      <td>6.250000</td>\n      <td>0.0249</td>\n      <td>3920.062972</td>\n      <td>3136.050378</td>\n      <td>7.840252e+05</td>\n      <td>7.871612e+05</td>\n      <td>592210.287504</td>\n      <td>24.766330</td>\n    </tr>\n    <tr>\n      <th>11</th>\n      <td>1614</td>\n      <td>C6-5</td>\n      <td>10.000</td>\n      <td>5</td>\n      <td>113</td>\n      <td>15.3</td>\n      <td>1.60</td>\n      <td>25.8</td>\n      <td>12.48</td>\n      <td>6.250000</td>\n      <td>0.0258</td>\n      <td>3782.769612</td>\n      <td>3026.215690</td>\n      <td>7.300687e+05</td>\n      <td>7.330949e+05</td>\n      <td>593627.335441</td>\n      <td>19.024488</td>\n    </tr>\n    <tr>\n      <th>12</th>\n      <td>1622</td>\n      <td>C11-3</td>\n      <td>10.000</td>\n      <td>3</td>\n      <td>170</td>\n      <td>22.1</td>\n      <td>0.80</td>\n      <td>32.2</td>\n      <td>11.00</td>\n      <td>12.500000</td>\n      <td>0.0322</td>\n      <td>3035.638261</td>\n      <td>1214.255304</td>\n      <td>4.701581e+05</td>\n      <td>4.713724e+05</td>\n      <td>603704.120765</td>\n      <td>-28.073710</td>\n    </tr>\n    <tr>\n      <th>13</th>\n      <td>1623</td>\n      <td>C11-5</td>\n      <td>10.000</td>\n      <td>5</td>\n      <td>142</td>\n      <td>22.1</td>\n      <td>0.80</td>\n      <td>33.3</td>\n      <td>11.00</td>\n      <td>12.500000</td>\n      <td>0.0333</td>\n      <td>2935.102943</td>\n      <td>1174.041177</td>\n      <td>4.395321e+05</td>\n      <td>4.407061e+05</td>\n      <td>605436.068243</td>\n      <td>-37.378630</td>\n    </tr>\n    <tr>\n      <th>14</th>\n      <td>1666</td>\n      <td>D12-3</td>\n      <td>20.000</td>\n      <td>3</td>\n      <td>396</td>\n      <td>32.9</td>\n      <td>1.60</td>\n      <td>42.2</td>\n      <td>24.93</td>\n      <td>12.500000</td>\n      <td>0.0422</td>\n      <td>4628.869763</td>\n      <td>3703.095810</td>\n      <td>1.093185e+06</td>\n      <td>1.096889e+06</td>\n      <td>619449.097835</td>\n      <td>43.526707</td>\n    </tr>\n    <tr>\n      <th>15</th>\n      <td>1667</td>\n      <td>D12-5</td>\n      <td>20.000</td>\n      <td>5</td>\n      <td>283</td>\n      <td>32.9</td>\n      <td>1.60</td>\n      <td>43.1</td>\n      <td>24.93</td>\n      <td>12.500000</td>\n      <td>0.0431</td>\n      <td>4531.883805</td>\n      <td>3625.507044</td>\n      <td>1.047856e+06</td>\n      <td>1.051481e+06</td>\n      <td>620866.145772</td>\n      <td>40.953184</td>\n    </tr>\n    <tr>\n      <th>16</th>\n      <td>1673</td>\n      <td>E9-4</td>\n      <td>30.000</td>\n      <td>4</td>\n      <td>425</td>\n      <td>25.0</td>\n      <td>2.80</td>\n      <td>56.7</td>\n      <td>35.80</td>\n      <td>10.714286</td>\n      <td>0.0567</td>\n      <td>5157.745185</td>\n      <td>7220.843259</td>\n      <td>1.357262e+06</td>\n      <td>1.364483e+06</td>\n      <td>642279.314587</td>\n      <td>52.928737</td>\n    </tr>\n    <tr>\n      <th>17</th>\n      <td>1674</td>\n      <td>E9-6</td>\n      <td>30.000</td>\n      <td>6</td>\n      <td>340</td>\n      <td>25.0</td>\n      <td>2.80</td>\n      <td>56.7</td>\n      <td>35.80</td>\n      <td>10.714286</td>\n      <td>0.0567</td>\n      <td>5157.745185</td>\n      <td>7220.843259</td>\n      <td>1.357262e+06</td>\n      <td>1.364483e+06</td>\n      <td>642279.314587</td>\n      <td>52.928737</td>\n    </tr>\n    <tr>\n      <th>18</th>\n      <td>1504</td>\n      <td>1/2A3-4T</td>\n      <td>1.250</td>\n      <td>4</td>\n      <td>28</td>\n      <td>8.3</td>\n      <td>0.30</td>\n      <td>6.0</td>\n      <td>1.75</td>\n      <td>4.166667</td>\n      <td>0.0060</td>\n      <td>2038.726667</td>\n      <td>305.809000</td>\n      <td>2.120616e+05</td>\n      <td>2.123674e+05</td>\n      <td>562452.280842</td>\n      <td>-164.848740</td>\n    </tr>\n    <tr>\n      <th>19</th>\n      <td>1599</td>\n      <td>A8-5</td>\n      <td>2.500</td>\n      <td>5</td>\n      <td>57</td>\n      <td>13.3</td>\n      <td>0.50</td>\n      <td>17.6</td>\n      <td>3.12</td>\n      <td>5.000000</td>\n      <td>0.0176</td>\n      <td>1387.145455</td>\n      <td>346.786364</td>\n      <td>9.817207e+04</td>\n      <td>9.851885e+04</td>\n      <td>580716.454243</td>\n      <td>-489.447029</td>\n    </tr>\n    <tr>\n      <th>20</th>\n      <td>1607</td>\n      <td>B6-6</td>\n      <td>5.000</td>\n      <td>6</td>\n      <td>71</td>\n      <td>12.1</td>\n      <td>0.80</td>\n      <td>22.1</td>\n      <td>6.24</td>\n      <td>6.250000</td>\n      <td>0.0221</td>\n      <td>2209.354570</td>\n      <td>883.741828</td>\n      <td>2.490432e+05</td>\n      <td>2.499270e+05</td>\n      <td>587801.693925</td>\n      <td>-135.189365</td>\n    </tr>\n    <tr>\n      <th>21</th>\n      <td>1615</td>\n      <td>C6-7</td>\n      <td>10.000</td>\n      <td>7</td>\n      <td>71</td>\n      <td>15.3</td>\n      <td>1.60</td>\n      <td>26.9</td>\n      <td>12.48</td>\n      <td>6.250000</td>\n      <td>0.0269</td>\n      <td>3627.442677</td>\n      <td>2901.954141</td>\n      <td>6.713439e+05</td>\n      <td>6.742459e+05</td>\n      <td>595359.282918</td>\n      <td>11.699971</td>\n    </tr>\n    <tr>\n      <th>22</th>\n      <td>1624</td>\n      <td>C11-7</td>\n      <td>10.000</td>\n      <td>7</td>\n      <td>113</td>\n      <td>22.1</td>\n      <td>0.80</td>\n      <td>34.5</td>\n      <td>11.00</td>\n      <td>12.500000</td>\n      <td>0.0345</td>\n      <td>2832.739710</td>\n      <td>1133.095884</td>\n      <td>4.094089e+05</td>\n      <td>4.105420e+05</td>\n      <td>607325.465491</td>\n      <td>-47.932607</td>\n    </tr>\n    <tr>\n      <th>23</th>\n      <td>1668</td>\n      <td>D12-7</td>\n      <td>20.000</td>\n      <td>7</td>\n      <td>226</td>\n      <td>32.9</td>\n      <td>1.60</td>\n      <td>44.0</td>\n      <td>24.93</td>\n      <td>12.500000</td>\n      <td>0.0440</td>\n      <td>4438.865455</td>\n      <td>3551.092364</td>\n      <td>1.005282e+06</td>\n      <td>1.008833e+06</td>\n      <td>622283.193708</td>\n      <td>38.316534</td>\n    </tr>\n    <tr>\n      <th>24</th>\n      <td>1675</td>\n      <td>E9-8</td>\n      <td>30.000</td>\n      <td>8</td>\n      <td>283</td>\n      <td>25.0</td>\n      <td>2.80</td>\n      <td>56.7</td>\n      <td>35.80</td>\n      <td>10.714286</td>\n      <td>0.0567</td>\n      <td>5157.745185</td>\n      <td>7220.843259</td>\n      <td>1.357262e+06</td>\n      <td>1.364483e+06</td>\n      <td>642279.314587</td>\n      <td>52.928737</td>\n    </tr>\n    <tr>\n      <th>25</th>\n      <td>1608</td>\n      <td>B6-0</td>\n      <td>5.000</td>\n      <td>None</td>\n      <td>113</td>\n      <td>12.1</td>\n      <td>0.80</td>\n      <td>16.4</td>\n      <td>6.24</td>\n      <td>6.250000</td>\n      <td>0.0164</td>\n      <td>2979.964878</td>\n      <td>1191.985951</td>\n      <td>4.530710e+05</td>\n      <td>4.542629e+05</td>\n      <td>578827.056995</td>\n      <td>-27.421149</td>\n    </tr>\n    <tr>\n      <th>26</th>\n      <td>1616</td>\n      <td>C6-0</td>\n      <td>10.000</td>\n      <td>None</td>\n      <td>113</td>\n      <td>15.3</td>\n      <td>1.60</td>\n      <td>22.7</td>\n      <td>12.48</td>\n      <td>6.250000</td>\n      <td>0.0227</td>\n      <td>4301.500617</td>\n      <td>3441.200493</td>\n      <td>9.440259e+05</td>\n      <td>9.474671e+05</td>\n      <td>588746.392549</td>\n      <td>37.861020</td>\n    </tr>\n    <tr>\n      <th>27</th>\n      <td>1621</td>\n      <td>C11-0</td>\n      <td>10.000</td>\n      <td>None</td>\n      <td>170</td>\n      <td>22.1</td>\n      <td>0.80</td>\n      <td>27.8</td>\n      <td>11.00</td>\n      <td>12.500000</td>\n      <td>0.0278</td>\n      <td>3517.339856</td>\n      <td>1406.935942</td>\n      <td>6.312081e+05</td>\n      <td>6.326151e+05</td>\n      <td>596776.330855</td>\n      <td>5.665175</td>\n    </tr>\n    <tr>\n      <th>28</th>\n      <td>1665</td>\n      <td>D12-0</td>\n      <td>20.000</td>\n      <td>None</td>\n      <td>396</td>\n      <td>32.9</td>\n      <td>1.60</td>\n      <td>40.9</td>\n      <td>24.93</td>\n      <td>12.500000</td>\n      <td>0.0409</td>\n      <td>4776.496039</td>\n      <td>3821.196831</td>\n      <td>1.164026e+06</td>\n      <td>1.167847e+06</td>\n      <td>617402.250816</td>\n      <td>47.133313</td>\n    </tr>\n    <tr>\n      <th>29</th>\n      <td>1669</td>\n      <td>D11-P</td>\n      <td>20.000</td>\n      <td>None</td>\n      <td>453</td>\n      <td>27.6</td>\n      <td>1.80</td>\n      <td>44.0</td>\n      <td>24.93</td>\n      <td>11.111111</td>\n      <td>0.0440</td>\n      <td>4436.905455</td>\n      <td>3993.214909</td>\n      <td>1.004394e+06</td>\n      <td>1.008388e+06</td>\n      <td>622283.193708</td>\n      <td>38.289286</td>\n    </tr>\n    <tr>\n      <th>30</th>\n      <td>1676</td>\n      <td>E9-P</td>\n      <td>30.000</td>\n      <td>None</td>\n      <td>425</td>\n      <td>25.0</td>\n      <td>2.80</td>\n      <td>56.0</td>\n      <td>35.80</td>\n      <td>10.714286</td>\n      <td>0.0560</td>\n      <td>5222.560000</td>\n      <td>7311.584000</td>\n      <td>1.391588e+06</td>\n      <td>1.398900e+06</td>\n      <td>641177.166192</td>\n      <td>54.165618</td>\n    </tr>\n  </tbody>\n</table>\n</div>"
     },
     "metadata": {},
     "execution_count": 22
    }
   ],
   "source": [
    "df"
   ]
  },
  {
   "source": [
    "Findings: This linear model is definitely not the way you should predict the maximum height. But it is a way that I learned in stats class and I am glad I get to put in what I learned into the real context. Of course, other than the initial weight there are still many other factors that have to be take into account when calculating the maximum height that a rocket can reach. Could have used the machine learning model to predict the maximum height of the rocket in the future."
   ],
   "cell_type": "markdown",
   "metadata": {}
  },
  {
   "source": [
    "The calculation here is just a breif and a really simplified version of calculation, expecting the weight of the engine is initial weight given in the data.\n",
    "\n",
    "Reference: http://www.rocketmime.com/rockets/rckt_eqn.html#Method"
   ],
   "cell_type": "markdown",
   "metadata": {}
  },
  {
   "cell_type": "code",
   "execution_count": null,
   "metadata": {},
   "outputs": [],
   "source": []
  }
 ]
}